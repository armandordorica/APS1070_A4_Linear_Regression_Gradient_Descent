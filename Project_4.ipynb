{
  "nbformat": 4,
  "nbformat_minor": 0,
  "metadata": {
    "colab": {
      "name": "Project_4.ipynb",
      "provenance": [],
      "collapsed_sections": [],
      "toc_visible": true,
      "include_colab_link": true
    },
    "kernelspec": {
      "display_name": "Python 3",
      "language": "python",
      "name": "python3"
    },
    "language_info": {
      "codemirror_mode": {
        "name": "ipython",
        "version": 3
      },
      "file_extension": ".py",
      "mimetype": "text/x-python",
      "name": "python",
      "nbconvert_exporter": "python",
      "pygments_lexer": "ipython3",
      "version": "3.7.4"
    },
    "accelerator": "GPU"
  },
  "cells": [
    {
      "cell_type": "markdown",
      "metadata": {
        "id": "view-in-github",
        "colab_type": "text"
      },
      "source": [
        "<a href=\"https://colab.research.google.com/github/armandordorica/APS1070_A4_Linear_Regression_Gradient_Descent/blob/master/Project_4.ipynb\" target=\"_parent\"><img src=\"https://colab.research.google.com/assets/colab-badge.svg\" alt=\"Open In Colab\"/></a>"
      ]
    },
    {
      "cell_type": "markdown",
      "metadata": {
        "colab_type": "text",
        "id": "OTpnyUEJrAjE"
      },
      "source": [
        "# Project 4, APS1070 Summer 2020\n",
        "#### **Linear Regression -  20 points**\n",
        "**Deadline: Aug 2, 23:00**\n",
        "\n",
        "**Academic Integrity**\n",
        "\n",
        "This project is individual - it is to be completed on your own. If you have questions, please post your query in the APS1070 Piazza Q&A forums (the answer might be useful to others!).\n",
        "\n",
        "Do not share your code with others, or post your work online. Do not submit code that you have not written yourself. Students suspected of plagiarism on a project, midterm or exam will be referred to the department for formal discipline for breaches of the Student Code of Conduct."
      ]
    },
    {
      "cell_type": "markdown",
      "metadata": {
        "colab_type": "text",
        "id": "fUdJ6xw3rJIG"
      },
      "source": [
        "Please fill out the following:\n",
        "\n",
        "\n",
        "*   Your **name**: Armando Ordorica\n",
        "*   Your **student number**: 100 559 2164\n",
        "\n"
      ]
    },
    {
      "cell_type": "markdown",
      "metadata": {
        "colab_type": "text",
        "id": "o4UwjkNZ3NGk"
      },
      "source": [
        "## Part 1 - Getting Started [1 mark]"
      ]
    },
    {
      "cell_type": "markdown",
      "metadata": {
        "id": "Y62qieYVbct2",
        "colab_type": "text"
      },
      "source": [
        "In this project, we are designing a controller to manage the ailerons of an F16 Aircraft! \n",
        "![Ailerons](https://raw.githubusercontent.com/aps1070-2019/datasets/master/img/airplane.gif) [Ref](https://www.grc.nasa.gov/www/k-12/BGA/Mike/airplane_parts_act.htm) \n",
        "\n",
        "\n",
        "The features describe the airplane's status, and the target is to predict the `Goal` column, which is a command that our controller should issue."
      ]
    },
    {
      "cell_type": "code",
      "metadata": {
        "id": "wVI7N2nWbct3",
        "colab_type": "code",
        "colab": {}
      },
      "source": [
        "import pandas as pd\n",
        "import numpy as np\n",
        "df=pd.read_csv(\"https://raw.githubusercontent.com/aps1070-2019/datasets/master/F16L.csv\" , skipinitialspace=True)"
      ],
      "execution_count": 381,
      "outputs": []
    },
    {
      "cell_type": "code",
      "metadata": {
        "id": "5JloxsI6hfsX",
        "colab_type": "code",
        "colab": {
          "base_uri": "https://localhost:8080/",
          "height": 245
        },
        "outputId": "0b959ff4-629d-49a3-c7ef-7820015e0cfe"
      },
      "source": [
        "df.describe"
      ],
      "execution_count": 382,
      "outputs": [
        {
          "output_type": "execute_result",
          "data": {
            "text/plain": [
              "<bound method NDFrame.describe of        inputs ClimbRate  Sgz     P     Q  ...  DiffSeTime14  Alpha     Se    Goal\n",
              "0                   -17   -6 -0.03  0.14  ...           0.0    0.6  0.021 -0.0008\n",
              "1                  -791   15 -0.28 -0.34  ...           0.0    0.4  0.013 -0.0009\n",
              "2                   -46   48 -0.42  0.07  ...           0.0    0.5  0.019 -0.0005\n",
              "3                   496   -5 -0.21 -0.04  ...           0.0    0.5  0.017 -0.0005\n",
              "4                  -124   16 -0.02  0.05  ...           0.0    0.5  0.018 -0.0006\n",
              "...                 ...  ...   ...   ...  ...           ...    ...    ...     ...\n",
              "13745               -53  -13 -0.07  0.02  ...           0.0    0.5  0.019 -0.0007\n",
              "13746                 1    4 -0.11 -0.07  ...           0.0    0.5  0.016 -0.0004\n",
              "13747               425  -14  0.40  0.07  ...           0.0    0.9  0.032 -0.0015\n",
              "13748               102  -10 -0.19  0.08  ...           0.0    1.4  0.051 -0.0015\n",
              "13749              -165   52  0.08  0.42  ...           0.0    0.9  0.034 -0.0018\n",
              "\n",
              "[13750 rows x 41 columns]>"
            ]
          },
          "metadata": {
            "tags": []
          },
          "execution_count": 382
        }
      ]
    },
    {
      "cell_type": "markdown",
      "metadata": {
        "colab_type": "text",
        "id": "MKRMb9Ju3NGl"
      },
      "source": [
        "1. Split the dataset into training/validation sets (80% training, 20% validation). Note: While splitting use the value of **random state=41**.\n",
        "2. Standardize the data using StandardScaler from sklearn."
      ]
    },
    {
      "cell_type": "code",
      "metadata": {
        "id": "17vf-Wi3cs2C",
        "colab_type": "code",
        "colab": {
          "base_uri": "https://localhost:8080/",
          "height": 163
        },
        "outputId": "db59ce77-cf4f-4006-d8f2-8048791b15b0"
      },
      "source": [
        "df.columns"
      ],
      "execution_count": 383,
      "outputs": [
        {
          "output_type": "execute_result",
          "data": {
            "text/plain": [
              "Index(['inputs ClimbRate', 'Sgz', 'P', 'Q', 'CurPitch', 'CurRoll', 'AbsRoll',\n",
              "       'DiffClb', 'DiffRollRate', 'DiffDiffClb', 'SeTime1', 'SeTime2',\n",
              "       'SeTime3', 'SeTime4', 'SeTime5', 'SeTime6', 'SeTime7', 'SeTime8',\n",
              "       'SeTime9', 'SeTime10', 'SeTime11', 'SeTime12', 'SeTime13', 'SeTime14',\n",
              "       'DiffSeTime1', 'DiffSeTime2', 'DiffSeTime3', 'DiffSeTime4',\n",
              "       'DiffSeTime5', 'DiffSeTime6', 'DiffSeTime7', 'DiffSeTime8',\n",
              "       'DiffSeTime9', 'DiffSeTime10', 'DiffSeTime11', 'DiffSeTime12',\n",
              "       'DiffSeTime13', 'DiffSeTime14', 'Alpha', 'Se', 'Goal'],\n",
              "      dtype='object')"
            ]
          },
          "metadata": {
            "tags": []
          },
          "execution_count": 383
        }
      ]
    },
    {
      "cell_type": "code",
      "metadata": {
        "id": "Kbnk7x7Mhhmm",
        "colab_type": "code",
        "colab": {
          "base_uri": "https://localhost:8080/",
          "height": 862
        },
        "outputId": "b8e94e16-9b4f-4a9c-a151-dc366e8250e8"
      },
      "source": [
        "cols = list(df.columns)\n",
        "X_cols = cols[:-1]\n",
        "\n",
        "X = df[X_cols]\n",
        "y = df[cols[-1]]\n",
        "\n",
        "import numpy as np\n",
        "from sklearn.model_selection import train_test_split\n",
        "\n",
        "X_train, X_test, y_train, y_test = train_test_split(X, y, test_size=0.20, random_state=41)\n",
        "X_train, X_test, y_train, y_test"
      ],
      "execution_count": 384,
      "outputs": [
        {
          "output_type": "execute_result",
          "data": {
            "text/plain": [
              "(       inputs ClimbRate  Sgz     P  ...  DiffSeTime14  Alpha     Se\n",
              " 1755                -38  -24 -0.20  ...           0.0    0.5  0.018\n",
              " 11435                 3   16  0.43  ...           0.0    0.5  0.019\n",
              " 6528                381   60  0.25  ...           0.0    0.6  0.022\n",
              " 10868               -68  -23  0.48  ...           0.0    1.0  0.034\n",
              " 2848                 86  -15  0.03  ...           0.0    1.4  0.049\n",
              " ...                 ...  ...   ...  ...           ...    ...    ...\n",
              " 5200                452  -64  0.48  ...           0.0    0.5  0.017\n",
              " 4066                -91  -20  0.06  ...           0.0    0.9  0.032\n",
              " 12172                16   33  0.49  ...           0.0    0.7  0.025\n",
              " 931                  19  -22 -0.21  ...           0.0    0.7  0.025\n",
              " 1984                 33  -40 -0.02  ...           0.0    0.6  0.020\n",
              " \n",
              " [11000 rows x 40 columns],\n",
              "       inputs ClimbRate  Sgz     P  ...  DiffSeTime14  Alpha     Se\n",
              " 576                -39  -20 -0.04  ...           0.0    0.5  0.019\n",
              " 3195                21    4 -0.26  ...           0.0    1.3  0.045\n",
              " 210                -99  -45 -0.80  ...           0.0    0.9  0.034\n",
              " 9718               -73   -1 -0.17  ...           0.0    0.5  0.017\n",
              " 5439              -190  -37  0.55  ...           0.0    0.6  0.022\n",
              " ...                ...  ...   ...  ...           ...    ...    ...\n",
              " 2174               176  -11  0.46  ...           0.0    0.6  0.020\n",
              " 9025              -713   15  0.47  ...           0.0    0.6  0.018\n",
              " 8109              -323  -24  0.24  ...           0.0    0.5  0.017\n",
              " 5022                53  -14 -0.15  ...           0.0    1.1  0.041\n",
              " 6039              -381  -15 -0.21  ...           0.0    0.5  0.017\n",
              " \n",
              " [2750 rows x 40 columns],\n",
              " 1755    -0.0004\n",
              " 11435   -0.0010\n",
              " 6528    -0.0007\n",
              " 10868   -0.0012\n",
              " 2848    -0.0022\n",
              "           ...  \n",
              " 5200    -0.0008\n",
              " 4066    -0.0013\n",
              " 12172   -0.0018\n",
              " 931     -0.0006\n",
              " 1984    -0.0010\n",
              " Name: Goal, Length: 11000, dtype: float64,\n",
              " 576    -0.0004\n",
              " 3195   -0.0020\n",
              " 210    -0.0016\n",
              " 9718   -0.0006\n",
              " 5439   -0.0015\n",
              "          ...  \n",
              " 2174   -0.0011\n",
              " 9025   -0.0006\n",
              " 8109   -0.0006\n",
              " 5022   -0.0013\n",
              " 6039   -0.0004\n",
              " Name: Goal, Length: 2750, dtype: float64)"
            ]
          },
          "metadata": {
            "tags": []
          },
          "execution_count": 384
        }
      ]
    },
    {
      "cell_type": "markdown",
      "metadata": {
        "id": "GLGSinzX-GBr",
        "colab_type": "text"
      },
      "source": [
        "**Standardizing the data**"
      ]
    },
    {
      "cell_type": "code",
      "metadata": {
        "id": "iU0YeofAclTC",
        "colab_type": "code",
        "colab": {}
      },
      "source": [
        "from sklearn.preprocessing import StandardScaler\n",
        "\n",
        "X_train_scaled = StandardScaler().fit_transform(X_train)\n",
        "X_train_scaled_df = pd.DataFrame(X_train_scaled, index=X_train.index, columns=X_cols)\n",
        "\n",
        "X_test_scaled = StandardScaler().fit_transform(X_test)\n",
        "X_test_scaled_df = pd.DataFrame(X_test_scaled, index=X_test.index, columns=X_cols)\n",
        "\n",
        "y_train_scaled = StandardScaler().fit_transform(np.array(y_train).reshape(-1,1))\n",
        "y_train_scaled_df = pd.DataFrame(y_train_scaled, index=y_train.index, columns=['Goal'])\n",
        "\n",
        "y_test_scaled = StandardScaler().fit_transform(np.array(y_test).reshape(-1,1))\n",
        "y_test_scaled_df = pd.DataFrame(y_test_scaled, index=y_test.index, columns=['Goal'])\n"
      ],
      "execution_count": 385,
      "outputs": []
    },
    {
      "cell_type": "code",
      "metadata": {
        "id": "65ZKYuRnk8hu",
        "colab_type": "code",
        "colab": {}
      },
      "source": [
        "# np.array(y_train).reshape(-1,1)"
      ],
      "execution_count": 386,
      "outputs": []
    },
    {
      "cell_type": "code",
      "metadata": {
        "id": "1x2SUs_qlz1Q",
        "colab_type": "code",
        "colab": {}
      },
      "source": [
        "# X_test_scaled_df"
      ],
      "execution_count": 387,
      "outputs": []
    },
    {
      "cell_type": "markdown",
      "metadata": {
        "id": "EQ6KBnbpbcuE",
        "colab_type": "text"
      },
      "source": [
        "## Part 2 - Direct Solution [1 mark]"
      ]
    },
    {
      "cell_type": "markdown",
      "metadata": {
        "colab_type": "text",
        "id": "qh9g1ead3NG-"
      },
      "source": [
        "Implement the direct solution for linear regression on the dataset above (without regularizer).\n",
        "Report training and validation error."
      ]
    },
    {
      "cell_type": "markdown",
      "metadata": {
        "id": "iJo-thKb-VMx",
        "colab_type": "text"
      },
      "source": [
        "**Adding vector of 1s and adding it as the zeroth feature**"
      ]
    },
    {
      "cell_type": "code",
      "metadata": {
        "id": "-v1Xbkli3dfV",
        "colab_type": "code",
        "colab": {}
      },
      "source": [
        "X_train_scaled_df['b']=1\n",
        "X_test_scaled_df['b']=1\n",
        "X_train_scaled_df = X_train_scaled_df[[ 'b','inputs ClimbRate',\n",
        " 'Sgz',\n",
        " 'P',\n",
        " 'Q',\n",
        " 'CurPitch',\n",
        " 'CurRoll',\n",
        " 'AbsRoll',\n",
        " 'DiffClb',\n",
        " 'DiffRollRate',\n",
        " 'DiffDiffClb',\n",
        " 'SeTime1',\n",
        " 'SeTime2',\n",
        " 'SeTime3',\n",
        " 'SeTime4',\n",
        " 'SeTime5',\n",
        " 'SeTime6',\n",
        " 'SeTime7',\n",
        " 'SeTime8',\n",
        " 'SeTime9',\n",
        " 'SeTime10',\n",
        " 'SeTime11',\n",
        " 'SeTime12',\n",
        " 'SeTime13',\n",
        " 'SeTime14',\n",
        " 'DiffSeTime1',\n",
        " 'DiffSeTime2',\n",
        " 'DiffSeTime3',\n",
        " 'DiffSeTime4',\n",
        " 'DiffSeTime5',\n",
        " 'DiffSeTime6',\n",
        " 'DiffSeTime7',\n",
        " 'DiffSeTime8',\n",
        " 'DiffSeTime9',\n",
        " 'DiffSeTime10',\n",
        " 'DiffSeTime11',\n",
        " 'DiffSeTime12',\n",
        " 'DiffSeTime13',\n",
        " 'DiffSeTime14',\n",
        " 'Alpha',\n",
        " 'Se',\n",
        "]]\n",
        "\n",
        "X_test_scaled_df = X_test_scaled_df[[ 'b','inputs ClimbRate',\n",
        " 'Sgz',\n",
        " 'P',\n",
        " 'Q',\n",
        " 'CurPitch',\n",
        " 'CurRoll',\n",
        " 'AbsRoll',\n",
        " 'DiffClb',\n",
        " 'DiffRollRate',\n",
        " 'DiffDiffClb',\n",
        " 'SeTime1',\n",
        " 'SeTime2',\n",
        " 'SeTime3',\n",
        " 'SeTime4',\n",
        " 'SeTime5',\n",
        " 'SeTime6',\n",
        " 'SeTime7',\n",
        " 'SeTime8',\n",
        " 'SeTime9',\n",
        " 'SeTime10',\n",
        " 'SeTime11',\n",
        " 'SeTime12',\n",
        " 'SeTime13',\n",
        " 'SeTime14',\n",
        " 'DiffSeTime1',\n",
        " 'DiffSeTime2',\n",
        " 'DiffSeTime3',\n",
        " 'DiffSeTime4',\n",
        " 'DiffSeTime5',\n",
        " 'DiffSeTime6',\n",
        " 'DiffSeTime7',\n",
        " 'DiffSeTime8',\n",
        " 'DiffSeTime9',\n",
        " 'DiffSeTime10',\n",
        " 'DiffSeTime11',\n",
        " 'DiffSeTime12',\n",
        " 'DiffSeTime13',\n",
        " 'DiffSeTime14',\n",
        " 'Alpha',\n",
        " 'Se',\n",
        "]]"
      ],
      "execution_count": 388,
      "outputs": []
    },
    {
      "cell_type": "code",
      "metadata": {
        "id": "S6AYXMHc4SEc",
        "colab_type": "code",
        "colab": {}
      },
      "source": [
        "X_train_scaled_np = np.array(X_train_scaled_df)\n",
        "X_test_scaled_np = np.array(X_test_scaled_df)\n",
        "\n",
        "\n",
        "y_train_scaled_np = np.array(y_train_scaled_df).reshape(-1,1)\n",
        "y_test_scaled_np = np.array(y_test_scaled_df).reshape(-1,1)"
      ],
      "execution_count": 389,
      "outputs": []
    },
    {
      "cell_type": "markdown",
      "metadata": {
        "id": "ZRcG9eFcso9T",
        "colab_type": "text"
      },
      "source": [
        "$$W= (X^TX)^{-1}X^Ty$$"
      ]
    },
    {
      "cell_type": "code",
      "metadata": {
        "id": "YNb1nI245KCU",
        "colab_type": "code",
        "colab": {}
      },
      "source": [
        "W = np.dot(np.linalg.inv(np.dot(X_train_scaled_np.T, X_train_scaled_np)), np.dot(X_train_scaled_np.T, y_train_scaled_np))\n",
        "W = W.reshape(-1,1)\n",
        "W.shape"
      ],
      "execution_count": 390,
      "outputs": []
    },
    {
      "cell_type": "code",
      "metadata": {
        "id": "GoCjz--p5t_Q",
        "colab_type": "code",
        "colab": {}
      },
      "source": [
        "y_pred_train = np.dot(X_train_scaled_np, W)"
      ],
      "execution_count": 393,
      "outputs": []
    },
    {
      "cell_type": "code",
      "metadata": {
        "id": "3U2ZiHu654oW",
        "colab_type": "code",
        "colab": {
          "base_uri": "https://localhost:8080/",
          "height": 553
        },
        "outputId": "ffe8c9c2-8e1f-4bfd-b6f9-b7be62be96e2"
      },
      "source": [
        "import matplotlib.pyplot as plt\n",
        "\n",
        "plt.plot(y_pred)"
      ],
      "execution_count": 394,
      "outputs": [
        {
          "output_type": "execute_result",
          "data": {
            "text/plain": [
              "[<matplotlib.lines.Line2D at 0x7f42e6851208>]"
            ]
          },
          "metadata": {
            "tags": []
          },
          "execution_count": 394
        },
        {
          "output_type": "display_data",
          "data": {
            "image/png": "[encoded data removed]",
            "text/plain": [
              "<Figure size 864x648 with 1 Axes>"
            ]
          },
          "metadata": {
            "tags": [],
            "needs_background": "light"
          }
        }
      ]
    },
    {
      "cell_type": "code",
      "metadata": {
        "id": "e7_0rCf-58x5",
        "colab_type": "code",
        "colab": {}
      },
      "source": [
        "import seaborn as sns\n",
        "from sklearn.linear_model import LinearRegression\n",
        "from sklearn.linear_model import Ridge\n",
        "from sklearn.preprocessing import PolynomialFeatures\n",
        "from sklearn.metrics import mean_squared_error\n",
        "\n",
        "def rmse(yPred, y):\n",
        "    return np.sqrt(mean_squared_error(yPred, y))\n"
      ],
      "execution_count": 395,
      "outputs": []
    },
    {
      "cell_type": "markdown",
      "metadata": {
        "id": "wBKksgHq8x3-",
        "colab_type": "text"
      },
      "source": [
        "### **Training error**"
      ]
    },
    {
      "cell_type": "code",
      "metadata": {
        "id": "V5dXu-LH6YE-",
        "colab_type": "code",
        "colab": {
          "base_uri": "https://localhost:8080/",
          "height": 33
        },
        "outputId": "ba137cb9-9e43-4359-d5cc-2d6782e76cad"
      },
      "source": [
        "print('RMSE: ', rmse(y_pred_train, y_train_scaled_np))"
      ],
      "execution_count": 397,
      "outputs": [
        {
          "output_type": "stream",
          "text": [
            "RMSE:  0.4311779987455004\n"
          ],
          "name": "stdout"
        }
      ]
    },
    {
      "cell_type": "code",
      "metadata": {
        "id": "XD0lSuFD-4Q0",
        "colab_type": "code",
        "colab": {
          "base_uri": "https://localhost:8080/",
          "height": 33
        },
        "outputId": "f84e8ff7-e8cb-4ea5-8089-13a2535f049e"
      },
      "source": [
        "y_pred_train.shape"
      ],
      "execution_count": 398,
      "outputs": [
        {
          "output_type": "execute_result",
          "data": {
            "text/plain": [
              "(11000, 1)"
            ]
          },
          "metadata": {
            "tags": []
          },
          "execution_count": 398
        }
      ]
    },
    {
      "cell_type": "code",
      "metadata": {
        "id": "6WbxVftB-5YV",
        "colab_type": "code",
        "colab": {
          "base_uri": "https://localhost:8080/",
          "height": 33
        },
        "outputId": "a5b5f119-4697-4071-c869-c2de9cb11d52"
      },
      "source": [
        "y_train_scaled_np.shape"
      ],
      "execution_count": 399,
      "outputs": [
        {
          "output_type": "execute_result",
          "data": {
            "text/plain": [
              "(11000, 1)"
            ]
          },
          "metadata": {
            "tags": []
          },
          "execution_count": 399
        }
      ]
    },
    {
      "cell_type": "markdown",
      "metadata": {
        "id": "gs8M9Ts7_NPX",
        "colab_type": "text"
      },
      "source": [
        "**Comparing segments of `y_pred` and `y_train original`**"
      ]
    },
    {
      "cell_type": "code",
      "metadata": {
        "id": "P9NP7QWs6lw1",
        "colab_type": "code",
        "colab": {
          "base_uri": "https://localhost:8080/",
          "height": 553
        },
        "outputId": "70e10bc1-e926-426c-9991-56f95286703b"
      },
      "source": [
        "plt.plot(y_pred_train[2100:2200], label='y_pred')\n",
        "plt.plot(y_train_scaled_np[2100:2200], label='y_train oringal')\n",
        "plt.legend()"
      ],
      "execution_count": 400,
      "outputs": [
        {
          "output_type": "execute_result",
          "data": {
            "text/plain": [
              "<matplotlib.legend.Legend at 0x7f42e6824a20>"
            ]
          },
          "metadata": {
            "tags": []
          },
          "execution_count": 400
        },
        {
          "output_type": "display_data",
          "data": {
            "image/png": "[encoded data removed]",
            "text/plain": [
              "<Figure size 864x648 with 1 Axes>"
            ]
          },
          "metadata": {
            "tags": [],
            "needs_background": "light"
          }
        }
      ]
    },
    {
      "cell_type": "markdown",
      "metadata": {
        "id": "L_P8zxDe80hM",
        "colab_type": "text"
      },
      "source": [
        "### **Valudation error**"
      ]
    },
    {
      "cell_type": "code",
      "metadata": {
        "id": "QL5Hhw0F7K2j",
        "colab_type": "code",
        "colab": {}
      },
      "source": [
        "y_pred_test = np.dot(X_test_scaled_np, W)\n"
      ],
      "execution_count": 401,
      "outputs": []
    },
    {
      "cell_type": "code",
      "metadata": {
        "id": "RiYfUL527PTj",
        "colab_type": "code",
        "colab": {
          "base_uri": "https://localhost:8080/",
          "height": 33
        },
        "outputId": "445caf45-cbf8-4e05-c727-17a14eaa5392"
      },
      "source": [
        "print('RMSE: ', rmse(y_pred_test, y_test_scaled_np))"
      ],
      "execution_count": 402,
      "outputs": [
        {
          "output_type": "stream",
          "text": [
            "RMSE:  0.4391875247400215\n"
          ],
          "name": "stdout"
        }
      ]
    },
    {
      "cell_type": "code",
      "metadata": {
        "id": "wnHGB6VuAPZx",
        "colab_type": "code",
        "colab": {
          "base_uri": "https://localhost:8080/",
          "height": 553
        },
        "outputId": "99a2493a-fae5-4b7c-ce7e-dc6e817f616c"
      },
      "source": [
        "plt.plot(y_pred_test[2100:2200], label='y_pred')\n",
        "plt.plot(y_test_scaled_np[2100:2200], label='y_test oringal')\n",
        "plt.legend()"
      ],
      "execution_count": 404,
      "outputs": [
        {
          "output_type": "execute_result",
          "data": {
            "text/plain": [
              "<matplotlib.legend.Legend at 0x7f42e677c438>"
            ]
          },
          "metadata": {
            "tags": []
          },
          "execution_count": 404
        },
        {
          "output_type": "display_data",
          "data": {
            "image/png": "[encoded data removed]",
            "text/plain": [
              "<Figure size 864x648 with 1 Axes>"
            ]
          },
          "metadata": {
            "tags": [],
            "needs_background": "light"
          }
        }
      ]
    },
    {
      "cell_type": "markdown",
      "metadata": {
        "colab_type": "text",
        "id": "tceGCk1V3NG_"
      },
      "source": [
        "## Part 3 - Gradient Descent (GD) [2 marks]"
      ]
    },
    {
      "cell_type": "markdown",
      "metadata": {
        "colab_type": "text",
        "id": "v9DMAs3I3NHB"
      },
      "source": [
        "1. Implement gradient descent (full-batch) for linear regression using a fixed learning rate of $\\alpha= 1e-2$. You should compute the gradients yourself! First try to implement it without looking at other resources, but if you need a hint take a look [here](https://towardsdatascience.com/gradient-descent-explanation-implementation-c74005ff7dd1) and [here](https://ml-cheatsheet.readthedocs.io/en/latest/gradient_descent.html).\n",
        "\n",
        "2. Run the gradient descent for a fixed number of epochs (based on convergence) and verify that the results are closely approximate the direct solution."
      ]
    },
    {
      "cell_type": "code",
      "metadata": {
        "id": "G3KOOJ8m5SAs",
        "colab_type": "code",
        "colab": {
          "base_uri": "https://localhost:8080/",
          "height": 537
        },
        "outputId": "87d18373-f05b-42c8-95d7-234bc462667b"
      },
      "source": [
        "# Making the imports\n",
        "import numpy as np\n",
        "import pandas as pd\n",
        "import matplotlib.pyplot as plt\n",
        "plt.rcParams['figure.figsize'] = (12.0, 9.0)\n",
        "\n",
        "# Preprocessing Input data\n",
        "X = df.iloc[:, 0]\n",
        "Y = df.iloc[:, -1]\n",
        "plt.scatter(X, Y)\n",
        "plt.show()"
      ],
      "execution_count": 175,
      "outputs": [
        {
          "output_type": "display_data",
          "data": {
            "image/png": "[encoded data removed]",
            "text/plain": [
              "<Figure size 864x648 with 1 Axes>"
            ]
          },
          "metadata": {
            "tags": [],
            "needs_background": "light"
          }
        }
      ]
    },
    {
      "cell_type": "code",
      "metadata": {
        "id": "5M7Fv3Ms3a_U",
        "colab_type": "code",
        "colab": {
          "base_uri": "https://localhost:8080/",
          "height": 33
        },
        "outputId": "ef2d2a59-d739-4804-e388-2e25deb8c766"
      },
      "source": [
        "W.shape"
      ],
      "execution_count": 176,
      "outputs": [
        {
          "output_type": "execute_result",
          "data": {
            "text/plain": [
              "(41, 1)"
            ]
          },
          "metadata": {
            "tags": []
          },
          "execution_count": 176
        }
      ]
    },
    {
      "cell_type": "code",
      "metadata": {
        "id": "-FFl2aCX4OBD",
        "colab_type": "code",
        "colab": {
          "base_uri": "https://localhost:8080/",
          "height": 427
        },
        "outputId": "0df75668-3439-45ca-f804-00eaa170fdef"
      },
      "source": [
        "X_train_scaled_df"
      ],
      "execution_count": 177,
      "outputs": [
        {
          "output_type": "execute_result",
          "data": {
            "text/html": [
              "<div>\n",
              "<style scoped>\n",
              "    .dataframe tbody tr th:only-of-type {\n",
              "        vertical-align: middle;\n",
              "    }\n",
              "\n",
              "    .dataframe tbody tr th {\n",
              "        vertical-align: top;\n",
              "    }\n",
              "\n",
              "    .dataframe thead th {\n",
              "        text-align: right;\n",
              "    }\n",
              "</style>\n",
              "<table border=\"1\" class=\"dataframe\">\n",
              "  <thead>\n",
              "    <tr style=\"text-align: right;\">\n",
              "      <th></th>\n",
              "      <th>inputs ClimbRate</th>\n",
              "      <th>Sgz</th>\n",
              "      <th>P</th>\n",
              "      <th>Q</th>\n",
              "      <th>CurPitch</th>\n",
              "      <th>CurRoll</th>\n",
              "      <th>AbsRoll</th>\n",
              "      <th>DiffClb</th>\n",
              "      <th>DiffRollRate</th>\n",
              "      <th>DiffDiffClb</th>\n",
              "      <th>SeTime1</th>\n",
              "      <th>SeTime2</th>\n",
              "      <th>SeTime3</th>\n",
              "      <th>SeTime4</th>\n",
              "      <th>SeTime5</th>\n",
              "      <th>SeTime6</th>\n",
              "      <th>SeTime7</th>\n",
              "      <th>SeTime8</th>\n",
              "      <th>SeTime9</th>\n",
              "      <th>SeTime10</th>\n",
              "      <th>SeTime11</th>\n",
              "      <th>SeTime12</th>\n",
              "      <th>SeTime13</th>\n",
              "      <th>SeTime14</th>\n",
              "      <th>DiffSeTime1</th>\n",
              "      <th>DiffSeTime2</th>\n",
              "      <th>DiffSeTime3</th>\n",
              "      <th>DiffSeTime4</th>\n",
              "      <th>DiffSeTime5</th>\n",
              "      <th>DiffSeTime6</th>\n",
              "      <th>DiffSeTime7</th>\n",
              "      <th>DiffSeTime8</th>\n",
              "      <th>DiffSeTime9</th>\n",
              "      <th>DiffSeTime10</th>\n",
              "      <th>DiffSeTime11</th>\n",
              "      <th>DiffSeTime12</th>\n",
              "      <th>DiffSeTime13</th>\n",
              "      <th>DiffSeTime14</th>\n",
              "      <th>Alpha</th>\n",
              "      <th>Se</th>\n",
              "    </tr>\n",
              "  </thead>\n",
              "  <tbody>\n",
              "    <tr>\n",
              "      <th>1755</th>\n",
              "      <td>-0.106108</td>\n",
              "      <td>-0.437204</td>\n",
              "      <td>-0.675831</td>\n",
              "      <td>0.167087</td>\n",
              "      <td>-0.280852</td>\n",
              "      <td>-0.061699</td>\n",
              "      <td>1.216466</td>\n",
              "      <td>0.175012</td>\n",
              "      <td>0.070773</td>\n",
              "      <td>-0.578864</td>\n",
              "      <td>-0.564695</td>\n",
              "      <td>-0.563666</td>\n",
              "      <td>-0.563671</td>\n",
              "      <td>-0.564511</td>\n",
              "      <td>-0.564553</td>\n",
              "      <td>-0.565229</td>\n",
              "      <td>-0.565225</td>\n",
              "      <td>-0.566928</td>\n",
              "      <td>-0.566931</td>\n",
              "      <td>-0.568760</td>\n",
              "      <td>-0.568739</td>\n",
              "      <td>-0.569456</td>\n",
              "      <td>-0.569470</td>\n",
              "      <td>-0.570360</td>\n",
              "      <td>0.186342</td>\n",
              "      <td>0.0</td>\n",
              "      <td>0.123067</td>\n",
              "      <td>0.00603</td>\n",
              "      <td>0.145505</td>\n",
              "      <td>0.017165</td>\n",
              "      <td>0.156442</td>\n",
              "      <td>0.0</td>\n",
              "      <td>0.167841</td>\n",
              "      <td>0.006848</td>\n",
              "      <td>0.155642</td>\n",
              "      <td>0.014714</td>\n",
              "      <td>0.150387</td>\n",
              "      <td>0.014303</td>\n",
              "      <td>-0.625400</td>\n",
              "      <td>-0.570336</td>\n",
              "    </tr>\n",
              "    <tr>\n",
              "      <th>11435</th>\n",
              "      <td>0.051777</td>\n",
              "      <td>1.117312</td>\n",
              "      <td>1.394136</td>\n",
              "      <td>0.420146</td>\n",
              "      <td>-0.280852</td>\n",
              "      <td>0.351065</td>\n",
              "      <td>-0.473588</td>\n",
              "      <td>-0.493602</td>\n",
              "      <td>-0.004994</td>\n",
              "      <td>-0.131167</td>\n",
              "      <td>-0.418978</td>\n",
              "      <td>-0.418588</td>\n",
              "      <td>-0.418589</td>\n",
              "      <td>-0.419613</td>\n",
              "      <td>-0.419637</td>\n",
              "      <td>-0.420541</td>\n",
              "      <td>-0.420555</td>\n",
              "      <td>-0.422447</td>\n",
              "      <td>-0.422447</td>\n",
              "      <td>-0.424538</td>\n",
              "      <td>-0.424529</td>\n",
              "      <td>-0.425604</td>\n",
              "      <td>-0.425631</td>\n",
              "      <td>-0.426630</td>\n",
              "      <td>0.186342</td>\n",
              "      <td>0.0</td>\n",
              "      <td>0.123067</td>\n",
              "      <td>0.00603</td>\n",
              "      <td>0.145505</td>\n",
              "      <td>0.017165</td>\n",
              "      <td>0.156442</td>\n",
              "      <td>0.0</td>\n",
              "      <td>0.167841</td>\n",
              "      <td>0.006848</td>\n",
              "      <td>0.155642</td>\n",
              "      <td>0.014714</td>\n",
              "      <td>0.150387</td>\n",
              "      <td>0.014303</td>\n",
              "      <td>-0.625400</td>\n",
              "      <td>-0.426619</td>\n",
              "    </tr>\n",
              "    <tr>\n",
              "      <th>6528</th>\n",
              "      <td>1.507398</td>\n",
              "      <td>2.827279</td>\n",
              "      <td>0.802717</td>\n",
              "      <td>1.601083</td>\n",
              "      <td>-1.241031</td>\n",
              "      <td>0.247874</td>\n",
              "      <td>0.733593</td>\n",
              "      <td>-1.544280</td>\n",
              "      <td>-0.156527</td>\n",
              "      <td>-0.489324</td>\n",
              "      <td>0.018175</td>\n",
              "      <td>0.016644</td>\n",
              "      <td>0.016658</td>\n",
              "      <td>0.015083</td>\n",
              "      <td>0.015111</td>\n",
              "      <td>0.013522</td>\n",
              "      <td>0.013454</td>\n",
              "      <td>0.010994</td>\n",
              "      <td>0.011007</td>\n",
              "      <td>0.008129</td>\n",
              "      <td>0.008102</td>\n",
              "      <td>0.005950</td>\n",
              "      <td>0.005884</td>\n",
              "      <td>0.004560</td>\n",
              "      <td>0.186342</td>\n",
              "      <td>0.0</td>\n",
              "      <td>0.123067</td>\n",
              "      <td>0.00603</td>\n",
              "      <td>0.145505</td>\n",
              "      <td>0.017165</td>\n",
              "      <td>0.156442</td>\n",
              "      <td>0.0</td>\n",
              "      <td>0.167841</td>\n",
              "      <td>0.006848</td>\n",
              "      <td>0.155642</td>\n",
              "      <td>0.014714</td>\n",
              "      <td>0.150387</td>\n",
              "      <td>0.014303</td>\n",
              "      <td>-0.116757</td>\n",
              "      <td>0.004534</td>\n",
              "    </tr>\n",
              "    <tr>\n",
              "      <th>10868</th>\n",
              "      <td>-0.221634</td>\n",
              "      <td>-0.398341</td>\n",
              "      <td>1.558419</td>\n",
              "      <td>-0.929498</td>\n",
              "      <td>1.447469</td>\n",
              "      <td>0.144683</td>\n",
              "      <td>0.250721</td>\n",
              "      <td>0.175012</td>\n",
              "      <td>0.373840</td>\n",
              "      <td>0.316530</td>\n",
              "      <td>1.766785</td>\n",
              "      <td>1.757575</td>\n",
              "      <td>1.757645</td>\n",
              "      <td>1.753865</td>\n",
              "      <td>1.754103</td>\n",
              "      <td>1.749774</td>\n",
              "      <td>1.749492</td>\n",
              "      <td>1.744757</td>\n",
              "      <td>1.744822</td>\n",
              "      <td>1.738795</td>\n",
              "      <td>1.738624</td>\n",
              "      <td>1.732168</td>\n",
              "      <td>1.731947</td>\n",
              "      <td>1.729319</td>\n",
              "      <td>0.186342</td>\n",
              "      <td>0.0</td>\n",
              "      <td>0.123067</td>\n",
              "      <td>0.00603</td>\n",
              "      <td>0.145505</td>\n",
              "      <td>0.017165</td>\n",
              "      <td>0.156442</td>\n",
              "      <td>0.0</td>\n",
              "      <td>0.167841</td>\n",
              "      <td>0.006848</td>\n",
              "      <td>0.155642</td>\n",
              "      <td>0.014714</td>\n",
              "      <td>0.150387</td>\n",
              "      <td>0.014303</td>\n",
              "      <td>1.917815</td>\n",
              "      <td>1.729143</td>\n",
              "    </tr>\n",
              "    <tr>\n",
              "      <th>2848</th>\n",
              "      <td>0.371397</td>\n",
              "      <td>-0.087438</td>\n",
              "      <td>0.079871</td>\n",
              "      <td>2.022847</td>\n",
              "      <td>1.927559</td>\n",
              "      <td>-0.990418</td>\n",
              "      <td>-2.405079</td>\n",
              "      <td>-0.302569</td>\n",
              "      <td>-0.383828</td>\n",
              "      <td>-0.131167</td>\n",
              "      <td>3.952548</td>\n",
              "      <td>3.933739</td>\n",
              "      <td>3.933878</td>\n",
              "      <td>3.927342</td>\n",
              "      <td>3.927843</td>\n",
              "      <td>3.920089</td>\n",
              "      <td>3.919538</td>\n",
              "      <td>3.911962</td>\n",
              "      <td>3.912090</td>\n",
              "      <td>3.902128</td>\n",
              "      <td>3.901777</td>\n",
              "      <td>3.889941</td>\n",
              "      <td>3.889526</td>\n",
              "      <td>3.885268</td>\n",
              "      <td>0.186342</td>\n",
              "      <td>0.0</td>\n",
              "      <td>0.123067</td>\n",
              "      <td>0.00603</td>\n",
              "      <td>0.145505</td>\n",
              "      <td>0.017165</td>\n",
              "      <td>0.156442</td>\n",
              "      <td>0.0</td>\n",
              "      <td>0.167841</td>\n",
              "      <td>0.006848</td>\n",
              "      <td>0.155642</td>\n",
              "      <td>0.014714</td>\n",
              "      <td>0.150387</td>\n",
              "      <td>0.014303</td>\n",
              "      <td>3.952387</td>\n",
              "      <td>3.884906</td>\n",
              "    </tr>\n",
              "    <tr>\n",
              "      <th>...</th>\n",
              "      <td>...</td>\n",
              "      <td>...</td>\n",
              "      <td>...</td>\n",
              "      <td>...</td>\n",
              "      <td>...</td>\n",
              "      <td>...</td>\n",
              "      <td>...</td>\n",
              "      <td>...</td>\n",
              "      <td>...</td>\n",
              "      <td>...</td>\n",
              "      <td>...</td>\n",
              "      <td>...</td>\n",
              "      <td>...</td>\n",
              "      <td>...</td>\n",
              "      <td>...</td>\n",
              "      <td>...</td>\n",
              "      <td>...</td>\n",
              "      <td>...</td>\n",
              "      <td>...</td>\n",
              "      <td>...</td>\n",
              "      <td>...</td>\n",
              "      <td>...</td>\n",
              "      <td>...</td>\n",
              "      <td>...</td>\n",
              "      <td>...</td>\n",
              "      <td>...</td>\n",
              "      <td>...</td>\n",
              "      <td>...</td>\n",
              "      <td>...</td>\n",
              "      <td>...</td>\n",
              "      <td>...</td>\n",
              "      <td>...</td>\n",
              "      <td>...</td>\n",
              "      <td>...</td>\n",
              "      <td>...</td>\n",
              "      <td>...</td>\n",
              "      <td>...</td>\n",
              "      <td>...</td>\n",
              "      <td>...</td>\n",
              "      <td>...</td>\n",
              "    </tr>\n",
              "    <tr>\n",
              "      <th>5200</th>\n",
              "      <td>1.780809</td>\n",
              "      <td>-1.991720</td>\n",
              "      <td>1.558419</td>\n",
              "      <td>-0.929498</td>\n",
              "      <td>-1.721120</td>\n",
              "      <td>-1.093609</td>\n",
              "      <td>0.492157</td>\n",
              "      <td>0.366044</td>\n",
              "      <td>0.449607</td>\n",
              "      <td>1.032844</td>\n",
              "      <td>-0.710413</td>\n",
              "      <td>-0.708744</td>\n",
              "      <td>-0.708753</td>\n",
              "      <td>-0.709410</td>\n",
              "      <td>-0.709469</td>\n",
              "      <td>-0.709917</td>\n",
              "      <td>-0.709895</td>\n",
              "      <td>-0.711408</td>\n",
              "      <td>-0.711416</td>\n",
              "      <td>-0.712982</td>\n",
              "      <td>-0.712949</td>\n",
              "      <td>-0.713307</td>\n",
              "      <td>-0.713309</td>\n",
              "      <td>-0.714089</td>\n",
              "      <td>0.186342</td>\n",
              "      <td>0.0</td>\n",
              "      <td>0.123067</td>\n",
              "      <td>0.00603</td>\n",
              "      <td>0.145505</td>\n",
              "      <td>0.017165</td>\n",
              "      <td>0.156442</td>\n",
              "      <td>0.0</td>\n",
              "      <td>0.167841</td>\n",
              "      <td>0.006848</td>\n",
              "      <td>0.155642</td>\n",
              "      <td>0.014714</td>\n",
              "      <td>0.150387</td>\n",
              "      <td>0.014303</td>\n",
              "      <td>-0.625400</td>\n",
              "      <td>-0.714054</td>\n",
              "    </tr>\n",
              "    <tr>\n",
              "      <th>4066</th>\n",
              "      <td>-0.310203</td>\n",
              "      <td>-0.281752</td>\n",
              "      <td>0.178441</td>\n",
              "      <td>-0.676440</td>\n",
              "      <td>1.287440</td>\n",
              "      <td>-1.815946</td>\n",
              "      <td>-0.956461</td>\n",
              "      <td>1.034658</td>\n",
              "      <td>1.889176</td>\n",
              "      <td>-0.131167</td>\n",
              "      <td>1.475350</td>\n",
              "      <td>1.467420</td>\n",
              "      <td>1.467480</td>\n",
              "      <td>1.464068</td>\n",
              "      <td>1.464271</td>\n",
              "      <td>1.460398</td>\n",
              "      <td>1.460152</td>\n",
              "      <td>1.455797</td>\n",
              "      <td>1.455853</td>\n",
              "      <td>1.450351</td>\n",
              "      <td>1.450204</td>\n",
              "      <td>1.444465</td>\n",
              "      <td>1.444270</td>\n",
              "      <td>1.441859</td>\n",
              "      <td>0.186342</td>\n",
              "      <td>0.0</td>\n",
              "      <td>0.123067</td>\n",
              "      <td>0.00603</td>\n",
              "      <td>0.145505</td>\n",
              "      <td>0.017165</td>\n",
              "      <td>0.156442</td>\n",
              "      <td>0.0</td>\n",
              "      <td>0.167841</td>\n",
              "      <td>0.006848</td>\n",
              "      <td>0.155642</td>\n",
              "      <td>0.014714</td>\n",
              "      <td>0.150387</td>\n",
              "      <td>0.014303</td>\n",
              "      <td>1.409172</td>\n",
              "      <td>1.441708</td>\n",
              "    </tr>\n",
              "    <tr>\n",
              "      <th>12172</th>\n",
              "      <td>0.101838</td>\n",
              "      <td>1.777981</td>\n",
              "      <td>1.591276</td>\n",
              "      <td>1.854142</td>\n",
              "      <td>0.103219</td>\n",
              "      <td>0.351065</td>\n",
              "      <td>-2.405079</td>\n",
              "      <td>-0.589118</td>\n",
              "      <td>-0.762662</td>\n",
              "      <td>-0.578864</td>\n",
              "      <td>0.455328</td>\n",
              "      <td>0.451877</td>\n",
              "      <td>0.451905</td>\n",
              "      <td>0.449778</td>\n",
              "      <td>0.449859</td>\n",
              "      <td>0.447585</td>\n",
              "      <td>0.447464</td>\n",
              "      <td>0.444435</td>\n",
              "      <td>0.444461</td>\n",
              "      <td>0.440795</td>\n",
              "      <td>0.440733</td>\n",
              "      <td>0.437505</td>\n",
              "      <td>0.437400</td>\n",
              "      <td>0.435750</td>\n",
              "      <td>0.186342</td>\n",
              "      <td>0.0</td>\n",
              "      <td>0.123067</td>\n",
              "      <td>0.00603</td>\n",
              "      <td>0.145505</td>\n",
              "      <td>0.017165</td>\n",
              "      <td>0.156442</td>\n",
              "      <td>0.0</td>\n",
              "      <td>0.167841</td>\n",
              "      <td>0.006848</td>\n",
              "      <td>0.155642</td>\n",
              "      <td>0.014714</td>\n",
              "      <td>0.150387</td>\n",
              "      <td>0.014303</td>\n",
              "      <td>0.391886</td>\n",
              "      <td>0.435686</td>\n",
              "    </tr>\n",
              "    <tr>\n",
              "      <th>931</th>\n",
              "      <td>0.113390</td>\n",
              "      <td>-0.359478</td>\n",
              "      <td>-0.708687</td>\n",
              "      <td>-0.507734</td>\n",
              "      <td>0.199237</td>\n",
              "      <td>0.351065</td>\n",
              "      <td>0.733593</td>\n",
              "      <td>0.366044</td>\n",
              "      <td>-0.459595</td>\n",
              "      <td>-0.399785</td>\n",
              "      <td>0.601045</td>\n",
              "      <td>0.596955</td>\n",
              "      <td>0.596987</td>\n",
              "      <td>0.594677</td>\n",
              "      <td>0.594775</td>\n",
              "      <td>0.592272</td>\n",
              "      <td>0.592133</td>\n",
              "      <td>0.444435</td>\n",
              "      <td>0.444461</td>\n",
              "      <td>0.440795</td>\n",
              "      <td>0.440733</td>\n",
              "      <td>0.437505</td>\n",
              "      <td>0.437400</td>\n",
              "      <td>0.435750</td>\n",
              "      <td>0.186342</td>\n",
              "      <td>0.0</td>\n",
              "      <td>-2.049859</td>\n",
              "      <td>0.00603</td>\n",
              "      <td>-1.954965</td>\n",
              "      <td>0.017165</td>\n",
              "      <td>1.943428</td>\n",
              "      <td>0.0</td>\n",
              "      <td>0.167841</td>\n",
              "      <td>0.006848</td>\n",
              "      <td>0.155642</td>\n",
              "      <td>0.014714</td>\n",
              "      <td>0.150387</td>\n",
              "      <td>0.014303</td>\n",
              "      <td>0.391886</td>\n",
              "      <td>0.435686</td>\n",
              "    </tr>\n",
              "    <tr>\n",
              "      <th>1984</th>\n",
              "      <td>0.167302</td>\n",
              "      <td>-1.059010</td>\n",
              "      <td>-0.084412</td>\n",
              "      <td>-0.676440</td>\n",
              "      <td>-0.216840</td>\n",
              "      <td>-2.641474</td>\n",
              "      <td>-0.956461</td>\n",
              "      <td>-0.398086</td>\n",
              "      <td>1.964943</td>\n",
              "      <td>0.943305</td>\n",
              "      <td>-0.273260</td>\n",
              "      <td>-0.273511</td>\n",
              "      <td>-0.273506</td>\n",
              "      <td>-0.274714</td>\n",
              "      <td>-0.274721</td>\n",
              "      <td>-0.275854</td>\n",
              "      <td>-0.275885</td>\n",
              "      <td>-0.277967</td>\n",
              "      <td>-0.277962</td>\n",
              "      <td>-0.280316</td>\n",
              "      <td>-0.280318</td>\n",
              "      <td>-0.281753</td>\n",
              "      <td>-0.281793</td>\n",
              "      <td>-0.282900</td>\n",
              "      <td>0.186342</td>\n",
              "      <td>0.0</td>\n",
              "      <td>0.123067</td>\n",
              "      <td>0.00603</td>\n",
              "      <td>0.145505</td>\n",
              "      <td>0.017165</td>\n",
              "      <td>0.156442</td>\n",
              "      <td>0.0</td>\n",
              "      <td>0.167841</td>\n",
              "      <td>0.006848</td>\n",
              "      <td>0.155642</td>\n",
              "      <td>0.014714</td>\n",
              "      <td>0.150387</td>\n",
              "      <td>0.014303</td>\n",
              "      <td>-0.116757</td>\n",
              "      <td>-0.282901</td>\n",
              "    </tr>\n",
              "  </tbody>\n",
              "</table>\n",
              "<p>11000 rows × 40 columns</p>\n",
              "</div>"
            ],
            "text/plain": [
              "       inputs ClimbRate       Sgz         P  ...  DiffSeTime14     Alpha        Se\n",
              "1755          -0.106108 -0.437204 -0.675831  ...      0.014303 -0.625400 -0.570336\n",
              "11435          0.051777  1.117312  1.394136  ...      0.014303 -0.625400 -0.426619\n",
              "6528           1.507398  2.827279  0.802717  ...      0.014303 -0.116757  0.004534\n",
              "10868         -0.221634 -0.398341  1.558419  ...      0.014303  1.917815  1.729143\n",
              "2848           0.371397 -0.087438  0.079871  ...      0.014303  3.952387  3.884906\n",
              "...                 ...       ...       ...  ...           ...       ...       ...\n",
              "5200           1.780809 -1.991720  1.558419  ...      0.014303 -0.625400 -0.714054\n",
              "4066          -0.310203 -0.281752  0.178441  ...      0.014303  1.409172  1.441708\n",
              "12172          0.101838  1.777981  1.591276  ...      0.014303  0.391886  0.435686\n",
              "931            0.113390 -0.359478 -0.708687  ...      0.014303  0.391886  0.435686\n",
              "1984           0.167302 -1.059010 -0.084412  ...      0.014303 -0.116757 -0.282901\n",
              "\n",
              "[11000 rows x 40 columns]"
            ]
          },
          "metadata": {
            "tags": []
          },
          "execution_count": 177
        }
      ]
    },
    {
      "cell_type": "code",
      "metadata": {
        "id": "tEgccDM13kfA",
        "colab_type": "code",
        "colab": {}
      },
      "source": [
        "X_train_scaled_np = np.array(X_train_scaled_df)\n",
        "y_train_scaled_np = np.array(y_train_scaled_df)"
      ],
      "execution_count": 185,
      "outputs": []
    },
    {
      "cell_type": "code",
      "metadata": {
        "id": "A2B623ln45lh",
        "colab_type": "code",
        "colab": {
          "base_uri": "https://localhost:8080/",
          "height": 391
        },
        "outputId": "c5d2d006-6dd7-424a-8077-cf0afaff883e"
      },
      "source": [
        ""
      ],
      "execution_count": 184,
      "outputs": [
        {
          "output_type": "execute_result",
          "data": {
            "text/html": [
              "<div>\n",
              "<style scoped>\n",
              "    .dataframe tbody tr th:only-of-type {\n",
              "        vertical-align: middle;\n",
              "    }\n",
              "\n",
              "    .dataframe tbody tr th {\n",
              "        vertical-align: top;\n",
              "    }\n",
              "\n",
              "    .dataframe thead th {\n",
              "        text-align: right;\n",
              "    }\n",
              "</style>\n",
              "<table border=\"1\" class=\"dataframe\">\n",
              "  <thead>\n",
              "    <tr style=\"text-align: right;\">\n",
              "      <th></th>\n",
              "      <th>Goal</th>\n",
              "    </tr>\n",
              "  </thead>\n",
              "  <tbody>\n",
              "    <tr>\n",
              "      <th>1755</th>\n",
              "      <td>1.151662</td>\n",
              "    </tr>\n",
              "    <tr>\n",
              "      <th>11435</th>\n",
              "      <td>-0.314885</td>\n",
              "    </tr>\n",
              "    <tr>\n",
              "      <th>6528</th>\n",
              "      <td>0.418388</td>\n",
              "    </tr>\n",
              "    <tr>\n",
              "      <th>10868</th>\n",
              "      <td>-0.803735</td>\n",
              "    </tr>\n",
              "    <tr>\n",
              "      <th>2848</th>\n",
              "      <td>-3.247980</td>\n",
              "    </tr>\n",
              "    <tr>\n",
              "      <th>...</th>\n",
              "      <td>...</td>\n",
              "    </tr>\n",
              "    <tr>\n",
              "      <th>5200</th>\n",
              "      <td>0.173964</td>\n",
              "    </tr>\n",
              "    <tr>\n",
              "      <th>4066</th>\n",
              "      <td>-1.048159</td>\n",
              "    </tr>\n",
              "    <tr>\n",
              "      <th>12172</th>\n",
              "      <td>-2.270282</td>\n",
              "    </tr>\n",
              "    <tr>\n",
              "      <th>931</th>\n",
              "      <td>0.662813</td>\n",
              "    </tr>\n",
              "    <tr>\n",
              "      <th>1984</th>\n",
              "      <td>-0.314885</td>\n",
              "    </tr>\n",
              "  </tbody>\n",
              "</table>\n",
              "<p>11000 rows × 1 columns</p>\n",
              "</div>"
            ],
            "text/plain": [
              "           Goal\n",
              "1755   1.151662\n",
              "11435 -0.314885\n",
              "6528   0.418388\n",
              "10868 -0.803735\n",
              "2848  -3.247980\n",
              "...         ...\n",
              "5200   0.173964\n",
              "4066  -1.048159\n",
              "12172 -2.270282\n",
              "931    0.662813\n",
              "1984  -0.314885\n",
              "\n",
              "[11000 rows x 1 columns]"
            ]
          },
          "metadata": {
            "tags": []
          },
          "execution_count": 184
        }
      ]
    },
    {
      "cell_type": "code",
      "metadata": {
        "id": "0garicOK5E-5",
        "colab_type": "code",
        "colab": {}
      },
      "source": [
        "def h_theta(x): \n",
        "  return np.dot(W.T, x)"
      ],
      "execution_count": 187,
      "outputs": []
    },
    {
      "cell_type": "code",
      "metadata": {
        "id": "vRXaT_KI4n43",
        "colab_type": "code",
        "colab": {
          "base_uri": "https://localhost:8080/",
          "height": 256
        },
        "outputId": "b28c05db-76ff-449f-dd5e-11e3dd04bb12"
      },
      "source": [
        "h_theta(X_train_scaled_np[0] - y_train_scaled_np[0])"
      ],
      "execution_count": 188,
      "outputs": [
        {
          "output_type": "error",
          "ename": "ValueError",
          "evalue": "ignored",
          "traceback": [
            "\u001b[0;31m---------------------------------------------------------------------------\u001b[0m",
            "\u001b[0;31mValueError\u001b[0m                                Traceback (most recent call last)",
            "\u001b[0;32m<ipython-input-188-f8741e190c84>\u001b[0m in \u001b[0;36m<module>\u001b[0;34m()\u001b[0m\n\u001b[0;32m----> 1\u001b[0;31m \u001b[0mh_theta\u001b[0m\u001b[0;34m(\u001b[0m\u001b[0mX_train_scaled_np\u001b[0m\u001b[0;34m[\u001b[0m\u001b[0;36m0\u001b[0m\u001b[0;34m]\u001b[0m \u001b[0;34m-\u001b[0m \u001b[0my_train_scaled_np\u001b[0m\u001b[0;34m[\u001b[0m\u001b[0;36m0\u001b[0m\u001b[0;34m]\u001b[0m\u001b[0;34m)\u001b[0m\u001b[0;34m\u001b[0m\u001b[0;34m\u001b[0m\u001b[0m\n\u001b[0m",
            "\u001b[0;32m<ipython-input-187-97f1e571a43a>\u001b[0m in \u001b[0;36mh_theta\u001b[0;34m(x)\u001b[0m\n\u001b[1;32m      1\u001b[0m \u001b[0;32mdef\u001b[0m \u001b[0mh_theta\u001b[0m\u001b[0;34m(\u001b[0m\u001b[0mx\u001b[0m\u001b[0;34m)\u001b[0m\u001b[0;34m:\u001b[0m\u001b[0;34m\u001b[0m\u001b[0;34m\u001b[0m\u001b[0m\n\u001b[0;32m----> 2\u001b[0;31m   \u001b[0;32mreturn\u001b[0m \u001b[0mnp\u001b[0m\u001b[0;34m.\u001b[0m\u001b[0mdot\u001b[0m\u001b[0;34m(\u001b[0m\u001b[0mW\u001b[0m\u001b[0;34m.\u001b[0m\u001b[0mT\u001b[0m\u001b[0;34m,\u001b[0m \u001b[0mx\u001b[0m\u001b[0;34m)\u001b[0m\u001b[0;34m\u001b[0m\u001b[0;34m\u001b[0m\u001b[0m\n\u001b[0m",
            "\u001b[0;32m<__array_function__ internals>\u001b[0m in \u001b[0;36mdot\u001b[0;34m(*args, **kwargs)\u001b[0m\n",
            "\u001b[0;31mValueError\u001b[0m: shapes (1,41) and (40,) not aligned: 41 (dim 1) != 40 (dim 0)"
          ]
        }
      ]
    },
    {
      "cell_type": "code",
      "metadata": {
        "id": "GlxaItMd3fgS",
        "colab_type": "code",
        "colab": {
          "base_uri": "https://localhost:8080/",
          "height": 683
        },
        "outputId": "cb74843b-692f-4c0f-fb15-f78417d687e8"
      },
      "source": [
        "X_train_scaled_df.iloc[0]"
      ],
      "execution_count": 183,
      "outputs": [
        {
          "output_type": "execute_result",
          "data": {
            "text/plain": [
              "inputs ClimbRate   -0.106108\n",
              "Sgz                -0.437204\n",
              "P                  -0.675831\n",
              "Q                   0.167087\n",
              "CurPitch           -0.280852\n",
              "CurRoll            -0.061699\n",
              "AbsRoll             1.216466\n",
              "DiffClb             0.175012\n",
              "DiffRollRate        0.070773\n",
              "DiffDiffClb        -0.578864\n",
              "SeTime1            -0.564695\n",
              "SeTime2            -0.563666\n",
              "SeTime3            -0.563671\n",
              "SeTime4            -0.564511\n",
              "SeTime5            -0.564553\n",
              "SeTime6            -0.565229\n",
              "SeTime7            -0.565225\n",
              "SeTime8            -0.566928\n",
              "SeTime9            -0.566931\n",
              "SeTime10           -0.568760\n",
              "SeTime11           -0.568739\n",
              "SeTime12           -0.569456\n",
              "SeTime13           -0.569470\n",
              "SeTime14           -0.570360\n",
              "DiffSeTime1         0.186342\n",
              "DiffSeTime2         0.000000\n",
              "DiffSeTime3         0.123067\n",
              "DiffSeTime4         0.006030\n",
              "DiffSeTime5         0.145505\n",
              "DiffSeTime6         0.017165\n",
              "DiffSeTime7         0.156442\n",
              "DiffSeTime8         0.000000\n",
              "DiffSeTime9         0.167841\n",
              "DiffSeTime10        0.006848\n",
              "DiffSeTime11        0.155642\n",
              "DiffSeTime12        0.014714\n",
              "DiffSeTime13        0.150387\n",
              "DiffSeTime14        0.014303\n",
              "Alpha              -0.625400\n",
              "Se                 -0.570336\n",
              "Name: 1755, dtype: float64"
            ]
          },
          "metadata": {
            "tags": []
          },
          "execution_count": 183
        }
      ]
    },
    {
      "cell_type": "markdown",
      "metadata": {
        "colab_type": "text",
        "id": "K3xwmhsr3NHS"
      },
      "source": [
        "## Part 4 - Mini-batch and Stochastic Gradient Descent [3 marks]"
      ]
    },
    {
      "cell_type": "markdown",
      "metadata": {
        "id": "X6eT9MIB-DSa",
        "colab_type": "text"
      },
      "source": [
        "When B=1, we call that stochastic gradient descent.  When B=#train data points, it is full-batch (ie all data points are used, every cycle). Anywhere in between is mini-batch (we use some of the data).  \n",
        "\n",
        "1. Implement Mini-batch Gradient Descent. \n",
        "First try to implement it without looking at other resources, but if you need a hint take a look [here](https://towardsdatascience.com/gradient-descent-explanation-implementation-c74005ff7dd1) and [here](https://ml-cheatsheet.readthedocs.io/en/latest/gradient_descent.html).\n",
        "\n",
        "2. Sweep different values for the mini-batch size (including 1 -- Stochastic GD) with a fixed learning rate and report your findings on a plot (training error and validation error vs. iterations)."
      ]
    },
    {
      "cell_type": "code",
      "metadata": {
        "id": "jGQ4_OPkleDq",
        "colab_type": "code",
        "colab": {}
      },
      "source": [
        ""
      ],
      "execution_count": null,
      "outputs": []
    },
    {
      "cell_type": "markdown",
      "metadata": {
        "id": "m0XR0IpjlJwN",
        "colab_type": "text"
      },
      "source": [
        "## Part 5 - Learning Rate [2 marks]\n",
        "Select the best batch size based on fastest convergence (number of times you update the weights) and sweep the learning rate while applying Mini-batch GD. Report your findings on a plot.\n"
      ]
    },
    {
      "cell_type": "code",
      "metadata": {
        "id": "ABlVgNHI5Sic",
        "colab_type": "code",
        "colab": {}
      },
      "source": [
        ""
      ],
      "execution_count": null,
      "outputs": []
    },
    {
      "cell_type": "markdown",
      "metadata": {
        "id": "zJllnLWSmmnv",
        "colab_type": "text"
      },
      "source": [
        "## Part 6 - Regularizers [4 marks]\n",
        "\n",
        "\n",
        "\n",
        "1.   Formula (use a text cell --markdown-- and write in latex): \n",
        "  *   Derive the Direct solution formula when a L1 regularizer ($\\lambda_1$) is employed.\n",
        "  *   Derive the Direct solution formula when a L2 regularizer ($\\lambda_2$) is employed.\n",
        "  *   Derive the Gradient Descent weight update formula when the L1 regularizer is employed.\n",
        "  *   Derive the Gradient Descent weight update formula when the L2 regularizer is employed.\n",
        "\n",
        "\n",
        "\n",
        "2.   Evaluation:\n",
        "\n",
        "  *  Apply L1 and L2 regularizers (separately) to the direct solution and plot train and validation error as a function of the $\\lambda$. Find the best regularizer ($\\lambda$) values to use in the next steps.\n",
        "\n",
        "    *   Plot mini-batch GD train error and validation error when $\\lambda_1$ regularizer is employed. (X-axis: iterations)\n",
        "\n",
        "    *   Plot mini-batch GD train error and validation error when $\\lambda_2$ regularizer is employed. (X-axis: iterations)\n",
        "\n",
        "\n",
        "\n",
        "* Summarize your findings and explain whether L1 or L2 regularizers are helping the GD convergence. Is it always safe to use a L1 regularizer? How about L2?\n",
        "\n"
      ]
    },
    {
      "cell_type": "code",
      "metadata": {
        "id": "_DCAL3zNBeWr",
        "colab_type": "code",
        "colab": {}
      },
      "source": [
        ""
      ],
      "execution_count": null,
      "outputs": []
    },
    {
      "cell_type": "markdown",
      "metadata": {
        "colab_type": "text",
        "id": "_APuh43i3NHU"
      },
      "source": [
        "## Part 7 - Introducing Momentum [4 marks]"
      ]
    },
    {
      "cell_type": "markdown",
      "metadata": {
        "colab_type": "text",
        "id": "MabNnVcW3NHU"
      },
      "source": [
        "Momentum is a popular technique that helps the gradient descent algorithm to converge faster. Simply, it behaves like a moving average of gradients. First, take a look at [here](https://towardsdatascience.com/stochastic-gradient-descent-with-momentum-a84097641a5d) to get familiar with the concept.\n",
        "\n",
        "To summarize, If the weight update formula in the time-step $t$ is $w_t = w_{t-1} - \\alpha~g_t$, the $g_t$ using momentum could be computed as $g_t = \\beta~g_{t-1} + (1-\\beta) \\frac{{\\partial J}}{\\partial w}$. $\\beta$ is the momentum coefficient, between [0, 1]. Weight updates ($g_t$) with momentum are not only computed based on the derivative of the loss function but also is a function of previous weight updates.\n",
        "\n",
        "If you put $\\beta=0$ in the $g_t$ equation, it would be the original gradient descent method. \n",
        "\n",
        "Train a linear model with a regularizer and various values of momentums. Plot your training and validation error for each iteration. Comment on the effect of momentum."
      ]
    },
    {
      "cell_type": "code",
      "metadata": {
        "id": "J6y-mK8r5TD3",
        "colab_type": "code",
        "colab": {}
      },
      "source": [
        ""
      ],
      "execution_count": null,
      "outputs": []
    },
    {
      "cell_type": "markdown",
      "metadata": {
        "colab_type": "text",
        "id": "0cS99Cxw3NHV"
      },
      "source": [
        "## Part 8 - Find a dataset online [3 marks]\n"
      ]
    },
    {
      "cell_type": "markdown",
      "metadata": {
        "id": "zIUuhPqA1WUe",
        "colab_type": "text"
      },
      "source": [
        "Find a dataset online and train a linear model with the techniques you learned to make a prediction. \n",
        "\n",
        "*   Introduce your dataset,\n",
        "*   How did you train your model,\n",
        "*   Show your results.\n",
        "\n",
        "Hint: you can find various datasets in here: https://www.kaggle.com/datasets.\n",
        "\n",
        "To use a dataset in Colab, you can upload it in your Google drive and access it in Colab ([help here](https://medium.com/analytics-vidhya/how-to-fetch-kaggle-datasets-into-google-colab-ea682569851a)), or you can download the dataset on your local machine and upload it directly to Colab using the following script.\n",
        "\n",
        "```\n",
        "from google.colab import files\n",
        "uploaded = files.upload()\n",
        "```\n",
        "\n",
        "When submitting your project on Quercus, Please make sure you are also uploading your dataset so we can fully run your notebook.\n",
        "\n",
        "\n",
        "\n",
        "\n"
      ]
    },
    {
      "cell_type": "code",
      "metadata": {
        "id": "pQlikNdORpfS",
        "colab_type": "code",
        "colab": {}
      },
      "source": [
        ""
      ],
      "execution_count": null,
      "outputs": []
    }
  ]
}
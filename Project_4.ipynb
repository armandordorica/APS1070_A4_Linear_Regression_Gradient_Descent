{
  "nbformat": 4,
  "nbformat_minor": 0,
  "metadata": {
    "colab": {
      "name": "Project_4.ipynb",
      "provenance": [],
      "collapsed_sections": [],
      "toc_visible": true,
      "include_colab_link": true
    },
    "kernelspec": {
      "display_name": "Python 3",
      "language": "python",
      "name": "python3"
    },
    "language_info": {
      "codemirror_mode": {
        "name": "ipython",
        "version": 3
      },
      "file_extension": ".py",
      "mimetype": "text/x-python",
      "name": "python",
      "nbconvert_exporter": "python",
      "pygments_lexer": "ipython3",
      "version": "3.7.4"
    },
    "accelerator": "GPU"
  },
  "cells": [
    {
      "cell_type": "markdown",
      "metadata": {
        "id": "view-in-github",
        "colab_type": "text"
      },
      "source": [
        "<a href=\"https://colab.research.google.com/github/armandordorica/APS1070_A4_Linear_Regression_Gradient_Descent/blob/master/Project_4.ipynb\" target=\"_parent\"><img src=\"https://colab.research.google.com/assets/colab-badge.svg\" alt=\"Open In Colab\"/></a>"
      ]
    },
    {
      "cell_type": "markdown",
      "metadata": {
        "colab_type": "text",
        "id": "OTpnyUEJrAjE"
      },
      "source": [
        "# Project 4, APS1070 Summer 2020\n",
        "#### **Linear Regression -  20 points**\n",
        "**Deadline: Aug 2, 23:00**\n",
        "\n",
        "**Academic Integrity**\n",
        "\n",
        "This project is individual - it is to be completed on your own. If you have questions, please post your query in the APS1070 Piazza Q&A forums (the answer might be useful to others!).\n",
        "\n",
        "Do not share your code with others, or post your work online. Do not submit code that you have not written yourself. Students suspected of plagiarism on a project, midterm or exam will be referred to the department for formal discipline for breaches of the Student Code of Conduct."
      ]
    },
    {
      "cell_type": "markdown",
      "metadata": {
        "colab_type": "text",
        "id": "fUdJ6xw3rJIG"
      },
      "source": [
        "Please fill out the following:\n",
        "\n",
        "\n",
        "*   Your **name**: Armando Ordorica\n",
        "*   Your **student number**: 100 559 2164\n",
        "\n"
      ]
    },
    {
      "cell_type": "markdown",
      "metadata": {
        "colab_type": "text",
        "id": "o4UwjkNZ3NGk"
      },
      "source": [
        "## Part 1 - Getting Started [1 mark]"
      ]
    },
    {
      "cell_type": "markdown",
      "metadata": {
        "id": "Y62qieYVbct2",
        "colab_type": "text"
      },
      "source": [
        "In this project, we are designing a controller to manage the ailerons of an F16 Aircraft! \n",
        "![Ailerons](https://raw.githubusercontent.com/aps1070-2019/datasets/master/img/airplane.gif) [Ref](https://www.grc.nasa.gov/www/k-12/BGA/Mike/airplane_parts_act.htm) \n",
        "\n",
        "\n",
        "The features describe the airplane's status, and the target is to predict the `Goal` column, which is a command that our controller should issue."
      ]
    },
    {
      "cell_type": "code",
      "metadata": {
        "id": "wVI7N2nWbct3",
        "colab_type": "code",
        "colab": {}
      },
      "source": [
        "import pandas as pd\n",
        "import numpy as np\n",
        "df=pd.read_csv(\"https://raw.githubusercontent.com/aps1070-2019/datasets/master/F16L.csv\" , skipinitialspace=True)"
      ],
      "execution_count": 2,
      "outputs": []
    },
    {
      "cell_type": "code",
      "metadata": {
        "id": "5JloxsI6hfsX",
        "colab_type": "code",
        "colab": {
          "base_uri": "https://localhost:8080/",
          "height": 245
        },
        "outputId": "70ff3fa8-ddad-4ca6-bac9-4993a9360397"
      },
      "source": [
        "df.describe"
      ],
      "execution_count": 3,
      "outputs": [
        {
          "output_type": "execute_result",
          "data": {
            "text/plain": [
              "<bound method NDFrame.describe of        inputs ClimbRate  Sgz     P     Q  ...  DiffSeTime14  Alpha     Se    Goal\n",
              "0                   -17   -6 -0.03  0.14  ...           0.0    0.6  0.021 -0.0008\n",
              "1                  -791   15 -0.28 -0.34  ...           0.0    0.4  0.013 -0.0009\n",
              "2                   -46   48 -0.42  0.07  ...           0.0    0.5  0.019 -0.0005\n",
              "3                   496   -5 -0.21 -0.04  ...           0.0    0.5  0.017 -0.0005\n",
              "4                  -124   16 -0.02  0.05  ...           0.0    0.5  0.018 -0.0006\n",
              "...                 ...  ...   ...   ...  ...           ...    ...    ...     ...\n",
              "13745               -53  -13 -0.07  0.02  ...           0.0    0.5  0.019 -0.0007\n",
              "13746                 1    4 -0.11 -0.07  ...           0.0    0.5  0.016 -0.0004\n",
              "13747               425  -14  0.40  0.07  ...           0.0    0.9  0.032 -0.0015\n",
              "13748               102  -10 -0.19  0.08  ...           0.0    1.4  0.051 -0.0015\n",
              "13749              -165   52  0.08  0.42  ...           0.0    0.9  0.034 -0.0018\n",
              "\n",
              "[13750 rows x 41 columns]>"
            ]
          },
          "metadata": {
            "tags": []
          },
          "execution_count": 3
        }
      ]
    },
    {
      "cell_type": "markdown",
      "metadata": {
        "colab_type": "text",
        "id": "MKRMb9Ju3NGl"
      },
      "source": [
        "1. Split the dataset into training/validation sets (80% training, 20% validation). Note: While splitting use the value of **random state=41**.\n",
        "2. Standardize the data using StandardScaler from sklearn."
      ]
    },
    {
      "cell_type": "code",
      "metadata": {
        "id": "17vf-Wi3cs2C",
        "colab_type": "code",
        "colab": {
          "base_uri": "https://localhost:8080/",
          "height": 163
        },
        "outputId": "10ceb422-0f2d-4f66-d573-8fc2e913d10a"
      },
      "source": [
        "df.columns"
      ],
      "execution_count": 4,
      "outputs": [
        {
          "output_type": "execute_result",
          "data": {
            "text/plain": [
              "Index(['inputs ClimbRate', 'Sgz', 'P', 'Q', 'CurPitch', 'CurRoll', 'AbsRoll',\n",
              "       'DiffClb', 'DiffRollRate', 'DiffDiffClb', 'SeTime1', 'SeTime2',\n",
              "       'SeTime3', 'SeTime4', 'SeTime5', 'SeTime6', 'SeTime7', 'SeTime8',\n",
              "       'SeTime9', 'SeTime10', 'SeTime11', 'SeTime12', 'SeTime13', 'SeTime14',\n",
              "       'DiffSeTime1', 'DiffSeTime2', 'DiffSeTime3', 'DiffSeTime4',\n",
              "       'DiffSeTime5', 'DiffSeTime6', 'DiffSeTime7', 'DiffSeTime8',\n",
              "       'DiffSeTime9', 'DiffSeTime10', 'DiffSeTime11', 'DiffSeTime12',\n",
              "       'DiffSeTime13', 'DiffSeTime14', 'Alpha', 'Se', 'Goal'],\n",
              "      dtype='object')"
            ]
          },
          "metadata": {
            "tags": []
          },
          "execution_count": 4
        }
      ]
    },
    {
      "cell_type": "code",
      "metadata": {
        "id": "Kbnk7x7Mhhmm",
        "colab_type": "code",
        "colab": {
          "base_uri": "https://localhost:8080/",
          "height": 862
        },
        "outputId": "05e88e9d-4298-45e0-a6ec-aa0cbf7b6404"
      },
      "source": [
        "cols = list(df.columns)\n",
        "X_cols = cols[:-1]\n",
        "\n",
        "X = df[X_cols]\n",
        "y = df[cols[-1]]\n",
        "\n",
        "import numpy as np\n",
        "from sklearn.model_selection import train_test_split\n",
        "\n",
        "X_train, X_test, y_train, y_test = train_test_split(X, y, test_size=0.20, random_state=41)\n",
        "X_train, X_test, y_train, y_test"
      ],
      "execution_count": 5,
      "outputs": [
        {
          "output_type": "execute_result",
          "data": {
            "text/plain": [
              "(       inputs ClimbRate  Sgz     P  ...  DiffSeTime14  Alpha     Se\n",
              " 1755                -38  -24 -0.20  ...           0.0    0.5  0.018\n",
              " 11435                 3   16  0.43  ...           0.0    0.5  0.019\n",
              " 6528                381   60  0.25  ...           0.0    0.6  0.022\n",
              " 10868               -68  -23  0.48  ...           0.0    1.0  0.034\n",
              " 2848                 86  -15  0.03  ...           0.0    1.4  0.049\n",
              " ...                 ...  ...   ...  ...           ...    ...    ...\n",
              " 5200                452  -64  0.48  ...           0.0    0.5  0.017\n",
              " 4066                -91  -20  0.06  ...           0.0    0.9  0.032\n",
              " 12172                16   33  0.49  ...           0.0    0.7  0.025\n",
              " 931                  19  -22 -0.21  ...           0.0    0.7  0.025\n",
              " 1984                 33  -40 -0.02  ...           0.0    0.6  0.020\n",
              " \n",
              " [11000 rows x 40 columns],\n",
              "       inputs ClimbRate  Sgz     P  ...  DiffSeTime14  Alpha     Se\n",
              " 576                -39  -20 -0.04  ...           0.0    0.5  0.019\n",
              " 3195                21    4 -0.26  ...           0.0    1.3  0.045\n",
              " 210                -99  -45 -0.80  ...           0.0    0.9  0.034\n",
              " 9718               -73   -1 -0.17  ...           0.0    0.5  0.017\n",
              " 5439              -190  -37  0.55  ...           0.0    0.6  0.022\n",
              " ...                ...  ...   ...  ...           ...    ...    ...\n",
              " 2174               176  -11  0.46  ...           0.0    0.6  0.020\n",
              " 9025              -713   15  0.47  ...           0.0    0.6  0.018\n",
              " 8109              -323  -24  0.24  ...           0.0    0.5  0.017\n",
              " 5022                53  -14 -0.15  ...           0.0    1.1  0.041\n",
              " 6039              -381  -15 -0.21  ...           0.0    0.5  0.017\n",
              " \n",
              " [2750 rows x 40 columns],\n",
              " 1755    -0.0004\n",
              " 11435   -0.0010\n",
              " 6528    -0.0007\n",
              " 10868   -0.0012\n",
              " 2848    -0.0022\n",
              "           ...  \n",
              " 5200    -0.0008\n",
              " 4066    -0.0013\n",
              " 12172   -0.0018\n",
              " 931     -0.0006\n",
              " 1984    -0.0010\n",
              " Name: Goal, Length: 11000, dtype: float64,\n",
              " 576    -0.0004\n",
              " 3195   -0.0020\n",
              " 210    -0.0016\n",
              " 9718   -0.0006\n",
              " 5439   -0.0015\n",
              "          ...  \n",
              " 2174   -0.0011\n",
              " 9025   -0.0006\n",
              " 8109   -0.0006\n",
              " 5022   -0.0013\n",
              " 6039   -0.0004\n",
              " Name: Goal, Length: 2750, dtype: float64)"
            ]
          },
          "metadata": {
            "tags": []
          },
          "execution_count": 5
        }
      ]
    },
    {
      "cell_type": "markdown",
      "metadata": {
        "id": "GLGSinzX-GBr",
        "colab_type": "text"
      },
      "source": [
        "**Standardizing the data**"
      ]
    },
    {
      "cell_type": "code",
      "metadata": {
        "id": "iU0YeofAclTC",
        "colab_type": "code",
        "colab": {}
      },
      "source": [
        "from sklearn.preprocessing import StandardScaler\n",
        "\n",
        "X_train_scaled = StandardScaler().fit_transform(X_train)\n",
        "X_train_scaled_df = pd.DataFrame(X_train_scaled, index=X_train.index, columns=X_cols)\n",
        "\n",
        "X_test_scaled = StandardScaler().fit_transform(X_test)\n",
        "X_test_scaled_df = pd.DataFrame(X_test_scaled, index=X_test.index, columns=X_cols)\n",
        "\n",
        "y_train_scaled = StandardScaler().fit_transform(np.array(y_train).reshape(-1,1))\n",
        "y_train_scaled_df = pd.DataFrame(y_train_scaled, index=y_train.index, columns=['Goal'])\n",
        "\n",
        "y_test_scaled = StandardScaler().fit_transform(np.array(y_test).reshape(-1,1))\n",
        "y_test_scaled_df = pd.DataFrame(y_test_scaled, index=y_test.index, columns=['Goal'])\n"
      ],
      "execution_count": 6,
      "outputs": []
    },
    {
      "cell_type": "code",
      "metadata": {
        "id": "65ZKYuRnk8hu",
        "colab_type": "code",
        "colab": {}
      },
      "source": [
        "# np.array(y_train).reshape(-1,1)"
      ],
      "execution_count": 7,
      "outputs": []
    },
    {
      "cell_type": "code",
      "metadata": {
        "id": "1x2SUs_qlz1Q",
        "colab_type": "code",
        "colab": {}
      },
      "source": [
        "# X_test_scaled_df"
      ],
      "execution_count": 8,
      "outputs": []
    },
    {
      "cell_type": "markdown",
      "metadata": {
        "id": "EQ6KBnbpbcuE",
        "colab_type": "text"
      },
      "source": [
        "## Part 2 - Direct Solution [1 mark]"
      ]
    },
    {
      "cell_type": "markdown",
      "metadata": {
        "colab_type": "text",
        "id": "qh9g1ead3NG-"
      },
      "source": [
        "Implement the direct solution for linear regression on the dataset above (without regularizer).\n",
        "Report training and validation error."
      ]
    },
    {
      "cell_type": "markdown",
      "metadata": {
        "id": "iJo-thKb-VMx",
        "colab_type": "text"
      },
      "source": [
        "**Adding vector of 1s and adding it as the zeroth feature**"
      ]
    },
    {
      "cell_type": "code",
      "metadata": {
        "id": "-v1Xbkli3dfV",
        "colab_type": "code",
        "colab": {}
      },
      "source": [
        "# X_train_scaled_df['b']=1\n",
        "# X_test_scaled_df['b']=1\n",
        "# X_train_scaled_df = X_train_scaled_df[[ 'b','inputs ClimbRate',\n",
        "#  'Sgz',\n",
        "#  'P',\n",
        "#  'Q',\n",
        "#  'CurPitch',\n",
        "#  'CurRoll',\n",
        "#  'AbsRoll',\n",
        "#  'DiffClb',\n",
        "#  'DiffRollRate',\n",
        "#  'DiffDiffClb',\n",
        "#  'SeTime1',\n",
        "#  'SeTime2',\n",
        "#  'SeTime3',\n",
        "#  'SeTime4',\n",
        "#  'SeTime5',\n",
        "#  'SeTime6',\n",
        "#  'SeTime7',\n",
        "#  'SeTime8',\n",
        "#  'SeTime9',\n",
        "#  'SeTime10',\n",
        "#  'SeTime11',\n",
        "#  'SeTime12',\n",
        "#  'SeTime13',\n",
        "#  'SeTime14',\n",
        "#  'DiffSeTime1',\n",
        "#  'DiffSeTime2',\n",
        "#  'DiffSeTime3',\n",
        "#  'DiffSeTime4',\n",
        "#  'DiffSeTime5',\n",
        "#  'DiffSeTime6',\n",
        "#  'DiffSeTime7',\n",
        "#  'DiffSeTime8',\n",
        "#  'DiffSeTime9',\n",
        "#  'DiffSeTime10',\n",
        "#  'DiffSeTime11',\n",
        "#  'DiffSeTime12',\n",
        "#  'DiffSeTime13',\n",
        "#  'DiffSeTime14',\n",
        "#  'Alpha',\n",
        "#  'Se',\n",
        "# ]]\n",
        "\n",
        "# X_test_scaled_df = X_test_scaled_df[[ 'b','inputs ClimbRate',\n",
        "#  'Sgz',\n",
        "#  'P',\n",
        "#  'Q',\n",
        "#  'CurPitch',\n",
        "#  'CurRoll',\n",
        "#  'AbsRoll',\n",
        "#  'DiffClb',\n",
        "#  'DiffRollRate',\n",
        "#  'DiffDiffClb',\n",
        "#  'SeTime1',\n",
        "#  'SeTime2',\n",
        "#  'SeTime3',\n",
        "#  'SeTime4',\n",
        "#  'SeTime5',\n",
        "#  'SeTime6',\n",
        "#  'SeTime7',\n",
        "#  'SeTime8',\n",
        "#  'SeTime9',\n",
        "#  'SeTime10',\n",
        "#  'SeTime11',\n",
        "#  'SeTime12',\n",
        "#  'SeTime13',\n",
        "#  'SeTime14',\n",
        "#  'DiffSeTime1',\n",
        "#  'DiffSeTime2',\n",
        "#  'DiffSeTime3',\n",
        "#  'DiffSeTime4',\n",
        "#  'DiffSeTime5',\n",
        "#  'DiffSeTime6',\n",
        "#  'DiffSeTime7',\n",
        "#  'DiffSeTime8',\n",
        "#  'DiffSeTime9',\n",
        "#  'DiffSeTime10',\n",
        "#  'DiffSeTime11',\n",
        "#  'DiffSeTime12',\n",
        "#  'DiffSeTime13',\n",
        "#  'DiffSeTime14',\n",
        "#  'Alpha',\n",
        "#  'Se',\n",
        "# ]]"
      ],
      "execution_count": 9,
      "outputs": []
    },
    {
      "cell_type": "markdown",
      "metadata": {
        "id": "f3ujK047T7uF",
        "colab_type": "text"
      },
      "source": [
        "### **Casting the datasets to numpy arrays**"
      ]
    },
    {
      "cell_type": "code",
      "metadata": {
        "id": "S6AYXMHc4SEc",
        "colab_type": "code",
        "colab": {}
      },
      "source": [
        "X_train_scaled_np = np.array(X_train_scaled_df)\n",
        "X_test_scaled_np = np.array(X_test_scaled_df)\n",
        "\n",
        "\n",
        "y_train_scaled_np = np.array(y_train_scaled_df).reshape(-1,1)\n",
        "y_test_scaled_np = np.array(y_test_scaled_df).reshape(-1,1)"
      ],
      "execution_count": 10,
      "outputs": []
    },
    {
      "cell_type": "code",
      "metadata": {
        "id": "NQi60P5XVl_1",
        "colab_type": "code",
        "colab": {
          "base_uri": "https://localhost:8080/",
          "height": 33
        },
        "outputId": "d0c65c7e-e7a3-4e34-8171-28d0efb1cfcf"
      },
      "source": [
        "X.shape"
      ],
      "execution_count": 11,
      "outputs": [
        {
          "output_type": "execute_result",
          "data": {
            "text/plain": [
              "(13750, 40)"
            ]
          },
          "metadata": {
            "tags": []
          },
          "execution_count": 11
        }
      ]
    },
    {
      "cell_type": "markdown",
      "metadata": {
        "id": "ZRcG9eFcso9T",
        "colab_type": "text"
      },
      "source": [
        "* We have `N` training examples, `N=13750` in total. \n",
        "* We have `D` dimensions, `D=40` in total. \n",
        "* The weights are represented as a `D` dimensional vector `w` and the targets are reresennted as an `N` dimensional vector `t`. \n",
        "\n",
        "$$y = XW + b1$$\n",
        "\n",
        "**We plug in the `scaled` and `np` versions of `X_train`, `X_test`, `Y_train` and `Y_test`.**\n",
        "$$W= (X^TX)^{-1}X^Ty$$"
      ]
    },
    {
      "cell_type": "code",
      "metadata": {
        "id": "n-xET0wAVe6S",
        "colab_type": "code",
        "colab": {
          "base_uri": "https://localhost:8080/",
          "height": 33
        },
        "outputId": "9f0f9ac4-3ad1-461b-a248-98c3460cf67c"
      },
      "source": [
        "y_train_scaled_np.T.shape"
      ],
      "execution_count": 12,
      "outputs": [
        {
          "output_type": "execute_result",
          "data": {
            "text/plain": [
              "(1, 11000)"
            ]
          },
          "metadata": {
            "tags": []
          },
          "execution_count": 12
        }
      ]
    },
    {
      "cell_type": "code",
      "metadata": {
        "id": "YNb1nI245KCU",
        "colab_type": "code",
        "colab": {
          "base_uri": "https://localhost:8080/",
          "height": 33
        },
        "outputId": "d96ea91b-ec16-4dd8-9cf3-9422b7eb69cd"
      },
      "source": [
        "W = np.dot(np.linalg.inv(np.dot(X_train_scaled_np.T, X_train_scaled_np)), np.dot(X_train_scaled_np.T, y_train_scaled_np))\n",
        "W = W.reshape(-1,1)\n",
        "W.shape"
      ],
      "execution_count": 13,
      "outputs": [
        {
          "output_type": "execute_result",
          "data": {
            "text/plain": [
              "(40, 1)"
            ]
          },
          "metadata": {
            "tags": []
          },
          "execution_count": 13
        }
      ]
    },
    {
      "cell_type": "markdown",
      "metadata": {
        "id": "NAGxU77LUWMa",
        "colab_type": "text"
      },
      "source": [
        "### **Based on the result we obtain for `W`, which is a (40,1) vector and multiply it with `X` as follows: $$X_{train}\\cdot W = X_{train}^{T}W$$**\n",
        "\n",
        "which yields a (11000,1) `y_pred_train_scaled_np` vector. "
      ]
    },
    {
      "cell_type": "code",
      "metadata": {
        "id": "9aZKlezMUmih",
        "colab_type": "code",
        "colab": {
          "base_uri": "https://localhost:8080/",
          "height": 33
        },
        "outputId": "3dea8ef2-a607-443e-c77a-ed9a17721c5c"
      },
      "source": [
        "X_train_scaled_np.shape"
      ],
      "execution_count": 14,
      "outputs": [
        {
          "output_type": "execute_result",
          "data": {
            "text/plain": [
              "(11000, 40)"
            ]
          },
          "metadata": {
            "tags": []
          },
          "execution_count": 14
        }
      ]
    },
    {
      "cell_type": "code",
      "metadata": {
        "id": "GoCjz--p5t_Q",
        "colab_type": "code",
        "colab": {}
      },
      "source": [
        "y_pred_train_scaled_np = np.dot(X_train_scaled_np, W)"
      ],
      "execution_count": 15,
      "outputs": []
    },
    {
      "cell_type": "code",
      "metadata": {
        "id": "uMOqZdUVXvKk",
        "colab_type": "code",
        "colab": {
          "base_uri": "https://localhost:8080/",
          "height": 33
        },
        "outputId": "d0960a1f-fb1a-4f11-82f7-d1c0fec38fce"
      },
      "source": [
        "y_train_scaled_np.shape, y_pred_train_scaled_np.shape"
      ],
      "execution_count": 16,
      "outputs": [
        {
          "output_type": "execute_result",
          "data": {
            "text/plain": [
              "((11000, 1), (11000, 1))"
            ]
          },
          "metadata": {
            "tags": []
          },
          "execution_count": 16
        }
      ]
    },
    {
      "cell_type": "code",
      "metadata": {
        "id": "zJl2x6TlYdJZ",
        "colab_type": "code",
        "colab": {
          "base_uri": "https://localhost:8080/",
          "height": 33
        },
        "outputId": "efaac904-9ea8-4493-9562-82016715417f"
      },
      "source": [
        "np.arange(0, 11000)"
      ],
      "execution_count": 17,
      "outputs": [
        {
          "output_type": "execute_result",
          "data": {
            "text/plain": [
              "array([    0,     1,     2, ..., 10997, 10998, 10999])"
            ]
          },
          "metadata": {
            "tags": []
          },
          "execution_count": 17
        }
      ]
    },
    {
      "cell_type": "code",
      "metadata": {
        "id": "3U2ZiHu654oW",
        "colab_type": "code",
        "colab": {
          "base_uri": "https://localhost:8080/",
          "height": 281
        },
        "outputId": "73367918-d866-437f-8fa7-320058a3c28f"
      },
      "source": [
        "import matplotlib.pyplot as plt\n",
        "\n",
        "plt.scatter(np.arange(0, 11000), y_pred_train_scaled_np, label='prediction')\n",
        "plt.scatter(np.arange(0, 11000), y_train_scaled_np, label='true value')\n",
        "plt.legend()"
      ],
      "execution_count": 18,
      "outputs": [
        {
          "output_type": "execute_result",
          "data": {
            "text/plain": [
              "<matplotlib.legend.Legend at 0x7f9fa6ff2da0>"
            ]
          },
          "metadata": {
            "tags": []
          },
          "execution_count": 18
        },
        {
          "output_type": "display_data",
          "data": {
            "image/png": "[encoded data removed]",
            "text/plain": [
              "<Figure size 432x288 with 1 Axes>"
            ]
          },
          "metadata": {
            "tags": [],
            "needs_background": "light"
          }
        }
      ]
    },
    {
      "cell_type": "markdown",
      "metadata": {
        "id": "BhCMTjLEYns_",
        "colab_type": "text"
      },
      "source": [
        "### **Comparing segments of the dataset to understand similarities between prediction and true value**"
      ]
    },
    {
      "cell_type": "code",
      "metadata": {
        "id": "xAOBbd1jYnNP",
        "colab_type": "code",
        "colab": {
          "base_uri": "https://localhost:8080/",
          "height": 281
        },
        "outputId": "dd63f360-5616-4e59-932c-255cddc4d30f"
      },
      "source": [
        "plt.plot(np.arange(0, 100), y_pred_train_scaled_np[0:100], label='prediction')\n",
        "plt.plot(np.arange(0, 100), y_train_scaled_np[0:100], label='true value')\n",
        "plt.legend()"
      ],
      "execution_count": 19,
      "outputs": [
        {
          "output_type": "execute_result",
          "data": {
            "text/plain": [
              "<matplotlib.legend.Legend at 0x7f9fa6d9ac50>"
            ]
          },
          "metadata": {
            "tags": []
          },
          "execution_count": 19
        },
        {
          "output_type": "display_data",
          "data": {
            "image/png": "[encoded data removed]",
            "text/plain": [
              "<Figure size 432x288 with 1 Axes>"
            ]
          },
          "metadata": {
            "tags": [],
            "needs_background": "light"
          }
        }
      ]
    },
    {
      "cell_type": "code",
      "metadata": {
        "id": "TsfmVlp9ZCL_",
        "colab_type": "code",
        "colab": {
          "base_uri": "https://localhost:8080/",
          "height": 281
        },
        "outputId": "c7d8a6c5-bca2-4fcf-bb28-e7e7aa1fa749"
      },
      "source": [
        "initial_value = 500\n",
        "end_value = 520\n",
        "plt.plot(np.arange(initial_value, end_value), y_pred_train_scaled_np[initial_value:end_value], label='prediction')\n",
        "plt.plot(np.arange(initial_value, end_value), y_train_scaled_np[initial_value:end_value], label='true value')\n",
        "plt.legend()"
      ],
      "execution_count": 20,
      "outputs": [
        {
          "output_type": "execute_result",
          "data": {
            "text/plain": [
              "<matplotlib.legend.Legend at 0x7f9fa6ed59b0>"
            ]
          },
          "metadata": {
            "tags": []
          },
          "execution_count": 20
        },
        {
          "output_type": "display_data",
          "data": {
            "image/png": "[encoded data removed]",
            "text/plain": [
              "<Figure size 432x288 with 1 Axes>"
            ]
          },
          "metadata": {
            "tags": [],
            "needs_background": "light"
          }
        }
      ]
    },
    {
      "cell_type": "code",
      "metadata": {
        "id": "e7_0rCf-58x5",
        "colab_type": "code",
        "colab": {
          "base_uri": "https://localhost:8080/",
          "height": 70
        },
        "outputId": "9e14d2c2-2a46-4c80-e7ab-92a16f0a7369"
      },
      "source": [
        "import seaborn as sns\n",
        "from sklearn.linear_model import LinearRegression\n",
        "from sklearn.linear_model import Ridge\n",
        "from sklearn.preprocessing import PolynomialFeatures\n",
        "from sklearn.metrics import mean_squared_error\n",
        "\n",
        "def rmse(yPred, y):\n",
        "    return np.sqrt(mean_squared_error(yPred, y))"
      ],
      "execution_count": 21,
      "outputs": [
        {
          "output_type": "stream",
          "text": [
            "/usr/local/lib/python3.6/dist-packages/statsmodels/tools/_testing.py:19: FutureWarning: pandas.util.testing is deprecated. Use the functions in the public API at pandas.testing instead.\n",
            "  import pandas.util.testing as tm\n"
          ],
          "name": "stderr"
        }
      ]
    },
    {
      "cell_type": "markdown",
      "metadata": {
        "id": "wBKksgHq8x3-",
        "colab_type": "text"
      },
      "source": [
        "### **Training error**"
      ]
    },
    {
      "cell_type": "code",
      "metadata": {
        "id": "V5dXu-LH6YE-",
        "colab_type": "code",
        "colab": {
          "base_uri": "https://localhost:8080/",
          "height": 33
        },
        "outputId": "224f66b9-885f-4794-88b4-f7768afc9236"
      },
      "source": [
        "print('RMSE: ', rmse(y_pred_train_scaled_np, y_train_scaled_np))\n",
        "close_form_training_error = rmse(y_pred_train_scaled_np, y_train_scaled_np)"
      ],
      "execution_count": 22,
      "outputs": [
        {
          "output_type": "stream",
          "text": [
            "RMSE:  0.4307316495885256\n"
          ],
          "name": "stdout"
        }
      ]
    },
    {
      "cell_type": "markdown",
      "metadata": {
        "id": "L_P8zxDe80hM",
        "colab_type": "text"
      },
      "source": [
        "### **Valudation error**"
      ]
    },
    {
      "cell_type": "code",
      "metadata": {
        "id": "QL5Hhw0F7K2j",
        "colab_type": "code",
        "colab": {}
      },
      "source": [
        "y_pred_test_scaled_np = np.dot(X_test_scaled_np, W)\n",
        "close_form_validation_error =  rmse(y_pred_test_scaled_np, y_test_scaled_np)"
      ],
      "execution_count": 23,
      "outputs": []
    },
    {
      "cell_type": "code",
      "metadata": {
        "id": "RiYfUL527PTj",
        "colab_type": "code",
        "colab": {
          "base_uri": "https://localhost:8080/",
          "height": 33
        },
        "outputId": "89c15d3a-a035-47f4-a06e-65958947d48e"
      },
      "source": [
        "print('RMSE: ', rmse(y_pred_test_scaled_np, y_test_scaled_np))"
      ],
      "execution_count": 24,
      "outputs": [
        {
          "output_type": "stream",
          "text": [
            "RMSE:  0.43909747182364917\n"
          ],
          "name": "stdout"
        }
      ]
    },
    {
      "cell_type": "code",
      "metadata": {
        "id": "wnHGB6VuAPZx",
        "colab_type": "code",
        "colab": {
          "base_uri": "https://localhost:8080/",
          "height": 281
        },
        "outputId": "719d012d-0ab7-4f94-986a-2eb2dc649a3f"
      },
      "source": [
        "initial_value = 500\n",
        "end_value = 520\n",
        "\n",
        "plt.plot(np.arange(initial_value, end_value), y_pred_test_scaled_np[initial_value:end_value], label='prediction on test set')\n",
        "plt.plot(np.arange(initial_value, end_value), y_test_scaled_np[initial_value:end_value], label='true value on test set')\n",
        "plt.legend()"
      ],
      "execution_count": 25,
      "outputs": [
        {
          "output_type": "execute_result",
          "data": {
            "text/plain": [
              "<matplotlib.legend.Legend at 0x7f9fa4669f98>"
            ]
          },
          "metadata": {
            "tags": []
          },
          "execution_count": 25
        },
        {
          "output_type": "display_data",
          "data": {
            "image/png": "[encoded data removed]",
            "text/plain": [
              "<Figure size 432x288 with 1 Axes>"
            ]
          },
          "metadata": {
            "tags": [],
            "needs_background": "light"
          }
        }
      ]
    },
    {
      "cell_type": "code",
      "metadata": {
        "id": "EbrkbxjuZzu5",
        "colab_type": "code",
        "colab": {
          "base_uri": "https://localhost:8080/",
          "height": 281
        },
        "outputId": "e86dbeab-b3cc-46bf-9301-0fd86b4c5a79"
      },
      "source": [
        "initial_value = 2000\n",
        "end_value = 2040\n",
        "\n",
        "plt.plot(np.arange(initial_value, end_value), y_pred_test_scaled_np[initial_value:end_value], label='prediction on test set')\n",
        "plt.plot(np.arange(initial_value, end_value), y_test_scaled_np[initial_value:end_value], label='true value on test set')\n",
        "plt.legend()"
      ],
      "execution_count": 26,
      "outputs": [
        {
          "output_type": "execute_result",
          "data": {
            "text/plain": [
              "<matplotlib.legend.Legend at 0x7f9fa45ed7b8>"
            ]
          },
          "metadata": {
            "tags": []
          },
          "execution_count": 26
        },
        {
          "output_type": "display_data",
          "data": {
            "image/png": "[encoded data removed]",
            "text/plain": [
              "<Figure size 432x288 with 1 Axes>"
            ]
          },
          "metadata": {
            "tags": [],
            "needs_background": "light"
          }
        }
      ]
    },
    {
      "cell_type": "markdown",
      "metadata": {
        "colab_type": "text",
        "id": "tceGCk1V3NG_"
      },
      "source": [
        "## Part 3 - Gradient Descent (GD) [2 marks]"
      ]
    },
    {
      "cell_type": "markdown",
      "metadata": {
        "colab_type": "text",
        "id": "v9DMAs3I3NHB"
      },
      "source": [
        "1. Implement gradient descent (full-batch) for linear regression using a fixed learning rate of $\\alpha= 1e-2$. You should compute the gradients yourself! First try to implement it without looking at other resources, but if you need a hint take a look [here](https://towardsdatascience.com/gradient-descent-explanation-implementation-c74005ff7dd1) and [here](https://ml-cheatsheet.readthedocs.io/en/latest/gradient_descent.html).\n",
        "\n",
        "2. Run the gradient descent for a fixed number of epochs (based on convergence) and verify that the results are closely approximate the direct solution."
      ]
    },
    {
      "cell_type": "markdown",
      "metadata": {
        "id": "H5DXyGfIaGAp",
        "colab_type": "text"
      },
      "source": [
        "$$y = Xw +b1$$\n",
        "where `1` represents a vector of ones. \n",
        "\n",
        "* The gradient descent update rule can be vectorized as follows: \n",
        "\n",
        "$$w \\leftarrow w - \\frac{\\alpha}{N}X^T(y-t)$$\n",
        "\n",
        "Where $\\alpha$ is the learning rate. \n",
        "\n",
        "We initialize the wrights to some value (e.g. all zeros), and repeatedly adjust them in the direction that most decreases the cost function. \n",
        "* The entries of the gradient vector are simply the partial derivatives with respect to each of the variables. \n",
        "* To decrease a function as quickly as possible, we should update the parameters in the direction opposite to the gradient. \n",
        "* The following update rule is known as **gradient descent**: \n",
        "$$w \\leftarrow - \\alpha \\frac{\\partial J}{\\partial w_j}$$\n",
        "* We write one function that computes the derivative and another function that implements the gradient descent. \n"
      ]
    },
    {
      "cell_type": "markdown",
      "metadata": {
        "id": "RNjMKP3TeOaG",
        "colab_type": "text"
      },
      "source": [
        "**1. We initialize `w` to be a vector of zeros and `b` to be a vector of `1`s**\n",
        "\n",
        "* NOTE: Actually, because our data is already scaled and centered at zero, we will ignore the bias term by adding \"zeros\" because otherwise the RMSE asymptotes at 1. "
      ]
    },
    {
      "cell_type": "code",
      "metadata": {
        "id": "VsAHuimudZos",
        "colab_type": "code",
        "colab": {}
      },
      "source": [
        "w_init_grad_desc = np.zeros((40,1))\n",
        "b = np.zeros((11000,1))\n",
        "alpha = 0.001\n",
        "N = 11000\n",
        "rmses_gd = []"
      ],
      "execution_count": 27,
      "outputs": []
    },
    {
      "cell_type": "markdown",
      "metadata": {
        "id": "0Ny1ZL--eVMB",
        "colab_type": "text"
      },
      "source": [
        "**2. We obtain `y_gd_pred_scaled_np`, where `gd` stands for \"gradient descent\" by `y_gd_pred_scaled_np`= `X_train_scaled_np` $\\cdot$ `w_init_grad_desc` + `b`**"
      ]
    },
    {
      "cell_type": "code",
      "metadata": {
        "id": "a5hC9NUkc-aI",
        "colab_type": "code",
        "colab": {}
      },
      "source": [
        "y_gd_pred_train_scaled_np = np.dot(X_train_scaled_np, w_init_grad_desc) + b"
      ],
      "execution_count": 28,
      "outputs": []
    },
    {
      "cell_type": "markdown",
      "metadata": {
        "id": "yKfVUgXzez54",
        "colab_type": "text"
      },
      "source": [
        "**At the beginning it's simply a vector of `1`s**"
      ]
    },
    {
      "cell_type": "code",
      "metadata": {
        "id": "a2-fY7d9ewqj",
        "colab_type": "code",
        "colab": {
          "base_uri": "https://localhost:8080/",
          "height": 281
        },
        "outputId": "a6e1964f-6e70-441b-fd5f-bd448b6ebdea"
      },
      "source": [
        "plt.plot(y_gd_pred_train_scaled_np)"
      ],
      "execution_count": 29,
      "outputs": [
        {
          "output_type": "execute_result",
          "data": {
            "text/plain": [
              "[<matplotlib.lines.Line2D at 0x7f9fa4565320>]"
            ]
          },
          "metadata": {
            "tags": []
          },
          "execution_count": 29
        },
        {
          "output_type": "display_data",
          "data": {
            "image/png": "[encoded data removed]",
            "text/plain": [
              "<Figure size 432x288 with 1 Axes>"
            ]
          },
          "metadata": {
            "tags": [],
            "needs_background": "light"
          }
        }
      ]
    },
    {
      "cell_type": "code",
      "metadata": {
        "id": "odW3A8Zzc-fK",
        "colab_type": "code",
        "colab": {
          "base_uri": "https://localhost:8080/",
          "height": 33
        },
        "outputId": "0c2893ef-f834-4b7e-9e5a-b1c9109b06c6"
      },
      "source": [
        "rmse(y_gd_pred_train_scaled_np, y_train_scaled_np)"
      ],
      "execution_count": 30,
      "outputs": [
        {
          "output_type": "execute_result",
          "data": {
            "text/plain": [
              "1.0"
            ]
          },
          "metadata": {
            "tags": []
          },
          "execution_count": 30
        }
      ]
    },
    {
      "cell_type": "markdown",
      "metadata": {
        "id": "w4a6Rnk3e92Z",
        "colab_type": "text"
      },
      "source": [
        "**Now we update the weight vector using the update rule $$w \\leftarrow w - \\frac{\\alpha}{N}X^T(y-t)$$**"
      ]
    },
    {
      "cell_type": "code",
      "metadata": {
        "id": "J7_Evu-gfITt",
        "colab_type": "code",
        "colab": {}
      },
      "source": [
        "w_init_grad_desc = w_init_grad_desc - alpha/N * np.dot(X_train_scaled_np.T,(y_gd_pred_train_scaled_np-y_train_scaled_np))"
      ],
      "execution_count": 31,
      "outputs": []
    },
    {
      "cell_type": "markdown",
      "metadata": {
        "id": "Q5rXjC1Qfxn9",
        "colab_type": "text"
      },
      "source": [
        "**After we apply the update rule, we try `y` again and check for the `RMSE` value that it yields**"
      ]
    },
    {
      "cell_type": "code",
      "metadata": {
        "id": "Txj7zTdqf5T7",
        "colab_type": "code",
        "colab": {}
      },
      "source": [
        "y_gd_pred_train_scaled_np = np.dot(X_train_scaled_np, w_init_grad_desc) + b\n",
        "rmses_gd.append(rmse(y_gd_pred_train_scaled_np, y_train_scaled_np))"
      ],
      "execution_count": 32,
      "outputs": []
    },
    {
      "cell_type": "markdown",
      "metadata": {
        "id": "DJ_9nDKue7Co",
        "colab_type": "text"
      },
      "source": [
        "**At t=2**\n"
      ]
    },
    {
      "cell_type": "code",
      "metadata": {
        "id": "pKK7UwQFc-W9",
        "colab_type": "code",
        "colab": {}
      },
      "source": [
        "for i in range(0,10000): \n",
        "  w_init_grad_desc = w_init_grad_desc - alpha/N * np.dot(X_train_scaled_np.T,(y_gd_pred_train_scaled_np-y_train_scaled_np))\n",
        "  y_gd_pred_train_scaled_np = np.dot(X_train_scaled_np, w_init_grad_desc) + b\n",
        "  rmse_loss = rmse(y_gd_pred_train_scaled_np, y_train_scaled_np)\n",
        "  rmses_gd.append(rmse_loss)"
      ],
      "execution_count": 33,
      "outputs": []
    },
    {
      "cell_type": "code",
      "metadata": {
        "id": "_HW5exNqeA6C",
        "colab_type": "code",
        "colab": {
          "base_uri": "https://localhost:8080/",
          "height": 311
        },
        "outputId": "5f125f28-258d-4882-ca19-6ef8604075c4"
      },
      "source": [
        "plt.plot(rmses_gd)\n",
        "plt.xlabel(\"Number of iterations\")\n",
        "plt.ylabel(\"RMSE loss\")\n",
        "plt.title(\"RMSE Loss\")"
      ],
      "execution_count": 34,
      "outputs": [
        {
          "output_type": "execute_result",
          "data": {
            "text/plain": [
              "Text(0.5, 1.0, 'RMSE Loss')"
            ]
          },
          "metadata": {
            "tags": []
          },
          "execution_count": 34
        },
        {
          "output_type": "display_data",
          "data": {
            "image/png": "[encoded data removed]",
            "text/plain": [
              "<Figure size 432x288 with 1 Axes>"
            ]
          },
          "metadata": {
            "tags": [],
            "needs_background": "light"
          }
        }
      ]
    },
    {
      "cell_type": "code",
      "metadata": {
        "id": "BJTLR7EVjyRD",
        "colab_type": "code",
        "colab": {
          "base_uri": "https://localhost:8080/",
          "height": 33
        },
        "outputId": "193a7b1d-5891-4a57-face-52f0f48a2be8"
      },
      "source": [
        "rmse(y_gd_pred_train_scaled_np, y_train_scaled_np)"
      ],
      "execution_count": 35,
      "outputs": [
        {
          "output_type": "execute_result",
          "data": {
            "text/plain": [
              "0.42566746996276966"
            ]
          },
          "metadata": {
            "tags": []
          },
          "execution_count": 35
        }
      ]
    },
    {
      "cell_type": "code",
      "metadata": {
        "id": "_X0bmvcviMbt",
        "colab_type": "code",
        "colab": {
          "base_uri": "https://localhost:8080/",
          "height": 33
        },
        "outputId": "72822767-82ce-4fff-b1a3-4a9833368395"
      },
      "source": [
        "print(\"Minimum RMSE loss after 10000 iterations is :{}\".format(rmses_gd[-1]))"
      ],
      "execution_count": 36,
      "outputs": [
        {
          "output_type": "stream",
          "text": [
            "Minimum RMSE loss after 10000 iterations is :0.42566746996276966\n"
          ],
          "name": "stdout"
        }
      ]
    },
    {
      "cell_type": "markdown",
      "metadata": {
        "id": "muW8YIKOiqv-",
        "colab_type": "text"
      },
      "source": [
        "### **Showing how predicted and true values compare for the training set for random segments**"
      ]
    },
    {
      "cell_type": "code",
      "metadata": {
        "id": "6medeT_VeA-e",
        "colab_type": "code",
        "colab": {
          "base_uri": "https://localhost:8080/",
          "height": 297
        },
        "outputId": "8eebe4cd-e560-4512-f6b4-e7f03057d592"
      },
      "source": [
        "initial_value = 10000\n",
        "end_value = 10050\n",
        "\n",
        "plt.plot(np.arange(initial_value, end_value), y_gd_pred_train_scaled_np[initial_value:end_value], label='prediction on training set')\n",
        "plt.plot(np.arange(initial_value, end_value), y_train_scaled_np[initial_value:end_value], label='true value on training set')\n",
        "plt.title(\"Training vs Testing sets using Gradient Descent\")\n",
        "plt.legend()"
      ],
      "execution_count": 37,
      "outputs": [
        {
          "output_type": "execute_result",
          "data": {
            "text/plain": [
              "<matplotlib.legend.Legend at 0x7f9fa444be80>"
            ]
          },
          "metadata": {
            "tags": []
          },
          "execution_count": 37
        },
        {
          "output_type": "display_data",
          "data": {
            "image/png": "[encoded data removed]",
            "text/plain": [
              "<Figure size 432x288 with 1 Axes>"
            ]
          },
          "metadata": {
            "tags": [],
            "needs_background": "light"
          }
        }
      ]
    },
    {
      "cell_type": "markdown",
      "metadata": {
        "id": "VxbFR3gAi-Jt",
        "colab_type": "text"
      },
      "source": [
        "**We will compute the loss on the testing set by multiplying the fitted weight vector with the `X_train` set.**"
      ]
    },
    {
      "cell_type": "code",
      "metadata": {
        "id": "iq0Bm-HJFcuS",
        "colab_type": "code",
        "colab": {
          "base_uri": "https://localhost:8080/",
          "height": 33
        },
        "outputId": "7198e5f4-0c8a-4b19-d90d-aee6eccc3633"
      },
      "source": [
        "y_gd_pred_test_scaled_np = np.dot(X_test_scaled_np, w_init_grad_desc)\n",
        "rmse(y_gd_pred_test_scaled_np, y_test_scaled_np)"
      ],
      "execution_count": 38,
      "outputs": [
        {
          "output_type": "execute_result",
          "data": {
            "text/plain": [
              "0.42839716035487174"
            ]
          },
          "metadata": {
            "tags": []
          },
          "execution_count": 38
        }
      ]
    },
    {
      "cell_type": "code",
      "metadata": {
        "id": "Y3Mqoz6_jbyx",
        "colab_type": "code",
        "colab": {
          "base_uri": "https://localhost:8080/",
          "height": 50
        },
        "outputId": "b3a0bd87-1836-4c5a-823f-08e0e79cd71d"
      },
      "source": [
        "print(\"training error:{}\".format(rmse(y_gd_pred_train_scaled_np, y_train_scaled_np)))\n",
        "print(\"testing error:{}\".format(rmse(y_gd_pred_test_scaled_np, y_test_scaled_np)))"
      ],
      "execution_count": 39,
      "outputs": [
        {
          "output_type": "stream",
          "text": [
            "training error:0.42566746996276966\n",
            "testing error:0.42839716035487174\n"
          ],
          "name": "stdout"
        }
      ]
    },
    {
      "cell_type": "code",
      "metadata": {
        "id": "rM5iWTgdk4BV",
        "colab_type": "code",
        "colab": {
          "base_uri": "https://localhost:8080/",
          "height": 50
        },
        "outputId": "58d2a05a-8719-4fe4-ee4c-0394f3dca1ca"
      },
      "source": [
        "print(\"close form training error:{}\".format(close_form_training_error))\n",
        "print(\"close form testing error:{}\".format(close_form_validation_error))"
      ],
      "execution_count": 40,
      "outputs": [
        {
          "output_type": "stream",
          "text": [
            "close form training error:0.4307316495885256\n",
            "close form testing error:0.43909747182364917\n"
          ],
          "name": "stdout"
        }
      ]
    },
    {
      "cell_type": "markdown",
      "metadata": {
        "id": "z3xxzz4QlCc7",
        "colab_type": "text"
      },
      "source": [
        "### **We obtain very similar error using gradient descent versus direct solution**"
      ]
    },
    {
      "cell_type": "markdown",
      "metadata": {
        "colab_type": "text",
        "id": "K3xwmhsr3NHS"
      },
      "source": [
        "## Part 4 - Mini-batch and Stochastic Gradient Descent [3 marks]"
      ]
    },
    {
      "cell_type": "markdown",
      "metadata": {
        "id": "X6eT9MIB-DSa",
        "colab_type": "text"
      },
      "source": [
        "When B=1, we call that stochastic gradient descent.  When B=#train data points, it is full-batch (ie all data points are used, every cycle). Anywhere in between is mini-batch (we use some of the data).  \n",
        "\n",
        "1. Implement Mini-batch Gradient Descent. \n",
        "First try to implement it without looking at other resources, but if you need a hint take a look [here](https://towardsdatascience.com/gradient-descent-explanation-implementation-c74005ff7dd1) and [here](https://ml-cheatsheet.readthedocs.io/en/latest/gradient_descent.html).\n",
        "\n",
        "2. Sweep different values for the mini-batch size (including 1 -- Stochastic GD) with a fixed learning rate and report your findings on a plot (training error and validation error vs. iterations)."
      ]
    },
    {
      "cell_type": "markdown",
      "metadata": {
        "id": "wE7370pl3DND",
        "colab_type": "text"
      },
      "source": [
        "* $\\theta$ **refers to the network's parameters, which will contain all of the network's weights and biases.**\n",
        "* $\\epsilon$ **represents the cost function**\n",
        "* Combinations of network's parameters from $\\theta$ map to a specific point on the $\\epsilon$ space (cost surface). \n",
        "\n",
        "\n",
        "**Mini-batch gradient descent**\n",
        "* Compute the gradient and average it over a batch of $B$ training examples, typically on the order of 100. \n",
        "* Number of operations required to compute the gradient for a mini-batch is linear in the size of the mini-batch, since mathematically, the gradient for each training example is a separate computation. \n",
        "* If all operations were equally expensive, one would always prefere to use B=1. \n",
        "\n",
        "**Why do we use $B>1$?**\n",
        "* Operations in mini-batches can be vectorized by writing them in terms of matrix operations. This reduces interpreter overhead and makes use of efficient and carefully tuned linear algebra libraries. \n",
        "* We can exploit parallelism on GPUs when B is large, since the gradients can be computed independently for each training example. "
      ]
    },
    {
      "cell_type": "markdown",
      "metadata": {
        "id": "syZaT-AA60KZ",
        "colab_type": "text"
      },
      "source": [
        "* Set $B=100$ and let's split our original `X` and `Y` into minibatches of size 100. \n",
        "* Since we have 11,000 training examples, we will have 110 mini batches that will come into mini-batch pairs denoted by: \n",
        "$$minibatch_t= (X^{\\{t\\}}, Y^{\\{t\\}})$$\n",
        "* Therefore, all our minibatches $X^{\\{t\\}}$ will have dimensions $D \\times B = 40 \\times 11,000$\n",
        "\n"
      ]
    },
    {
      "cell_type": "markdown",
      "metadata": {
        "id": "Ss9rIW-iK1TD",
        "colab_type": "text"
      },
      "source": [
        "### **Initializing our hyperparameters**"
      ]
    },
    {
      "cell_type": "code",
      "metadata": {
        "id": "S_roEnWSAOVa",
        "colab_type": "code",
        "colab": {
          "base_uri": "https://localhost:8080/",
          "height": 98
        },
        "outputId": "85004dde-64eb-422e-fb2d-dd78ebc1cac2"
      },
      "source": [
        "w_init_grad_desc = np.zeros((40,1))\n",
        "b = np.zeros((11000,1))\n",
        "alpha = 0.001\n",
        "N = 11000\n",
        "rmses_gd = []\n",
        "B = 100\n",
        "num_minibatches = len(X_train_scaled_df)//B\n",
        "print(\"HYPER PARAMETERS\")\n",
        "print(\"alpha:{}\".format(alpha))\n",
        "print(\"Num of training examples = N:{}\".format(N))\n",
        "print(\"Mini batch size = B:{}\".format(B))\n",
        "print(\"Num of mini batches = num_minibatches:{}\".format(num_minibatches))"
      ],
      "execution_count": 176,
      "outputs": [
        {
          "output_type": "stream",
          "text": [
            "HYPER PARAMETERS\n",
            "alpha:0.001\n",
            "Num of training examples = N:11000\n",
            "Mini batch size = B:100\n",
            "Num of mini batches = num_minibatches:110\n"
          ],
          "name": "stdout"
        }
      ]
    },
    {
      "cell_type": "markdown",
      "metadata": {
        "id": "8Yr6No0bCQ4c",
        "colab_type": "text"
      },
      "source": [
        "**Creating list of minibatches for X_train_scaled_df**"
      ]
    },
    {
      "cell_type": "code",
      "metadata": {
        "id": "iDrAcTjoAewV",
        "colab_type": "code",
        "colab": {}
      },
      "source": [
        "X_train_scaled_df.reset_index(inplace=True)\n",
        "X_train_scaled_df.drop(columns=['index'], inplace=True)\n",
        "\n",
        "y_train_scaled_df.reset_index(inplace=True)\n",
        "y_train_scaled_df.drop(columns=['index'], inplace=True)\n",
        "\n",
        "j = 0\n",
        "X_train_scaled_minibatches_df=[]\n",
        "y_train_scaled_minibatches_df=[]\n",
        "for i in range(0, num_minibatches):\n",
        "  X_train_scaled_minibatches_df.append(X_train_scaled_df.iloc[j: j+100])\n",
        "  y_train_scaled_minibatches_df.append(y_train_scaled_df.iloc[j: j+100])\n",
        "  j=j+B"
      ],
      "execution_count": 88,
      "outputs": []
    },
    {
      "cell_type": "markdown",
      "metadata": {
        "id": "rd-DHR87K9f4",
        "colab_type": "text"
      },
      "source": [
        "### **Casting mini batches to numpy arrays**"
      ]
    },
    {
      "cell_type": "code",
      "metadata": {
        "id": "xUvEGCnxDMN6",
        "colab_type": "code",
        "colab": {}
      },
      "source": [
        "j = 0\n",
        "X_train_scaled_minibatches_np=[]\n",
        "y_train_scaled_minibatches_np=[]\n",
        "for i in range(0, num_minibatches):\n",
        "  X_train_scaled_minibatches_np.append(np.array(X_train_scaled_df.iloc[j: j+100]))\n",
        "  y_train_scaled_minibatches_np.append(np.array(y_train_scaled_df.iloc[j: j+100]))\n",
        "  j=j+B"
      ],
      "execution_count": 178,
      "outputs": []
    },
    {
      "cell_type": "markdown",
      "metadata": {
        "id": "S-00m1XNJqO9",
        "colab_type": "text"
      },
      "source": [
        "**Running the same vectorized forward propagation algorithm with weight update rule but on minibatches instead**"
      ]
    },
    {
      "cell_type": "code",
      "metadata": {
        "id": "w3C6uXmSCnel",
        "colab_type": "code",
        "colab": {}
      },
      "source": [
        "w_init_minibatch = np.zeros((40,1))\n",
        "rmses_minibatches = []\n",
        "num_epochs = 100\n",
        "\n",
        "for i in range(0, num_epochs): \n",
        "  rmses_minibatch = []\n",
        "  for t in range(0, num_minibatches): \n",
        "    y_minibatch_pred_train_scaled_np = np.dot(X_train_scaled_minibatches_np[t], w_init_minibatch)\n",
        "    w_init_minibatch = w_init_minibatch - alpha/B * np.dot(X_train_scaled_minibatches_np[t].T,(y_minibatch_pred_train_scaled_np-y_train_scaled_minibatches_np[t]))\n",
        "    rmse_loss = rmse(y_train_scaled_minibatches_np[t], y_minibatch_pred_train_scaled_np)\n",
        "    rmses_minibatch.append(rmse_loss)\n",
        "  rmses_minibatches.append(np.mean(rmses_minibatch))\n",
        "  "
      ],
      "execution_count": 179,
      "outputs": []
    },
    {
      "cell_type": "code",
      "metadata": {
        "id": "vPdk--KaFw0e",
        "colab_type": "code",
        "colab": {
          "base_uri": "https://localhost:8080/",
          "height": 311
        },
        "outputId": "8677e6a0-14aa-40bb-9f23-097c2ffaba45"
      },
      "source": [
        "plt.plot(rmses_minibatches)\n",
        "plt.title(\"RMSE Loss of minibatch, using B={}\".format(B))\n",
        "plt.xlabel(\"Number of epochs\")"
      ],
      "execution_count": 180,
      "outputs": [
        {
          "output_type": "execute_result",
          "data": {
            "text/plain": [
              "Text(0.5, 0, 'Number of epochs')"
            ]
          },
          "metadata": {
            "tags": []
          },
          "execution_count": 180
        },
        {
          "output_type": "display_data",
          "data": {
            "image/png": "[encoded data removed]",
            "text/plain": [
              "<Figure size 432x288 with 1 Axes>"
            ]
          },
          "metadata": {
            "tags": [],
            "needs_background": "light"
          }
        }
      ]
    },
    {
      "cell_type": "markdown",
      "metadata": {
        "id": "hyeoATR1Jymi",
        "colab_type": "text"
      },
      "source": [
        "### **Determining convergence**\n",
        "* We can declare convergence if the cost function decreases by less than $10^{-3}$ in one iteration"
      ]
    },
    {
      "cell_type": "code",
      "metadata": {
        "id": "_TKCJ1-EJ9Sm",
        "colab_type": "code",
        "colab": {
          "base_uri": "https://localhost:8080/",
          "height": 33
        },
        "outputId": "2b6e5bd2-2590-4a98-9374-1f11cf119e2a"
      },
      "source": [
        "i = 0\n",
        "while i< len(rmses_minibatches): \n",
        "  if rmses_minibatches[i]-rmses_minibatches[i+1] < 0.001: \n",
        "    print(\"Number of epochs to converge: {}\".format(i))\n",
        "    break \n",
        "  i+=1"
      ],
      "execution_count": 181,
      "outputs": [
        {
          "output_type": "stream",
          "text": [
            "Number of epochs to converge: 24\n"
          ],
          "name": "stdout"
        }
      ]
    },
    {
      "cell_type": "markdown",
      "metadata": {
        "id": "ouSlyhYAIaTy",
        "colab_type": "text"
      },
      "source": [
        "###**Evaluating results on Test data**"
      ]
    },
    {
      "cell_type": "code",
      "metadata": {
        "id": "FpndLOZUHdXH",
        "colab_type": "code",
        "colab": {
          "base_uri": "https://localhost:8080/",
          "height": 50
        },
        "outputId": "ccb9d939-2af1-4622-f593-19e05c203fdd"
      },
      "source": [
        "y_minibatch_pred_train_scaled_np = np.dot(X_train_scaled_np, w_init_minibatch)\n",
        "y_minibatch_pred_test_scaled_np = np.dot(X_test_scaled_np, w_init_minibatch)\n",
        "\n",
        "rmse_minibatch_train = rmse(y_train_scaled_np, y_minibatch_pred_train_scaled_np)\n",
        "rmse_minibatch_test = rmse(y_test_scaled_np, y_minibatch_pred_test_scaled_np)\n",
        "\n",
        "print(\"training error:{}\".format(rmse_minibatch_train))\n",
        "print(\"testing error:{}\".format(rmse_minibatch_test))"
      ],
      "execution_count": 182,
      "outputs": [
        {
          "output_type": "stream",
          "text": [
            "training error:0.4256581490655238\n",
            "testing error:0.4285845584402317\n"
          ],
          "name": "stdout"
        }
      ]
    },
    {
      "cell_type": "markdown",
      "metadata": {
        "id": "m0XR0IpjlJwN",
        "colab_type": "text"
      },
      "source": [
        "## Part 5 - Learning Rate [2 marks]\n",
        "Select the best batch size based on fastest convergence (number of times you update the weights) and sweep the learning rate while applying Mini-batch GD. Report your findings on a plot.\n"
      ]
    },
    {
      "cell_type": "code",
      "metadata": {
        "id": "ABlVgNHI5Sic",
        "colab_type": "code",
        "colab": {}
      },
      "source": [
        ""
      ],
      "execution_count": null,
      "outputs": []
    },
    {
      "cell_type": "markdown",
      "metadata": {
        "id": "zJllnLWSmmnv",
        "colab_type": "text"
      },
      "source": [
        "## Part 6 - Regularizers [4 marks]\n",
        "\n",
        "\n",
        "\n",
        "1.   Formula (use a text cell --markdown-- and write in latex): \n",
        "  *   Derive the Direct solution formula when a L1 regularizer ($\\lambda_1$) is employed.\n",
        "  *   Derive the Direct solution formula when a L2 regularizer ($\\lambda_2$) is employed.\n",
        "  *   Derive the Gradient Descent weight update formula when the L1 regularizer is employed.\n",
        "  *   Derive the Gradient Descent weight update formula when the L2 regularizer is employed.\n",
        "\n",
        "\n",
        "\n",
        "2.   Evaluation:\n",
        "\n",
        "  *  Apply L1 and L2 regularizers (separately) to the direct solution and plot train and validation error as a function of the $\\lambda$. Find the best regularizer ($\\lambda$) values to use in the next steps.\n",
        "\n",
        "    *   Plot mini-batch GD train error and validation error when $\\lambda_1$ regularizer is employed. (X-axis: iterations)\n",
        "\n",
        "    *   Plot mini-batch GD train error and validation error when $\\lambda_2$ regularizer is employed. (X-axis: iterations)\n",
        "\n",
        "\n",
        "\n",
        "* Summarize your findings and explain whether L1 or L2 regularizers are helping the GD convergence. Is it always safe to use a L1 regularizer? How about L2?\n",
        "\n"
      ]
    },
    {
      "cell_type": "code",
      "metadata": {
        "id": "_DCAL3zNBeWr",
        "colab_type": "code",
        "colab": {}
      },
      "source": [
        ""
      ],
      "execution_count": null,
      "outputs": []
    },
    {
      "cell_type": "markdown",
      "metadata": {
        "colab_type": "text",
        "id": "_APuh43i3NHU"
      },
      "source": [
        "## Part 7 - Introducing Momentum [4 marks]"
      ]
    },
    {
      "cell_type": "markdown",
      "metadata": {
        "colab_type": "text",
        "id": "MabNnVcW3NHU"
      },
      "source": [
        "Momentum is a popular technique that helps the gradient descent algorithm to converge faster. Simply, it behaves like a moving average of gradients. First, take a look at [here](https://towardsdatascience.com/stochastic-gradient-descent-with-momentum-a84097641a5d) to get familiar with the concept.\n",
        "\n",
        "To summarize, If the weight update formula in the time-step $t$ is $w_t = w_{t-1} - \\alpha~g_t$, the $g_t$ using momentum could be computed as $g_t = \\beta~g_{t-1} + (1-\\beta) \\frac{{\\partial J}}{\\partial w}$. $\\beta$ is the momentum coefficient, between [0, 1]. Weight updates ($g_t$) with momentum are not only computed based on the derivative of the loss function but also is a function of previous weight updates.\n",
        "\n",
        "If you put $\\beta=0$ in the $g_t$ equation, it would be the original gradient descent method. \n",
        "\n",
        "Train a linear model with a regularizer and various values of momentums. Plot your training and validation error for each iteration. Comment on the effect of momentum."
      ]
    },
    {
      "cell_type": "code",
      "metadata": {
        "id": "J6y-mK8r5TD3",
        "colab_type": "code",
        "colab": {}
      },
      "source": [
        ""
      ],
      "execution_count": null,
      "outputs": []
    },
    {
      "cell_type": "markdown",
      "metadata": {
        "colab_type": "text",
        "id": "0cS99Cxw3NHV"
      },
      "source": [
        "## Part 8 - Find a dataset online [3 marks]\n"
      ]
    },
    {
      "cell_type": "markdown",
      "metadata": {
        "id": "zIUuhPqA1WUe",
        "colab_type": "text"
      },
      "source": [
        "Find a dataset online and train a linear model with the techniques you learned to make a prediction. \n",
        "\n",
        "*   Introduce your dataset,\n",
        "*   How did you train your model,\n",
        "*   Show your results.\n",
        "\n",
        "Hint: you can find various datasets in here: https://www.kaggle.com/datasets.\n",
        "\n",
        "To use a dataset in Colab, you can upload it in your Google drive and access it in Colab ([help here](https://medium.com/analytics-vidhya/how-to-fetch-kaggle-datasets-into-google-colab-ea682569851a)), or you can download the dataset on your local machine and upload it directly to Colab using the following script.\n",
        "\n",
        "```\n",
        "from google.colab import files\n",
        "uploaded = files.upload()\n",
        "```\n",
        "\n",
        "When submitting your project on Quercus, Please make sure you are also uploading your dataset so we can fully run your notebook.\n",
        "\n",
        "\n",
        "\n",
        "\n"
      ]
    },
    {
      "cell_type": "code",
      "metadata": {
        "id": "pQlikNdORpfS",
        "colab_type": "code",
        "colab": {}
      },
      "source": [
        ""
      ],
      "execution_count": null,
      "outputs": []
    }
  ]
}
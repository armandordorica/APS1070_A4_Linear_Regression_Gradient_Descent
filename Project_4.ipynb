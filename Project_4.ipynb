{
  "nbformat": 4,
  "nbformat_minor": 0,
  "metadata": {
    "colab": {
      "name": "Project_4.ipynb",
      "provenance": [],
      "collapsed_sections": [],
      "toc_visible": true,
      "include_colab_link": true
    },
    "kernelspec": {
      "display_name": "Python 3",
      "language": "python",
      "name": "python3"
    },
    "language_info": {
      "codemirror_mode": {
        "name": "ipython",
        "version": 3
      },
      "file_extension": ".py",
      "mimetype": "text/x-python",
      "name": "python",
      "nbconvert_exporter": "python",
      "pygments_lexer": "ipython3",
      "version": "3.7.4"
    },
    "accelerator": "GPU"
  },
  "cells": [
    {
      "cell_type": "markdown",
      "metadata": {
        "id": "view-in-github",
        "colab_type": "text"
      },
      "source": [
        "<a href=\"https://colab.research.google.com/github/armandordorica/APS1070_A4_Linear_Regression_Gradient_Descent/blob/master/Project_4.ipynb\" target=\"_parent\"><img src=\"https://colab.research.google.com/assets/colab-badge.svg\" alt=\"Open In Colab\"/></a>"
      ]
    },
    {
      "cell_type": "markdown",
      "metadata": {
        "colab_type": "text",
        "id": "OTpnyUEJrAjE"
      },
      "source": [
        "# Project 4, APS1070 Summer 2020\n",
        "#### **Linear Regression -  20 points**\n",
        "**Deadline: Aug 2, 23:00**\n",
        "\n",
        "**Academic Integrity**\n",
        "\n",
        "This project is individual - it is to be completed on your own. If you have questions, please post your query in the APS1070 Piazza Q&A forums (the answer might be useful to others!).\n",
        "\n",
        "Do not share your code with others, or post your work online. Do not submit code that you have not written yourself. Students suspected of plagiarism on a project, midterm or exam will be referred to the department for formal discipline for breaches of the Student Code of Conduct."
      ]
    },
    {
      "cell_type": "markdown",
      "metadata": {
        "colab_type": "text",
        "id": "fUdJ6xw3rJIG"
      },
      "source": [
        "Please fill out the following:\n",
        "\n",
        "\n",
        "*   Your **name**: Armando Ordorica\n",
        "*   Your **student number**: 100 559 2164\n",
        "\n"
      ]
    },
    {
      "cell_type": "markdown",
      "metadata": {
        "colab_type": "text",
        "id": "o4UwjkNZ3NGk"
      },
      "source": [
        "## Part 1 - Getting Started [1 mark]"
      ]
    },
    {
      "cell_type": "markdown",
      "metadata": {
        "id": "Y62qieYVbct2",
        "colab_type": "text"
      },
      "source": [
        "In this project, we are designing a controller to manage the ailerons of an F16 Aircraft! \n",
        "![Ailerons](https://raw.githubusercontent.com/aps1070-2019/datasets/master/img/airplane.gif) [Ref](https://www.grc.nasa.gov/www/k-12/BGA/Mike/airplane_parts_act.htm) \n",
        "\n",
        "\n",
        "The features describe the airplane's status, and the target is to predict the `Goal` column, which is a command that our controller should issue."
      ]
    },
    {
      "cell_type": "code",
      "metadata": {
        "id": "wVI7N2nWbct3",
        "colab_type": "code",
        "colab": {}
      },
      "source": [
        "import pandas as pd\n",
        "import numpy as np\n",
        "df=pd.read_csv(\"https://raw.githubusercontent.com/aps1070-2019/datasets/master/F16L.csv\" , skipinitialspace=True)"
      ],
      "execution_count": 1,
      "outputs": []
    },
    {
      "cell_type": "code",
      "metadata": {
        "id": "5JloxsI6hfsX",
        "colab_type": "code",
        "colab": {
          "base_uri": "https://localhost:8080/",
          "height": 245
        },
        "outputId": "17262e8c-f94e-4ad6-f43f-81502a1d7e6d"
      },
      "source": [
        "df.describe"
      ],
      "execution_count": 2,
      "outputs": [
        {
          "output_type": "execute_result",
          "data": {
            "text/plain": [
              "<bound method NDFrame.describe of        inputs ClimbRate  Sgz     P     Q  ...  DiffSeTime14  Alpha     Se    Goal\n",
              "0                   -17   -6 -0.03  0.14  ...           0.0    0.6  0.021 -0.0008\n",
              "1                  -791   15 -0.28 -0.34  ...           0.0    0.4  0.013 -0.0009\n",
              "2                   -46   48 -0.42  0.07  ...           0.0    0.5  0.019 -0.0005\n",
              "3                   496   -5 -0.21 -0.04  ...           0.0    0.5  0.017 -0.0005\n",
              "4                  -124   16 -0.02  0.05  ...           0.0    0.5  0.018 -0.0006\n",
              "...                 ...  ...   ...   ...  ...           ...    ...    ...     ...\n",
              "13745               -53  -13 -0.07  0.02  ...           0.0    0.5  0.019 -0.0007\n",
              "13746                 1    4 -0.11 -0.07  ...           0.0    0.5  0.016 -0.0004\n",
              "13747               425  -14  0.40  0.07  ...           0.0    0.9  0.032 -0.0015\n",
              "13748               102  -10 -0.19  0.08  ...           0.0    1.4  0.051 -0.0015\n",
              "13749              -165   52  0.08  0.42  ...           0.0    0.9  0.034 -0.0018\n",
              "\n",
              "[13750 rows x 41 columns]>"
            ]
          },
          "metadata": {
            "tags": []
          },
          "execution_count": 2
        }
      ]
    },
    {
      "cell_type": "markdown",
      "metadata": {
        "colab_type": "text",
        "id": "MKRMb9Ju3NGl"
      },
      "source": [
        "1. Split the dataset into training/validation sets (80% training, 20% validation). Note: While splitting use the value of **random state=41**.\n",
        "2. Standardize the data using StandardScaler from sklearn."
      ]
    },
    {
      "cell_type": "code",
      "metadata": {
        "id": "17vf-Wi3cs2C",
        "colab_type": "code",
        "colab": {
          "base_uri": "https://localhost:8080/",
          "height": 163
        },
        "outputId": "1fdac6ac-96fc-4ec0-867f-dbd521998cf2"
      },
      "source": [
        "df.columns"
      ],
      "execution_count": 3,
      "outputs": [
        {
          "output_type": "execute_result",
          "data": {
            "text/plain": [
              "Index(['inputs ClimbRate', 'Sgz', 'P', 'Q', 'CurPitch', 'CurRoll', 'AbsRoll',\n",
              "       'DiffClb', 'DiffRollRate', 'DiffDiffClb', 'SeTime1', 'SeTime2',\n",
              "       'SeTime3', 'SeTime4', 'SeTime5', 'SeTime6', 'SeTime7', 'SeTime8',\n",
              "       'SeTime9', 'SeTime10', 'SeTime11', 'SeTime12', 'SeTime13', 'SeTime14',\n",
              "       'DiffSeTime1', 'DiffSeTime2', 'DiffSeTime3', 'DiffSeTime4',\n",
              "       'DiffSeTime5', 'DiffSeTime6', 'DiffSeTime7', 'DiffSeTime8',\n",
              "       'DiffSeTime9', 'DiffSeTime10', 'DiffSeTime11', 'DiffSeTime12',\n",
              "       'DiffSeTime13', 'DiffSeTime14', 'Alpha', 'Se', 'Goal'],\n",
              "      dtype='object')"
            ]
          },
          "metadata": {
            "tags": []
          },
          "execution_count": 3
        }
      ]
    },
    {
      "cell_type": "code",
      "metadata": {
        "id": "Kbnk7x7Mhhmm",
        "colab_type": "code",
        "colab": {
          "base_uri": "https://localhost:8080/",
          "height": 862
        },
        "outputId": "3b110d96-606a-48b6-d0e1-20b2a2ca4bc1"
      },
      "source": [
        "cols = list(df.columns)\n",
        "X_cols = cols[:-1]\n",
        "\n",
        "X = df[X_cols]\n",
        "y = df[cols[-1]]\n",
        "\n",
        "import numpy as np\n",
        "from sklearn.model_selection import train_test_split\n",
        "\n",
        "X_train, X_test, y_train, y_test = train_test_split(X, y, test_size=0.20, random_state=41)\n",
        "X_train, X_test, y_train, y_test"
      ],
      "execution_count": 4,
      "outputs": [
        {
          "output_type": "execute_result",
          "data": {
            "text/plain": [
              "(       inputs ClimbRate  Sgz     P  ...  DiffSeTime14  Alpha     Se\n",
              " 1755                -38  -24 -0.20  ...           0.0    0.5  0.018\n",
              " 11435                 3   16  0.43  ...           0.0    0.5  0.019\n",
              " 6528                381   60  0.25  ...           0.0    0.6  0.022\n",
              " 10868               -68  -23  0.48  ...           0.0    1.0  0.034\n",
              " 2848                 86  -15  0.03  ...           0.0    1.4  0.049\n",
              " ...                 ...  ...   ...  ...           ...    ...    ...\n",
              " 5200                452  -64  0.48  ...           0.0    0.5  0.017\n",
              " 4066                -91  -20  0.06  ...           0.0    0.9  0.032\n",
              " 12172                16   33  0.49  ...           0.0    0.7  0.025\n",
              " 931                  19  -22 -0.21  ...           0.0    0.7  0.025\n",
              " 1984                 33  -40 -0.02  ...           0.0    0.6  0.020\n",
              " \n",
              " [11000 rows x 40 columns],\n",
              "       inputs ClimbRate  Sgz     P  ...  DiffSeTime14  Alpha     Se\n",
              " 576                -39  -20 -0.04  ...           0.0    0.5  0.019\n",
              " 3195                21    4 -0.26  ...           0.0    1.3  0.045\n",
              " 210                -99  -45 -0.80  ...           0.0    0.9  0.034\n",
              " 9718               -73   -1 -0.17  ...           0.0    0.5  0.017\n",
              " 5439              -190  -37  0.55  ...           0.0    0.6  0.022\n",
              " ...                ...  ...   ...  ...           ...    ...    ...\n",
              " 2174               176  -11  0.46  ...           0.0    0.6  0.020\n",
              " 9025              -713   15  0.47  ...           0.0    0.6  0.018\n",
              " 8109              -323  -24  0.24  ...           0.0    0.5  0.017\n",
              " 5022                53  -14 -0.15  ...           0.0    1.1  0.041\n",
              " 6039              -381  -15 -0.21  ...           0.0    0.5  0.017\n",
              " \n",
              " [2750 rows x 40 columns],\n",
              " 1755    -0.0004\n",
              " 11435   -0.0010\n",
              " 6528    -0.0007\n",
              " 10868   -0.0012\n",
              " 2848    -0.0022\n",
              "           ...  \n",
              " 5200    -0.0008\n",
              " 4066    -0.0013\n",
              " 12172   -0.0018\n",
              " 931     -0.0006\n",
              " 1984    -0.0010\n",
              " Name: Goal, Length: 11000, dtype: float64,\n",
              " 576    -0.0004\n",
              " 3195   -0.0020\n",
              " 210    -0.0016\n",
              " 9718   -0.0006\n",
              " 5439   -0.0015\n",
              "          ...  \n",
              " 2174   -0.0011\n",
              " 9025   -0.0006\n",
              " 8109   -0.0006\n",
              " 5022   -0.0013\n",
              " 6039   -0.0004\n",
              " Name: Goal, Length: 2750, dtype: float64)"
            ]
          },
          "metadata": {
            "tags": []
          },
          "execution_count": 4
        }
      ]
    },
    {
      "cell_type": "markdown",
      "metadata": {
        "id": "GLGSinzX-GBr",
        "colab_type": "text"
      },
      "source": [
        "**Standardizing the data**"
      ]
    },
    {
      "cell_type": "code",
      "metadata": {
        "id": "iU0YeofAclTC",
        "colab_type": "code",
        "colab": {}
      },
      "source": [
        "from sklearn.preprocessing import StandardScaler\n",
        "\n",
        "X_train_scaled = StandardScaler().fit_transform(X_train)\n",
        "X_train_scaled_df = pd.DataFrame(X_train_scaled, index=X_train.index, columns=X_cols)\n",
        "\n",
        "X_test_scaled = StandardScaler().fit_transform(X_test)\n",
        "X_test_scaled_df = pd.DataFrame(X_test_scaled, index=X_test.index, columns=X_cols)\n",
        "\n",
        "y_train_scaled = StandardScaler().fit_transform(np.array(y_train).reshape(-1,1))\n",
        "y_train_scaled_df = pd.DataFrame(y_train_scaled, index=y_train.index, columns=['Goal'])\n",
        "\n",
        "y_test_scaled = StandardScaler().fit_transform(np.array(y_test).reshape(-1,1))\n",
        "y_test_scaled_df = pd.DataFrame(y_test_scaled, index=y_test.index, columns=['Goal'])\n"
      ],
      "execution_count": 5,
      "outputs": []
    },
    {
      "cell_type": "code",
      "metadata": {
        "id": "65ZKYuRnk8hu",
        "colab_type": "code",
        "colab": {}
      },
      "source": [
        "# np.array(y_train).reshape(-1,1)"
      ],
      "execution_count": 6,
      "outputs": []
    },
    {
      "cell_type": "code",
      "metadata": {
        "id": "1x2SUs_qlz1Q",
        "colab_type": "code",
        "colab": {}
      },
      "source": [
        "# X_test_scaled_df"
      ],
      "execution_count": 7,
      "outputs": []
    },
    {
      "cell_type": "markdown",
      "metadata": {
        "id": "EQ6KBnbpbcuE",
        "colab_type": "text"
      },
      "source": [
        "## Part 2 - Direct Solution [1 mark]"
      ]
    },
    {
      "cell_type": "markdown",
      "metadata": {
        "colab_type": "text",
        "id": "qh9g1ead3NG-"
      },
      "source": [
        "Implement the direct solution for linear regression on the dataset above (without regularizer).\n",
        "Report training and validation error."
      ]
    },
    {
      "cell_type": "markdown",
      "metadata": {
        "id": "iJo-thKb-VMx",
        "colab_type": "text"
      },
      "source": [
        "**Adding vector of 1s and adding it as the zeroth feature**"
      ]
    },
    {
      "cell_type": "code",
      "metadata": {
        "id": "-v1Xbkli3dfV",
        "colab_type": "code",
        "colab": {}
      },
      "source": [
        "# X_train_scaled_df['b']=1\n",
        "# X_test_scaled_df['b']=1\n",
        "# X_train_scaled_df = X_train_scaled_df[[ 'b','inputs ClimbRate',\n",
        "#  'Sgz',\n",
        "#  'P',\n",
        "#  'Q',\n",
        "#  'CurPitch',\n",
        "#  'CurRoll',\n",
        "#  'AbsRoll',\n",
        "#  'DiffClb',\n",
        "#  'DiffRollRate',\n",
        "#  'DiffDiffClb',\n",
        "#  'SeTime1',\n",
        "#  'SeTime2',\n",
        "#  'SeTime3',\n",
        "#  'SeTime4',\n",
        "#  'SeTime5',\n",
        "#  'SeTime6',\n",
        "#  'SeTime7',\n",
        "#  'SeTime8',\n",
        "#  'SeTime9',\n",
        "#  'SeTime10',\n",
        "#  'SeTime11',\n",
        "#  'SeTime12',\n",
        "#  'SeTime13',\n",
        "#  'SeTime14',\n",
        "#  'DiffSeTime1',\n",
        "#  'DiffSeTime2',\n",
        "#  'DiffSeTime3',\n",
        "#  'DiffSeTime4',\n",
        "#  'DiffSeTime5',\n",
        "#  'DiffSeTime6',\n",
        "#  'DiffSeTime7',\n",
        "#  'DiffSeTime8',\n",
        "#  'DiffSeTime9',\n",
        "#  'DiffSeTime10',\n",
        "#  'DiffSeTime11',\n",
        "#  'DiffSeTime12',\n",
        "#  'DiffSeTime13',\n",
        "#  'DiffSeTime14',\n",
        "#  'Alpha',\n",
        "#  'Se',\n",
        "# ]]\n",
        "\n",
        "# X_test_scaled_df = X_test_scaled_df[[ 'b','inputs ClimbRate',\n",
        "#  'Sgz',\n",
        "#  'P',\n",
        "#  'Q',\n",
        "#  'CurPitch',\n",
        "#  'CurRoll',\n",
        "#  'AbsRoll',\n",
        "#  'DiffClb',\n",
        "#  'DiffRollRate',\n",
        "#  'DiffDiffClb',\n",
        "#  'SeTime1',\n",
        "#  'SeTime2',\n",
        "#  'SeTime3',\n",
        "#  'SeTime4',\n",
        "#  'SeTime5',\n",
        "#  'SeTime6',\n",
        "#  'SeTime7',\n",
        "#  'SeTime8',\n",
        "#  'SeTime9',\n",
        "#  'SeTime10',\n",
        "#  'SeTime11',\n",
        "#  'SeTime12',\n",
        "#  'SeTime13',\n",
        "#  'SeTime14',\n",
        "#  'DiffSeTime1',\n",
        "#  'DiffSeTime2',\n",
        "#  'DiffSeTime3',\n",
        "#  'DiffSeTime4',\n",
        "#  'DiffSeTime5',\n",
        "#  'DiffSeTime6',\n",
        "#  'DiffSeTime7',\n",
        "#  'DiffSeTime8',\n",
        "#  'DiffSeTime9',\n",
        "#  'DiffSeTime10',\n",
        "#  'DiffSeTime11',\n",
        "#  'DiffSeTime12',\n",
        "#  'DiffSeTime13',\n",
        "#  'DiffSeTime14',\n",
        "#  'Alpha',\n",
        "#  'Se',\n",
        "# ]]"
      ],
      "execution_count": 8,
      "outputs": []
    },
    {
      "cell_type": "markdown",
      "metadata": {
        "id": "f3ujK047T7uF",
        "colab_type": "text"
      },
      "source": [
        "### **Casting the datasets to numpy arrays**"
      ]
    },
    {
      "cell_type": "code",
      "metadata": {
        "id": "S6AYXMHc4SEc",
        "colab_type": "code",
        "colab": {}
      },
      "source": [
        "X_train_scaled_np = np.array(X_train_scaled_df)\n",
        "X_test_scaled_np = np.array(X_test_scaled_df)\n",
        "\n",
        "\n",
        "y_train_scaled_np = np.array(y_train_scaled_df).reshape(-1,1)\n",
        "y_test_scaled_np = np.array(y_test_scaled_df).reshape(-1,1)"
      ],
      "execution_count": 9,
      "outputs": []
    },
    {
      "cell_type": "code",
      "metadata": {
        "id": "NQi60P5XVl_1",
        "colab_type": "code",
        "colab": {
          "base_uri": "https://localhost:8080/",
          "height": 33
        },
        "outputId": "d709ff86-ecd0-4f46-ad48-a3ee0ce0226c"
      },
      "source": [
        "X.shape"
      ],
      "execution_count": 10,
      "outputs": [
        {
          "output_type": "execute_result",
          "data": {
            "text/plain": [
              "(13750, 40)"
            ]
          },
          "metadata": {
            "tags": []
          },
          "execution_count": 10
        }
      ]
    },
    {
      "cell_type": "markdown",
      "metadata": {
        "id": "ZRcG9eFcso9T",
        "colab_type": "text"
      },
      "source": [
        "* We have `N` training examples, `N=13750` in total. \n",
        "* We have `D` dimensions, `D=40` in total. \n",
        "* The weights are represented as a `D` dimensional vector `w` and the targets are represented as an `N` dimensional vector `t`. \n",
        "\n",
        "$$y = XW + b1$$\n",
        "\n",
        "**We plug in the `scaled` and `np` versions of `X_train`, `X_test`, `Y_train` and `Y_test`.**\n",
        "$$W= (X^TX)^{-1}X^Ty$$"
      ]
    },
    {
      "cell_type": "code",
      "metadata": {
        "id": "n-xET0wAVe6S",
        "colab_type": "code",
        "colab": {
          "base_uri": "https://localhost:8080/",
          "height": 33
        },
        "outputId": "64e736c5-8191-4366-cd0d-e91c673bf329"
      },
      "source": [
        "y_train_scaled_np.T.shape"
      ],
      "execution_count": 11,
      "outputs": [
        {
          "output_type": "execute_result",
          "data": {
            "text/plain": [
              "(1, 11000)"
            ]
          },
          "metadata": {
            "tags": []
          },
          "execution_count": 11
        }
      ]
    },
    {
      "cell_type": "code",
      "metadata": {
        "id": "YNb1nI245KCU",
        "colab_type": "code",
        "colab": {
          "base_uri": "https://localhost:8080/",
          "height": 33
        },
        "outputId": "9aba7cf2-c3ff-45e7-b549-e60229ea99ad"
      },
      "source": [
        "W = np.dot(np.linalg.inv(np.dot(X_train_scaled_np.T, X_train_scaled_np)), np.dot(X_train_scaled_np.T, y_train_scaled_np))\n",
        "W = W.reshape(-1,1)\n",
        "W.shape"
      ],
      "execution_count": 12,
      "outputs": [
        {
          "output_type": "execute_result",
          "data": {
            "text/plain": [
              "(40, 1)"
            ]
          },
          "metadata": {
            "tags": []
          },
          "execution_count": 12
        }
      ]
    },
    {
      "cell_type": "markdown",
      "metadata": {
        "id": "NAGxU77LUWMa",
        "colab_type": "text"
      },
      "source": [
        "### **Based on the result we obtain for `W`, which is a (40,1) vector and multiply it with `X` as follows: $$X_{train}\\cdot W = X_{train}^{T}W$$**\n",
        "\n",
        "which yields a (11000,1) `y_pred_train_scaled_np` vector. "
      ]
    },
    {
      "cell_type": "code",
      "metadata": {
        "id": "9aZKlezMUmih",
        "colab_type": "code",
        "colab": {
          "base_uri": "https://localhost:8080/",
          "height": 33
        },
        "outputId": "abceb982-3442-4039-c08b-8e2b94b494f3"
      },
      "source": [
        "X_train_scaled_np.shape"
      ],
      "execution_count": 13,
      "outputs": [
        {
          "output_type": "execute_result",
          "data": {
            "text/plain": [
              "(11000, 40)"
            ]
          },
          "metadata": {
            "tags": []
          },
          "execution_count": 13
        }
      ]
    },
    {
      "cell_type": "code",
      "metadata": {
        "id": "GoCjz--p5t_Q",
        "colab_type": "code",
        "colab": {}
      },
      "source": [
        "y_pred_train_scaled_np = np.dot(X_train_scaled_np, W)"
      ],
      "execution_count": 14,
      "outputs": []
    },
    {
      "cell_type": "code",
      "metadata": {
        "id": "uMOqZdUVXvKk",
        "colab_type": "code",
        "colab": {
          "base_uri": "https://localhost:8080/",
          "height": 33
        },
        "outputId": "3254185d-bec0-4c5b-cf0b-ae6d08c9f682"
      },
      "source": [
        "y_train_scaled_np.shape, y_pred_train_scaled_np.shape"
      ],
      "execution_count": 15,
      "outputs": [
        {
          "output_type": "execute_result",
          "data": {
            "text/plain": [
              "((11000, 1), (11000, 1))"
            ]
          },
          "metadata": {
            "tags": []
          },
          "execution_count": 15
        }
      ]
    },
    {
      "cell_type": "code",
      "metadata": {
        "id": "zJl2x6TlYdJZ",
        "colab_type": "code",
        "colab": {
          "base_uri": "https://localhost:8080/",
          "height": 33
        },
        "outputId": "e5bda480-9db0-4230-f182-6f11560142cb"
      },
      "source": [
        "np.arange(0, 11000)"
      ],
      "execution_count": 16,
      "outputs": [
        {
          "output_type": "execute_result",
          "data": {
            "text/plain": [
              "array([    0,     1,     2, ..., 10997, 10998, 10999])"
            ]
          },
          "metadata": {
            "tags": []
          },
          "execution_count": 16
        }
      ]
    },
    {
      "cell_type": "code",
      "metadata": {
        "id": "3U2ZiHu654oW",
        "colab_type": "code",
        "colab": {
          "base_uri": "https://localhost:8080/",
          "height": 281
        },
        "outputId": "95658897-b2dd-4ead-e8d3-4a4e4faf784a"
      },
      "source": [
        "import matplotlib.pyplot as plt\n",
        "\n",
        "plt.scatter(np.arange(0, 11000), y_pred_train_scaled_np, label='prediction')\n",
        "plt.scatter(np.arange(0, 11000), y_train_scaled_np, label='true value')\n",
        "plt.legend()"
      ],
      "execution_count": 17,
      "outputs": [
        {
          "output_type": "execute_result",
          "data": {
            "text/plain": [
              "<matplotlib.legend.Legend at 0x7efdd4d4fb38>"
            ]
          },
          "metadata": {
            "tags": []
          },
          "execution_count": 17
        },
        {
          "output_type": "display_data",
          "data": {
            "image/png": "[encoded data removed]",
            "text/plain": [
              "<Figure size 432x288 with 1 Axes>"
            ]
          },
          "metadata": {
            "tags": [],
            "needs_background": "light"
          }
        }
      ]
    },
    {
      "cell_type": "markdown",
      "metadata": {
        "id": "BhCMTjLEYns_",
        "colab_type": "text"
      },
      "source": [
        "### **Comparing segments of the dataset to understand similarities between prediction and true value**"
      ]
    },
    {
      "cell_type": "code",
      "metadata": {
        "id": "xAOBbd1jYnNP",
        "colab_type": "code",
        "colab": {
          "base_uri": "https://localhost:8080/",
          "height": 281
        },
        "outputId": "ed785535-d545-4feb-fede-d61435495306"
      },
      "source": [
        "plt.plot(np.arange(0, 100), y_pred_train_scaled_np[0:100], label='prediction')\n",
        "plt.plot(np.arange(0, 100), y_train_scaled_np[0:100], label='true value')\n",
        "plt.legend()"
      ],
      "execution_count": 18,
      "outputs": [
        {
          "output_type": "execute_result",
          "data": {
            "text/plain": [
              "<matplotlib.legend.Legend at 0x7efdd4b7ff28>"
            ]
          },
          "metadata": {
            "tags": []
          },
          "execution_count": 18
        },
        {
          "output_type": "display_data",
          "data": {
            "image/png": "[encoded data removed]",
            "text/plain": [
              "<Figure size 432x288 with 1 Axes>"
            ]
          },
          "metadata": {
            "tags": [],
            "needs_background": "light"
          }
        }
      ]
    },
    {
      "cell_type": "code",
      "metadata": {
        "id": "TsfmVlp9ZCL_",
        "colab_type": "code",
        "colab": {
          "base_uri": "https://localhost:8080/",
          "height": 281
        },
        "outputId": "6ba3f178-7331-40a8-e8ed-d7fb4ad70e25"
      },
      "source": [
        "initial_value = 500\n",
        "end_value = 520\n",
        "plt.plot(np.arange(initial_value, end_value), y_pred_train_scaled_np[initial_value:end_value], label='prediction')\n",
        "plt.plot(np.arange(initial_value, end_value), y_train_scaled_np[initial_value:end_value], label='true value')\n",
        "plt.legend()"
      ],
      "execution_count": 19,
      "outputs": [
        {
          "output_type": "execute_result",
          "data": {
            "text/plain": [
              "<matplotlib.legend.Legend at 0x7efdd4cb7c50>"
            ]
          },
          "metadata": {
            "tags": []
          },
          "execution_count": 19
        },
        {
          "output_type": "display_data",
          "data": {
            "image/png": "[encoded data removed]",
            "text/plain": [
              "<Figure size 432x288 with 1 Axes>"
            ]
          },
          "metadata": {
            "tags": [],
            "needs_background": "light"
          }
        }
      ]
    },
    {
      "cell_type": "code",
      "metadata": {
        "id": "e7_0rCf-58x5",
        "colab_type": "code",
        "colab": {
          "base_uri": "https://localhost:8080/",
          "height": 70
        },
        "outputId": "15643d66-5cfd-47c8-d325-215d1e632f20"
      },
      "source": [
        "import seaborn as sns\n",
        "from sklearn.linear_model import LinearRegression\n",
        "from sklearn.linear_model import Ridge\n",
        "from sklearn.preprocessing import PolynomialFeatures\n",
        "from sklearn.metrics import mean_squared_error\n",
        "\n",
        "def rmse(yPred, y):\n",
        "    return np.sqrt(mean_squared_error(yPred, y))"
      ],
      "execution_count": 20,
      "outputs": [
        {
          "output_type": "stream",
          "text": [
            "/usr/local/lib/python3.6/dist-packages/statsmodels/tools/_testing.py:19: FutureWarning: pandas.util.testing is deprecated. Use the functions in the public API at pandas.testing instead.\n",
            "  import pandas.util.testing as tm\n"
          ],
          "name": "stderr"
        }
      ]
    },
    {
      "cell_type": "markdown",
      "metadata": {
        "id": "wBKksgHq8x3-",
        "colab_type": "text"
      },
      "source": [
        "### **Training error**"
      ]
    },
    {
      "cell_type": "code",
      "metadata": {
        "id": "V5dXu-LH6YE-",
        "colab_type": "code",
        "colab": {
          "base_uri": "https://localhost:8080/",
          "height": 33
        },
        "outputId": "b4601e78-4251-4eaf-da36-6f9e8fed4990"
      },
      "source": [
        "print('RMSE: ', rmse(y_pred_train_scaled_np, y_train_scaled_np))\n",
        "close_form_training_error = rmse(y_pred_train_scaled_np, y_train_scaled_np)"
      ],
      "execution_count": 21,
      "outputs": [
        {
          "output_type": "stream",
          "text": [
            "RMSE:  0.4307316495885256\n"
          ],
          "name": "stdout"
        }
      ]
    },
    {
      "cell_type": "markdown",
      "metadata": {
        "id": "L_P8zxDe80hM",
        "colab_type": "text"
      },
      "source": [
        "### **Valudation error**"
      ]
    },
    {
      "cell_type": "code",
      "metadata": {
        "id": "QL5Hhw0F7K2j",
        "colab_type": "code",
        "colab": {}
      },
      "source": [
        "y_pred_test_scaled_np = np.dot(X_test_scaled_np, W)\n",
        "close_form_validation_error =  rmse(y_pred_test_scaled_np, y_test_scaled_np)"
      ],
      "execution_count": 22,
      "outputs": []
    },
    {
      "cell_type": "code",
      "metadata": {
        "id": "RiYfUL527PTj",
        "colab_type": "code",
        "colab": {
          "base_uri": "https://localhost:8080/",
          "height": 33
        },
        "outputId": "6d83c10c-ab2d-4f57-f570-079b3dd68e31"
      },
      "source": [
        "print('RMSE: ', rmse(y_pred_test_scaled_np, y_test_scaled_np))"
      ],
      "execution_count": 23,
      "outputs": [
        {
          "output_type": "stream",
          "text": [
            "RMSE:  0.43909747182364917\n"
          ],
          "name": "stdout"
        }
      ]
    },
    {
      "cell_type": "code",
      "metadata": {
        "id": "wnHGB6VuAPZx",
        "colab_type": "code",
        "colab": {
          "base_uri": "https://localhost:8080/",
          "height": 281
        },
        "outputId": "59e2b861-1a87-404f-f789-a113e85f0e74"
      },
      "source": [
        "initial_value = 500\n",
        "end_value = 520\n",
        "\n",
        "plt.plot(np.arange(initial_value, end_value), y_pred_test_scaled_np[initial_value:end_value], label='prediction on test set')\n",
        "plt.plot(np.arange(initial_value, end_value), y_test_scaled_np[initial_value:end_value], label='true value on test set')\n",
        "plt.legend()"
      ],
      "execution_count": 24,
      "outputs": [
        {
          "output_type": "execute_result",
          "data": {
            "text/plain": [
              "<matplotlib.legend.Legend at 0x7efdd23d6390>"
            ]
          },
          "metadata": {
            "tags": []
          },
          "execution_count": 24
        },
        {
          "output_type": "display_data",
          "data": {
            "image/png": "[encoded data removed]",
            "text/plain": [
              "<Figure size 432x288 with 1 Axes>"
            ]
          },
          "metadata": {
            "tags": [],
            "needs_background": "light"
          }
        }
      ]
    },
    {
      "cell_type": "code",
      "metadata": {
        "id": "EbrkbxjuZzu5",
        "colab_type": "code",
        "colab": {
          "base_uri": "https://localhost:8080/",
          "height": 281
        },
        "outputId": "3a62af62-0b4e-4963-faed-3297b563ffe1"
      },
      "source": [
        "initial_value = 2000\n",
        "end_value = 2040\n",
        "\n",
        "plt.plot(np.arange(initial_value, end_value), y_pred_test_scaled_np[initial_value:end_value], label='prediction on test set')\n",
        "plt.plot(np.arange(initial_value, end_value), y_test_scaled_np[initial_value:end_value], label='true value on test set')\n",
        "plt.legend()"
      ],
      "execution_count": 25,
      "outputs": [
        {
          "output_type": "execute_result",
          "data": {
            "text/plain": [
              "<matplotlib.legend.Legend at 0x7efdd234cba8>"
            ]
          },
          "metadata": {
            "tags": []
          },
          "execution_count": 25
        },
        {
          "output_type": "display_data",
          "data": {
            "image/png": "[encoded data removed]",
            "text/plain": [
              "<Figure size 432x288 with 1 Axes>"
            ]
          },
          "metadata": {
            "tags": [],
            "needs_background": "light"
          }
        }
      ]
    },
    {
      "cell_type": "markdown",
      "metadata": {
        "colab_type": "text",
        "id": "tceGCk1V3NG_"
      },
      "source": [
        "## Part 3 - Gradient Descent (GD) [2 marks]"
      ]
    },
    {
      "cell_type": "markdown",
      "metadata": {
        "colab_type": "text",
        "id": "v9DMAs3I3NHB"
      },
      "source": [
        "1. Implement gradient descent (full-batch) for linear regression using a fixed learning rate of $\\alpha= 1e-2$. You should compute the gradients yourself! First try to implement it without looking at other resources, but if you need a hint take a look [here](https://towardsdatascience.com/gradient-descent-explanation-implementation-c74005ff7dd1) and [here](https://ml-cheatsheet.readthedocs.io/en/latest/gradient_descent.html).\n",
        "\n",
        "2. Run the gradient descent for a fixed number of epochs (based on convergence) and verify that the results are closely approximate the direct solution."
      ]
    },
    {
      "cell_type": "markdown",
      "metadata": {
        "id": "H5DXyGfIaGAp",
        "colab_type": "text"
      },
      "source": [
        "$$y = Xw +b1$$\n",
        "where `1` represents a vector of ones. \n",
        "\n",
        "* The gradient descent update rule can be vectorized as follows: \n",
        "\n",
        "$$w \\leftarrow w - \\frac{\\alpha}{N}X^T(y-t)$$\n",
        "\n",
        "Where $\\alpha$ is the learning rate. \n",
        "\n",
        "We initialize the wrights to some value (e.g. all zeros), and repeatedly adjust them in the direction that most decreases the cost function. \n",
        "* The entries of the gradient vector are simply the partial derivatives with respect to each of the variables. \n",
        "* To decrease a function as quickly as possible, we should update the parameters in the direction opposite to the gradient. \n",
        "* The following update rule is known as **gradient descent**: \n",
        "$$w \\leftarrow w - \\alpha \\frac{\\partial J}{\\partial w_j}$$\n",
        "* We write one function that computes the derivative and another function that implements the gradient descent. \n"
      ]
    },
    {
      "cell_type": "markdown",
      "metadata": {
        "id": "RNjMKP3TeOaG",
        "colab_type": "text"
      },
      "source": [
        "**1. We initialize `w` to be a vector of zeros and `b` to be a vector of `1`s**\n",
        "\n",
        "* NOTE: Actually, because our data is already scaled and centered at zero, we will ignore the bias term by adding \"zeros\" because otherwise the RMSE asymptotes at 1. "
      ]
    },
    {
      "cell_type": "code",
      "metadata": {
        "id": "VsAHuimudZos",
        "colab_type": "code",
        "colab": {}
      },
      "source": [
        "w_init_grad_desc = np.zeros((40,1))\n",
        "b = np.zeros((11000,1))\n",
        "alpha = 0.001\n",
        "N = 11000\n",
        "rmses_gd = []"
      ],
      "execution_count": 26,
      "outputs": []
    },
    {
      "cell_type": "markdown",
      "metadata": {
        "id": "0Ny1ZL--eVMB",
        "colab_type": "text"
      },
      "source": [
        "**2. We obtain `y_gd_pred_scaled_np`, where `gd` stands for \"gradient descent\" by `y_gd_pred_scaled_np`= `X_train_scaled_np` $\\cdot$ `w_init_grad_desc` + `b`**"
      ]
    },
    {
      "cell_type": "code",
      "metadata": {
        "id": "a5hC9NUkc-aI",
        "colab_type": "code",
        "colab": {}
      },
      "source": [
        "y_gd_pred_train_scaled_np = np.dot(X_train_scaled_np, w_init_grad_desc) + b"
      ],
      "execution_count": 27,
      "outputs": []
    },
    {
      "cell_type": "markdown",
      "metadata": {
        "id": "yKfVUgXzez54",
        "colab_type": "text"
      },
      "source": [
        "**At the beginning it's simply a vector of `1`s**"
      ]
    },
    {
      "cell_type": "code",
      "metadata": {
        "id": "a2-fY7d9ewqj",
        "colab_type": "code",
        "colab": {
          "base_uri": "https://localhost:8080/",
          "height": 281
        },
        "outputId": "68be3b86-db5a-4825-c20b-2372a1faeb80"
      },
      "source": [
        "plt.plot(y_gd_pred_train_scaled_np)"
      ],
      "execution_count": 28,
      "outputs": [
        {
          "output_type": "execute_result",
          "data": {
            "text/plain": [
              "[<matplotlib.lines.Line2D at 0x7efdd231a518>]"
            ]
          },
          "metadata": {
            "tags": []
          },
          "execution_count": 28
        },
        {
          "output_type": "display_data",
          "data": {
            "image/png": "[encoded data removed]",
            "text/plain": [
              "<Figure size 432x288 with 1 Axes>"
            ]
          },
          "metadata": {
            "tags": [],
            "needs_background": "light"
          }
        }
      ]
    },
    {
      "cell_type": "code",
      "metadata": {
        "id": "odW3A8Zzc-fK",
        "colab_type": "code",
        "colab": {
          "base_uri": "https://localhost:8080/",
          "height": 33
        },
        "outputId": "52e89cf2-24af-4fe9-eab9-f453f1dd065b"
      },
      "source": [
        "rmse(y_gd_pred_train_scaled_np, y_train_scaled_np)"
      ],
      "execution_count": 29,
      "outputs": [
        {
          "output_type": "execute_result",
          "data": {
            "text/plain": [
              "1.0"
            ]
          },
          "metadata": {
            "tags": []
          },
          "execution_count": 29
        }
      ]
    },
    {
      "cell_type": "markdown",
      "metadata": {
        "id": "w4a6Rnk3e92Z",
        "colab_type": "text"
      },
      "source": [
        "**Now we update the weight vector using the update rule $$w \\leftarrow w - \\frac{\\alpha}{N}X^T(y-t)$$**"
      ]
    },
    {
      "cell_type": "code",
      "metadata": {
        "id": "J7_Evu-gfITt",
        "colab_type": "code",
        "colab": {}
      },
      "source": [
        "w_init_grad_desc = w_init_grad_desc - alpha/N * np.dot(X_train_scaled_np.T,(y_gd_pred_train_scaled_np-y_train_scaled_np))"
      ],
      "execution_count": 30,
      "outputs": []
    },
    {
      "cell_type": "markdown",
      "metadata": {
        "id": "Q5rXjC1Qfxn9",
        "colab_type": "text"
      },
      "source": [
        "**After we apply the update rule, we try `y` again and check for the `RMSE` value that it yields**"
      ]
    },
    {
      "cell_type": "code",
      "metadata": {
        "id": "Txj7zTdqf5T7",
        "colab_type": "code",
        "colab": {}
      },
      "source": [
        "y_gd_pred_train_scaled_np = np.dot(X_train_scaled_np, w_init_grad_desc) + b\n",
        "rmses_gd.append(rmse(y_gd_pred_train_scaled_np, y_train_scaled_np))"
      ],
      "execution_count": 31,
      "outputs": []
    },
    {
      "cell_type": "markdown",
      "metadata": {
        "id": "DJ_9nDKue7Co",
        "colab_type": "text"
      },
      "source": [
        "**At t=2**\n"
      ]
    },
    {
      "cell_type": "code",
      "metadata": {
        "id": "pKK7UwQFc-W9",
        "colab_type": "code",
        "colab": {}
      },
      "source": [
        "for i in range(0,10000): \n",
        "  w_init_grad_desc = w_init_grad_desc - alpha/N * np.dot(X_train_scaled_np.T,(y_gd_pred_train_scaled_np-y_train_scaled_np))\n",
        "  y_gd_pred_train_scaled_np = np.dot(X_train_scaled_np, w_init_grad_desc) + b\n",
        "  rmse_loss = rmse(y_gd_pred_train_scaled_np, y_train_scaled_np)\n",
        "  rmses_gd.append(rmse_loss)"
      ],
      "execution_count": 32,
      "outputs": []
    },
    {
      "cell_type": "code",
      "metadata": {
        "id": "_HW5exNqeA6C",
        "colab_type": "code",
        "colab": {
          "base_uri": "https://localhost:8080/",
          "height": 311
        },
        "outputId": "3ba9550c-2626-4aee-daff-7ac2f1aabfdd"
      },
      "source": [
        "plt.plot(rmses_gd)\n",
        "plt.xlabel(\"Number of iterations\")\n",
        "plt.ylabel(\"RMSE loss\")\n",
        "plt.title(\"RMSE Loss\")"
      ],
      "execution_count": 33,
      "outputs": [
        {
          "output_type": "execute_result",
          "data": {
            "text/plain": [
              "Text(0.5, 1.0, 'RMSE Loss')"
            ]
          },
          "metadata": {
            "tags": []
          },
          "execution_count": 33
        },
        {
          "output_type": "display_data",
          "data": {
            "image/png": "[encoded data removed]",
            "text/plain": [
              "<Figure size 432x288 with 1 Axes>"
            ]
          },
          "metadata": {
            "tags": [],
            "needs_background": "light"
          }
        }
      ]
    },
    {
      "cell_type": "code",
      "metadata": {
        "id": "BJTLR7EVjyRD",
        "colab_type": "code",
        "colab": {
          "base_uri": "https://localhost:8080/",
          "height": 33
        },
        "outputId": "4ba06845-0f20-4ba5-bc50-7bf06fde484b"
      },
      "source": [
        "rmse(y_gd_pred_train_scaled_np, y_train_scaled_np)"
      ],
      "execution_count": 34,
      "outputs": [
        {
          "output_type": "execute_result",
          "data": {
            "text/plain": [
              "0.42566746996276966"
            ]
          },
          "metadata": {
            "tags": []
          },
          "execution_count": 34
        }
      ]
    },
    {
      "cell_type": "code",
      "metadata": {
        "id": "_X0bmvcviMbt",
        "colab_type": "code",
        "colab": {
          "base_uri": "https://localhost:8080/",
          "height": 33
        },
        "outputId": "2f90d320-99bc-4bfc-c161-b0e0aefaf0d0"
      },
      "source": [
        "print(\"Minimum RMSE loss after 10000 iterations is :{}\".format(rmses_gd[-1]))"
      ],
      "execution_count": 35,
      "outputs": [
        {
          "output_type": "stream",
          "text": [
            "Minimum RMSE loss after 10000 iterations is :0.42566746996276966\n"
          ],
          "name": "stdout"
        }
      ]
    },
    {
      "cell_type": "markdown",
      "metadata": {
        "id": "muW8YIKOiqv-",
        "colab_type": "text"
      },
      "source": [
        "### **Showing how predicted and true values compare for the training set for random segments**"
      ]
    },
    {
      "cell_type": "code",
      "metadata": {
        "id": "6medeT_VeA-e",
        "colab_type": "code",
        "colab": {
          "base_uri": "https://localhost:8080/",
          "height": 297
        },
        "outputId": "7e0c1fe9-16a0-432d-973c-8bcee76d0ed6"
      },
      "source": [
        "initial_value = 10000\n",
        "end_value = 10050\n",
        "\n",
        "plt.plot(np.arange(initial_value, end_value), y_gd_pred_train_scaled_np[initial_value:end_value], label='prediction on training set')\n",
        "plt.plot(np.arange(initial_value, end_value), y_train_scaled_np[initial_value:end_value], label='true value on training set')\n",
        "plt.title(\"Training vs Testing sets using Gradient Descent\")\n",
        "plt.legend()"
      ],
      "execution_count": 36,
      "outputs": [
        {
          "output_type": "execute_result",
          "data": {
            "text/plain": [
              "<matplotlib.legend.Legend at 0x7efdd222c9e8>"
            ]
          },
          "metadata": {
            "tags": []
          },
          "execution_count": 36
        },
        {
          "output_type": "display_data",
          "data": {
            "image/png": "[encoded data removed]",
            "text/plain": [
              "<Figure size 432x288 with 1 Axes>"
            ]
          },
          "metadata": {
            "tags": [],
            "needs_background": "light"
          }
        }
      ]
    },
    {
      "cell_type": "markdown",
      "metadata": {
        "id": "VxbFR3gAi-Jt",
        "colab_type": "text"
      },
      "source": [
        "**We will compute the loss on the testing set by multiplying the fitted weight vector with the `X_train` set.**"
      ]
    },
    {
      "cell_type": "code",
      "metadata": {
        "id": "iq0Bm-HJFcuS",
        "colab_type": "code",
        "colab": {
          "base_uri": "https://localhost:8080/",
          "height": 33
        },
        "outputId": "b072781b-5a77-43bc-bab0-e242f9603730"
      },
      "source": [
        "y_gd_pred_test_scaled_np = np.dot(X_test_scaled_np, w_init_grad_desc)\n",
        "rmse(y_gd_pred_test_scaled_np, y_test_scaled_np)"
      ],
      "execution_count": 37,
      "outputs": [
        {
          "output_type": "execute_result",
          "data": {
            "text/plain": [
              "0.42839716035487174"
            ]
          },
          "metadata": {
            "tags": []
          },
          "execution_count": 37
        }
      ]
    },
    {
      "cell_type": "code",
      "metadata": {
        "id": "Y3Mqoz6_jbyx",
        "colab_type": "code",
        "colab": {
          "base_uri": "https://localhost:8080/",
          "height": 50
        },
        "outputId": "1bc18fcb-edfd-434b-f36a-b948afea78c6"
      },
      "source": [
        "print(\"training error:{}\".format(rmse(y_gd_pred_train_scaled_np, y_train_scaled_np)))\n",
        "print(\"testing error:{}\".format(rmse(y_gd_pred_test_scaled_np, y_test_scaled_np)))"
      ],
      "execution_count": 38,
      "outputs": [
        {
          "output_type": "stream",
          "text": [
            "training error:0.42566746996276966\n",
            "testing error:0.42839716035487174\n"
          ],
          "name": "stdout"
        }
      ]
    },
    {
      "cell_type": "code",
      "metadata": {
        "id": "rM5iWTgdk4BV",
        "colab_type": "code",
        "colab": {
          "base_uri": "https://localhost:8080/",
          "height": 50
        },
        "outputId": "46e6a06c-1601-4693-af0a-115c194d969c"
      },
      "source": [
        "print(\"close form training error:{}\".format(close_form_training_error))\n",
        "print(\"close form testing error:{}\".format(close_form_validation_error))"
      ],
      "execution_count": 39,
      "outputs": [
        {
          "output_type": "stream",
          "text": [
            "close form training error:0.4307316495885256\n",
            "close form testing error:0.43909747182364917\n"
          ],
          "name": "stdout"
        }
      ]
    },
    {
      "cell_type": "markdown",
      "metadata": {
        "id": "z3xxzz4QlCc7",
        "colab_type": "text"
      },
      "source": [
        "### **We obtain very similar error using gradient descent versus direct solution**"
      ]
    },
    {
      "cell_type": "markdown",
      "metadata": {
        "colab_type": "text",
        "id": "K3xwmhsr3NHS"
      },
      "source": [
        "## Part 4 - Mini-batch and Stochastic Gradient Descent [3 marks]"
      ]
    },
    {
      "cell_type": "markdown",
      "metadata": {
        "id": "X6eT9MIB-DSa",
        "colab_type": "text"
      },
      "source": [
        "When B=1, we call that stochastic gradient descent.  When B=#train data points, it is full-batch (ie all data points are used, every cycle). Anywhere in between is mini-batch (we use some of the data).  \n",
        "\n",
        "1. Implement Mini-batch Gradient Descent. \n",
        "First try to implement it without looking at other resources, but if you need a hint take a look [here](https://towardsdatascience.com/gradient-descent-explanation-implementation-c74005ff7dd1) and [here](https://ml-cheatsheet.readthedocs.io/en/latest/gradient_descent.html).\n",
        "\n",
        "2. Sweep different values for the mini-batch size (including 1 -- Stochastic GD) with a fixed learning rate and report your findings on a plot (training error and validation error vs. iterations)."
      ]
    },
    {
      "cell_type": "markdown",
      "metadata": {
        "id": "wE7370pl3DND",
        "colab_type": "text"
      },
      "source": [
        "* $\\theta$ **refers to the network's parameters, which will contain all of the network's weights and biases.**\n",
        "* $\\epsilon$ **represents the cost function**\n",
        "* Combinations of network's parameters from $\\theta$ map to a specific point on the $\\epsilon$ space (cost surface). \n",
        "\n",
        "\n",
        "**Mini-batch gradient descent**\n",
        "* Compute the gradient and average it over a batch of $B$ training examples, typically on the order of 100. \n",
        "* Number of operations required to compute the gradient for a mini-batch is linear in the size of the mini-batch, since mathematically, the gradient for each training example is a separate computation. \n",
        "* If all operations were equally expensive, one would always prefere to use B=1. \n",
        "\n",
        "**Why do we use $B>1$?**\n",
        "* Operations in mini-batches can be vectorized by writing them in terms of matrix operations. This reduces interpreter overhead and makes use of efficient and carefully tuned linear algebra libraries. \n",
        "* We can exploit parallelism on GPUs when B is large, since the gradients can be computed independently for each training example. "
      ]
    },
    {
      "cell_type": "markdown",
      "metadata": {
        "id": "syZaT-AA60KZ",
        "colab_type": "text"
      },
      "source": [
        "* Set $B=100$ and let's split our original `X` and `Y` into minibatches of size 100. \n",
        "* Since we have 11,000 training examples, we will have 110 mini batches that will come into mini-batch pairs denoted by: \n",
        "$$minibatch_t= (X^{\\{t\\}}, Y^{\\{t\\}})$$\n",
        "* Therefore, all our minibatches $X^{\\{t\\}}$ will have dimensions $D \\times B = 40 \\times 11,000$\n",
        "\n"
      ]
    },
    {
      "cell_type": "markdown",
      "metadata": {
        "id": "Ss9rIW-iK1TD",
        "colab_type": "text"
      },
      "source": [
        "### **Initializing our hyperparameters**"
      ]
    },
    {
      "cell_type": "code",
      "metadata": {
        "id": "S_roEnWSAOVa",
        "colab_type": "code",
        "colab": {
          "base_uri": "https://localhost:8080/",
          "height": 98
        },
        "outputId": "612bd3fa-0034-4ead-8f7e-db76c178a638"
      },
      "source": [
        "w_init_grad_desc = np.zeros((40,1))\n",
        "b = np.zeros((11000,1))\n",
        "alpha = 0.001\n",
        "N = 11000\n",
        "rmses_gd = []\n",
        "B = 100\n",
        "num_minibatches = len(X_train_scaled_df)//B\n",
        "print(\"HYPER PARAMETERS\")\n",
        "print(\"alpha:{}\".format(alpha))\n",
        "print(\"Num of training examples = N:{}\".format(N))\n",
        "print(\"Mini batch size = B:{}\".format(B))\n",
        "print(\"Num of mini batches = num_minibatches:{}\".format(num_minibatches))"
      ],
      "execution_count": 40,
      "outputs": [
        {
          "output_type": "stream",
          "text": [
            "HYPER PARAMETERS\n",
            "alpha:0.001\n",
            "Num of training examples = N:11000\n",
            "Mini batch size = B:100\n",
            "Num of mini batches = num_minibatches:110\n"
          ],
          "name": "stdout"
        }
      ]
    },
    {
      "cell_type": "markdown",
      "metadata": {
        "id": "8Yr6No0bCQ4c",
        "colab_type": "text"
      },
      "source": [
        "**Creating list of minibatches for X_train_scaled_df**"
      ]
    },
    {
      "cell_type": "code",
      "metadata": {
        "id": "iDrAcTjoAewV",
        "colab_type": "code",
        "colab": {}
      },
      "source": [
        "X_train_scaled_df.reset_index(inplace=True)\n",
        "X_train_scaled_df.drop(columns=['index'], inplace=True)\n",
        "\n",
        "y_train_scaled_df.reset_index(inplace=True)\n",
        "y_train_scaled_df.drop(columns=['index'], inplace=True)\n",
        "\n",
        "j = 0\n",
        "X_train_scaled_minibatches_df=[]\n",
        "y_train_scaled_minibatches_df=[]\n",
        "for i in range(0, num_minibatches):\n",
        "  X_train_scaled_minibatches_df.append(X_train_scaled_df.iloc[j: j+100])\n",
        "  y_train_scaled_minibatches_df.append(y_train_scaled_df.iloc[j: j+100])\n",
        "  j=j+B"
      ],
      "execution_count": 41,
      "outputs": []
    },
    {
      "cell_type": "markdown",
      "metadata": {
        "id": "rd-DHR87K9f4",
        "colab_type": "text"
      },
      "source": [
        "### **Casting mini batches to numpy arrays**"
      ]
    },
    {
      "cell_type": "code",
      "metadata": {
        "id": "xUvEGCnxDMN6",
        "colab_type": "code",
        "colab": {}
      },
      "source": [
        "j = 0\n",
        "X_train_scaled_minibatches_np=[]\n",
        "y_train_scaled_minibatches_np=[]\n",
        "for i in range(0, num_minibatches):\n",
        "  X_train_scaled_minibatches_np.append(np.array(X_train_scaled_df.iloc[j: j+100]))\n",
        "  y_train_scaled_minibatches_np.append(np.array(y_train_scaled_df.iloc[j: j+100]))\n",
        "  j=j+B"
      ],
      "execution_count": 42,
      "outputs": []
    },
    {
      "cell_type": "markdown",
      "metadata": {
        "id": "S-00m1XNJqO9",
        "colab_type": "text"
      },
      "source": [
        "**Running the same vectorized forward propagation algorithm with weight update rule but on minibatches instead**"
      ]
    },
    {
      "cell_type": "code",
      "metadata": {
        "id": "w3C6uXmSCnel",
        "colab_type": "code",
        "colab": {}
      },
      "source": [
        "w_init_minibatch = np.zeros((40,1))\n",
        "rmses_minibatches = []\n",
        "num_epochs = 100\n",
        "\n",
        "for i in range(0, num_epochs): \n",
        "  rmses_minibatch = []\n",
        "  for t in range(0, num_minibatches): \n",
        "    y_minibatch_pred_train_scaled_np = np.dot(X_train_scaled_minibatches_np[t], w_init_minibatch)\n",
        "    w_init_minibatch = w_init_minibatch - alpha/B * np.dot(X_train_scaled_minibatches_np[t].T,(y_minibatch_pred_train_scaled_np-y_train_scaled_minibatches_np[t]))\n",
        "    rmse_loss = rmse(y_train_scaled_minibatches_np[t], y_minibatch_pred_train_scaled_np)\n",
        "    rmses_minibatch.append(rmse_loss)\n",
        "  rmses_minibatches.append(np.mean(rmses_minibatch))\n",
        "  "
      ],
      "execution_count": 43,
      "outputs": []
    },
    {
      "cell_type": "code",
      "metadata": {
        "id": "vPdk--KaFw0e",
        "colab_type": "code",
        "colab": {
          "base_uri": "https://localhost:8080/",
          "height": 311
        },
        "outputId": "0f651976-1c24-4048-cb62-e4eced47b61c"
      },
      "source": [
        "plt.plot(rmses_minibatches)\n",
        "plt.title(\"RMSE Loss of minibatch, using B={}\".format(B))\n",
        "plt.xlabel(\"Number of epochs\")"
      ],
      "execution_count": 44,
      "outputs": [
        {
          "output_type": "execute_result",
          "data": {
            "text/plain": [
              "Text(0.5, 0, 'Number of epochs')"
            ]
          },
          "metadata": {
            "tags": []
          },
          "execution_count": 44
        },
        {
          "output_type": "display_data",
          "data": {
            "image/png": "[encoded data removed]",
            "text/plain": [
              "<Figure size 432x288 with 1 Axes>"
            ]
          },
          "metadata": {
            "tags": [],
            "needs_background": "light"
          }
        }
      ]
    },
    {
      "cell_type": "markdown",
      "metadata": {
        "id": "hyeoATR1Jymi",
        "colab_type": "text"
      },
      "source": [
        "### **Determining convergence**\n",
        "* We can declare convergence if the cost function decreases by less than $10^{-3}$ in one iteration"
      ]
    },
    {
      "cell_type": "code",
      "metadata": {
        "id": "_TKCJ1-EJ9Sm",
        "colab_type": "code",
        "colab": {
          "base_uri": "https://localhost:8080/",
          "height": 33
        },
        "outputId": "28c774cf-f37b-48b4-9a0d-d46f7fae3a5f"
      },
      "source": [
        "i = 0\n",
        "while i< len(rmses_minibatches): \n",
        "  if rmses_minibatches[i]-rmses_minibatches[i+1] < 0.001: \n",
        "    print(\"Number of epochs to converge: {}\".format(i))\n",
        "    break \n",
        "  i+=1\n",
        "epochs_to_converge = i"
      ],
      "execution_count": 45,
      "outputs": [
        {
          "output_type": "stream",
          "text": [
            "Number of epochs to converge: 24\n"
          ],
          "name": "stdout"
        }
      ]
    },
    {
      "cell_type": "markdown",
      "metadata": {
        "id": "ouSlyhYAIaTy",
        "colab_type": "text"
      },
      "source": [
        "###**Evaluating results on Test data**"
      ]
    },
    {
      "cell_type": "code",
      "metadata": {
        "id": "FpndLOZUHdXH",
        "colab_type": "code",
        "colab": {
          "base_uri": "https://localhost:8080/",
          "height": 50
        },
        "outputId": "3b77e423-004e-4169-edbe-55cb57794e62"
      },
      "source": [
        "y_minibatch_pred_train_scaled_np = np.dot(X_train_scaled_np, w_init_minibatch)\n",
        "y_minibatch_pred_test_scaled_np = np.dot(X_test_scaled_np, w_init_minibatch)\n",
        "\n",
        "rmse_minibatch_train = rmse(y_train_scaled_np, y_minibatch_pred_train_scaled_np)\n",
        "rmse_minibatch_test = rmse(y_test_scaled_np, y_minibatch_pred_test_scaled_np)\n",
        "\n",
        "print(\"training error:{}\".format(rmse_minibatch_train))\n",
        "print(\"testing error:{}\".format(rmse_minibatch_test))"
      ],
      "execution_count": 46,
      "outputs": [
        {
          "output_type": "stream",
          "text": [
            "training error:0.4256581490655238\n",
            "testing error:0.4285845584402317\n"
          ],
          "name": "stdout"
        }
      ]
    },
    {
      "cell_type": "code",
      "metadata": {
        "id": "h5lsfp5_Dpfa",
        "colab_type": "code",
        "colab": {}
      },
      "source": [
        "d = {'alpha':[alpha], 'Mini Batch Size B':[B], 'num_minibatches':[num_minibatches],'epochs_to_converge': [epochs_to_converge], 'rmse_minibatch_train':[rmse_minibatch_train], \n",
        "     'rmse_minibatch_test':[rmse_minibatch_test]}\n",
        "df = pd.DataFrame(data=d) \n"
      ],
      "execution_count": 47,
      "outputs": []
    },
    {
      "cell_type": "markdown",
      "metadata": {
        "id": "kwtNbIReA4hX",
        "colab_type": "text"
      },
      "source": [
        "### **Trying Different Values of B**"
      ]
    },
    {
      "cell_type": "code",
      "metadata": {
        "id": "nl6LJOGmA4Sx",
        "colab_type": "code",
        "colab": {
          "base_uri": "https://localhost:8080/",
          "height": 1000
        },
        "outputId": "9440a007-7399-483a-ec1c-140429ca0a92"
      },
      "source": [
        "Bs = [100, 500, 1000, 5000, 11000]\n",
        "for B in Bs: \n",
        "  print(\"INITALIZING PARAMETERS...\")\n",
        "  w_init_grad_desc = np.zeros((40,1))\n",
        "  b = np.zeros((11000,1))\n",
        "  alpha = 0.001\n",
        "  N = 11000\n",
        "  num_epochs = 1000\n",
        "  rmses_gd = []\n",
        "  # B = 100\n",
        "  num_minibatches = len(X_train_scaled_df)//B\n",
        "  print(\"HYPER PARAMETERS\")\n",
        "  print(\"alpha:{}\".format(alpha))\n",
        "  print(\"Num of training examples = N:{}\".format(N))\n",
        "  print(\"Mini batch size = B:{}\".format(B))\n",
        "  print(\"Num of mini batches = num_minibatches:{}\".format(num_minibatches))\n",
        "  print(\"\\n\")\n",
        "\n",
        "\n",
        "  print(\"Creating list of minibatches for X_train_scaled_df\")\n",
        "  X_train_scaled_df.reset_index(inplace=True)\n",
        "  X_train_scaled_df.drop(columns=['index'], inplace=True)\n",
        "\n",
        "  y_train_scaled_df.reset_index(inplace=True)\n",
        "  y_train_scaled_df.drop(columns=['index'], inplace=True)\n",
        "\n",
        "  j = 0\n",
        "  X_train_scaled_minibatches_df=[]\n",
        "  y_train_scaled_minibatches_df=[]\n",
        "  for i in range(0, num_minibatches):\n",
        "    X_train_scaled_minibatches_df.append(X_train_scaled_df.iloc[j: j+B])\n",
        "    y_train_scaled_minibatches_df.append(y_train_scaled_df.iloc[j: j+B])\n",
        "    j=j+B\n",
        "\n",
        "\n",
        "  print(\"\\n Casting mini batches to numpy arrays\")\n",
        "  j = 0\n",
        "  X_train_scaled_minibatches_np=[]\n",
        "  y_train_scaled_minibatches_np=[]\n",
        "  for i in range(0, num_minibatches):\n",
        "    X_train_scaled_minibatches_np.append(np.array(X_train_scaled_df.iloc[j: j+B]))\n",
        "    y_train_scaled_minibatches_np.append(np.array(y_train_scaled_df.iloc[j: j+B]))\n",
        "    j=j+B\n",
        "\n",
        "\n",
        "  print(\"\\n Running the same vectorized forward propagation algorithm with weight update rule but on minibatches instead\")\n",
        "  w_init_minibatch = np.zeros((40,1))\n",
        "  rmses_minibatches = []\n",
        "  \n",
        "\n",
        "  for i in range(0, num_epochs): \n",
        "    rmses_minibatch = []\n",
        "    for t in range(0, num_minibatches): \n",
        "      y_minibatch_pred_train_scaled_np = np.dot(X_train_scaled_minibatches_np[t], w_init_minibatch)\n",
        "      w_init_minibatch = w_init_minibatch - alpha/B * np.dot(X_train_scaled_minibatches_np[t].T,(y_minibatch_pred_train_scaled_np-y_train_scaled_minibatches_np[t]))\n",
        "      rmse_loss = rmse(y_train_scaled_minibatches_np[t], y_minibatch_pred_train_scaled_np)\n",
        "      rmses_minibatch.append(rmse_loss)\n",
        "    rmses_minibatches.append(np.mean(rmses_minibatch))\n",
        "\n",
        "\n",
        "  plt.plot(rmses_minibatches, label='Minibatch size:{}'.format(B))\n",
        "  plt.title(\"RMSE Loss of minibatch, using B={}\".format(B))\n",
        "  plt.xlabel(\"Number of epochs\")\n",
        "  plt.legend()\n",
        "\n",
        "  print(\"\\n Evaluating results on Test data\")\n",
        "  y_minibatch_pred_train_scaled_np = np.dot(X_train_scaled_np, w_init_minibatch)\n",
        "  y_minibatch_pred_test_scaled_np = np.dot(X_test_scaled_np, w_init_minibatch)\n",
        "\n",
        "  rmse_minibatch_train = rmse(y_train_scaled_np, y_minibatch_pred_train_scaled_np)\n",
        "  rmse_minibatch_test = rmse(y_test_scaled_np, y_minibatch_pred_test_scaled_np)\n",
        "\n",
        "  print(\"training error:{}\".format(rmse_minibatch_train))\n",
        "  print(\"testing error:{}\".format(rmse_minibatch_test))\n",
        "\n",
        "  print('\\n Determining convergence')\n",
        "  i = 0\n",
        "  while i< len(rmses_minibatches)-1: \n",
        "    if rmses_minibatches[i]-rmses_minibatches[i+1] < 0.001: \n",
        "      print(\"Number of epochs to converge: {}\".format(i))\n",
        "      break \n",
        "    i+=1\n",
        "  epochs_to_converge = i\n",
        "\n",
        "  d1 = {'alpha':[alpha], 'Mini Batch Size B':[B], 'num_minibatches':[num_minibatches],'epochs_to_converge': [epochs_to_converge], 'rmse_minibatch_train':[rmse_minibatch_train], \n",
        "     'rmse_minibatch_test':[rmse_minibatch_test]}\n",
        "  df1 = pd.DataFrame(data=d1) \n",
        "\n",
        "  df = df.append(df1)\n",
        "  df\n",
        "    "
      ],
      "execution_count": 48,
      "outputs": [
        {
          "output_type": "stream",
          "text": [
            "INITALIZING PARAMETERS...\n",
            "HYPER PARAMETERS\n",
            "alpha:0.001\n",
            "Num of training examples = N:11000\n",
            "Mini batch size = B:100\n",
            "Num of mini batches = num_minibatches:110\n",
            "\n",
            "\n",
            "Creating list of minibatches for X_train_scaled_df\n",
            "\n",
            " Casting mini batches to numpy arrays\n",
            "\n",
            " Running the same vectorized forward propagation algorithm with weight update rule but on minibatches instead\n",
            "\n",
            " Evaluating results on Test data\n",
            "training error:0.4253683274948885\n",
            "testing error:0.4281897239664606\n",
            "\n",
            " Determining convergence\n",
            "Number of epochs to converge: 24\n",
            "INITALIZING PARAMETERS...\n",
            "HYPER PARAMETERS\n",
            "alpha:0.001\n",
            "Num of training examples = N:11000\n",
            "Mini batch size = B:500\n",
            "Num of mini batches = num_minibatches:22\n",
            "\n",
            "\n",
            "Creating list of minibatches for X_train_scaled_df\n",
            "\n",
            " Casting mini batches to numpy arrays\n",
            "\n",
            " Running the same vectorized forward propagation algorithm with weight update rule but on minibatches instead\n",
            "\n",
            " Evaluating results on Test data\n",
            "training error:0.42554097624154474\n",
            "testing error:0.42821638910928195\n",
            "\n",
            " Determining convergence\n",
            "Number of epochs to converge: 73\n",
            "INITALIZING PARAMETERS...\n",
            "HYPER PARAMETERS\n",
            "alpha:0.001\n",
            "Num of training examples = N:11000\n",
            "Mini batch size = B:1000\n",
            "Num of mini batches = num_minibatches:11\n",
            "\n",
            "\n",
            "Creating list of minibatches for X_train_scaled_df\n",
            "\n",
            " Casting mini batches to numpy arrays\n",
            "\n",
            " Running the same vectorized forward propagation algorithm with weight update rule but on minibatches instead\n",
            "\n",
            " Evaluating results on Test data\n",
            "training error:0.425648332909232\n",
            "testing error:0.4283718685354667\n",
            "\n",
            " Determining convergence\n",
            "Number of epochs to converge: 106\n",
            "INITALIZING PARAMETERS...\n",
            "HYPER PARAMETERS\n",
            "alpha:0.001\n",
            "Num of training examples = N:11000\n",
            "Mini batch size = B:5000\n",
            "Num of mini batches = num_minibatches:2\n",
            "\n",
            "\n",
            "Creating list of minibatches for X_train_scaled_df\n",
            "\n",
            " Casting mini batches to numpy arrays\n",
            "\n",
            " Running the same vectorized forward propagation algorithm with weight update rule but on minibatches instead\n",
            "\n",
            " Evaluating results on Test data\n",
            "training error:0.443675486294329\n",
            "testing error:0.4460634809543689\n",
            "\n",
            " Determining convergence\n",
            "Number of epochs to converge: 68\n",
            "INITALIZING PARAMETERS...\n",
            "HYPER PARAMETERS\n",
            "alpha:0.001\n",
            "Num of training examples = N:11000\n",
            "Mini batch size = B:11000\n",
            "Num of mini batches = num_minibatches:1\n",
            "\n",
            "\n",
            "Creating list of minibatches for X_train_scaled_df\n",
            "\n",
            " Casting mini batches to numpy arrays\n",
            "\n",
            " Running the same vectorized forward propagation algorithm with weight update rule but on minibatches instead\n",
            "\n",
            " Evaluating results on Test data\n",
            "training error:0.5044608976889305\n",
            "testing error:0.5044522340468719\n",
            "\n",
            " Determining convergence\n",
            "Number of epochs to converge: 83\n"
          ],
          "name": "stdout"
        },
        {
          "output_type": "display_data",
          "data": {
            "image/png": "[encoded data removed]",
            "text/plain": [
              "<Figure size 432x288 with 1 Axes>"
            ]
          },
          "metadata": {
            "tags": [],
            "needs_background": "light"
          }
        }
      ]
    },
    {
      "cell_type": "markdown",
      "metadata": {
        "id": "0NJsHvvuEOVt",
        "colab_type": "text"
      },
      "source": [
        "### **Results Summary for Mini Batch Size Calibration**\n",
        "\n",
        "We can see that the fastest convergence occured for `B=100`, with 24 epochs to converge. "
      ]
    },
    {
      "cell_type": "code",
      "metadata": {
        "id": "YowOrqjODbZF",
        "colab_type": "code",
        "colab": {
          "base_uri": "https://localhost:8080/",
          "height": 220
        },
        "outputId": "e672f40e-3b97-4d5a-f049-4c81797620c0"
      },
      "source": [
        "df_part3 = df\n",
        "df_part3 "
      ],
      "execution_count": 49,
      "outputs": [
        {
          "output_type": "execute_result",
          "data": {
            "text/html": [
              "<div>\n",
              "<style scoped>\n",
              "    .dataframe tbody tr th:only-of-type {\n",
              "        vertical-align: middle;\n",
              "    }\n",
              "\n",
              "    .dataframe tbody tr th {\n",
              "        vertical-align: top;\n",
              "    }\n",
              "\n",
              "    .dataframe thead th {\n",
              "        text-align: right;\n",
              "    }\n",
              "</style>\n",
              "<table border=\"1\" class=\"dataframe\">\n",
              "  <thead>\n",
              "    <tr style=\"text-align: right;\">\n",
              "      <th></th>\n",
              "      <th>alpha</th>\n",
              "      <th>Mini Batch Size B</th>\n",
              "      <th>num_minibatches</th>\n",
              "      <th>epochs_to_converge</th>\n",
              "      <th>rmse_minibatch_train</th>\n",
              "      <th>rmse_minibatch_test</th>\n",
              "    </tr>\n",
              "  </thead>\n",
              "  <tbody>\n",
              "    <tr>\n",
              "      <th>0</th>\n",
              "      <td>0.001</td>\n",
              "      <td>100</td>\n",
              "      <td>110</td>\n",
              "      <td>24</td>\n",
              "      <td>0.425658</td>\n",
              "      <td>0.428585</td>\n",
              "    </tr>\n",
              "    <tr>\n",
              "      <th>0</th>\n",
              "      <td>0.001</td>\n",
              "      <td>100</td>\n",
              "      <td>110</td>\n",
              "      <td>24</td>\n",
              "      <td>0.425368</td>\n",
              "      <td>0.428190</td>\n",
              "    </tr>\n",
              "    <tr>\n",
              "      <th>0</th>\n",
              "      <td>0.001</td>\n",
              "      <td>500</td>\n",
              "      <td>22</td>\n",
              "      <td>73</td>\n",
              "      <td>0.425541</td>\n",
              "      <td>0.428216</td>\n",
              "    </tr>\n",
              "    <tr>\n",
              "      <th>0</th>\n",
              "      <td>0.001</td>\n",
              "      <td>1000</td>\n",
              "      <td>11</td>\n",
              "      <td>106</td>\n",
              "      <td>0.425648</td>\n",
              "      <td>0.428372</td>\n",
              "    </tr>\n",
              "    <tr>\n",
              "      <th>0</th>\n",
              "      <td>0.001</td>\n",
              "      <td>5000</td>\n",
              "      <td>2</td>\n",
              "      <td>68</td>\n",
              "      <td>0.443675</td>\n",
              "      <td>0.446063</td>\n",
              "    </tr>\n",
              "    <tr>\n",
              "      <th>0</th>\n",
              "      <td>0.001</td>\n",
              "      <td>11000</td>\n",
              "      <td>1</td>\n",
              "      <td>83</td>\n",
              "      <td>0.504461</td>\n",
              "      <td>0.504452</td>\n",
              "    </tr>\n",
              "  </tbody>\n",
              "</table>\n",
              "</div>"
            ],
            "text/plain": [
              "   alpha  Mini Batch Size B  ...  rmse_minibatch_train  rmse_minibatch_test\n",
              "0  0.001                100  ...              0.425658             0.428585\n",
              "0  0.001                100  ...              0.425368             0.428190\n",
              "0  0.001                500  ...              0.425541             0.428216\n",
              "0  0.001               1000  ...              0.425648             0.428372\n",
              "0  0.001               5000  ...              0.443675             0.446063\n",
              "0  0.001              11000  ...              0.504461             0.504452\n",
              "\n",
              "[6 rows x 6 columns]"
            ]
          },
          "metadata": {
            "tags": []
          },
          "execution_count": 49
        }
      ]
    },
    {
      "cell_type": "markdown",
      "metadata": {
        "id": "m0XR0IpjlJwN",
        "colab_type": "text"
      },
      "source": [
        "## Part 5 - Learning Rate [2 marks]\n",
        "Select the best batch size based on fastest convergence (number of times you update the weights) and sweep the learning rate while applying Mini-batch GD. Report your findings on a plot.\n"
      ]
    },
    {
      "cell_type": "code",
      "metadata": {
        "id": "ABlVgNHI5Sic",
        "colab_type": "code",
        "colab": {
          "base_uri": "https://localhost:8080/",
          "height": 1000
        },
        "outputId": "559d1119-d184-4c10-968f-c2df30e67240"
      },
      "source": [
        "alphas = [0.01, 0.001, 0.0001]\n",
        "for alpha in alphas: \n",
        "  print(\"INITALIZING PARAMETERS...\")\n",
        "  w_init_grad_desc = np.zeros((40,1))\n",
        "  b = np.zeros((11000,1))\n",
        "  # alpha = 0.001\n",
        "  N = 11000\n",
        "  num_epochs = 1000\n",
        "  rmses_gd = []\n",
        "  B = 100\n",
        "  num_minibatches = len(X_train_scaled_df)//B\n",
        "  print(\"HYPER PARAMETERS\")\n",
        "  print(\"alpha:{}\".format(alpha))\n",
        "  print(\"Num of training examples = N:{}\".format(N))\n",
        "  print(\"Mini batch size = B:{}\".format(B))\n",
        "  print(\"Num of mini batches = num_minibatches:{}\".format(num_minibatches))\n",
        "  print(\"\\n\")\n",
        "\n",
        "\n",
        "  print(\"Creating list of minibatches for X_train_scaled_df\")\n",
        "  X_train_scaled_df.reset_index(inplace=True)\n",
        "  X_train_scaled_df.drop(columns=['index'], inplace=True)\n",
        "\n",
        "  y_train_scaled_df.reset_index(inplace=True)\n",
        "  y_train_scaled_df.drop(columns=['index'], inplace=True)\n",
        "\n",
        "  j = 0\n",
        "  X_train_scaled_minibatches_df=[]\n",
        "  y_train_scaled_minibatches_df=[]\n",
        "  for i in range(0, num_minibatches):\n",
        "    X_train_scaled_minibatches_df.append(X_train_scaled_df.iloc[j: j+B])\n",
        "    y_train_scaled_minibatches_df.append(y_train_scaled_df.iloc[j: j+B])\n",
        "    j=j+B\n",
        "\n",
        "\n",
        "  print(\"\\nCasting mini batches to numpy arrays\")\n",
        "  j = 0\n",
        "  X_train_scaled_minibatches_np=[]\n",
        "  y_train_scaled_minibatches_np=[]\n",
        "  for i in range(0, num_minibatches):\n",
        "    X_train_scaled_minibatches_np.append(np.array(X_train_scaled_df.iloc[j: j+B]))\n",
        "    y_train_scaled_minibatches_np.append(np.array(y_train_scaled_df.iloc[j: j+B]))\n",
        "    j=j+B\n",
        "\n",
        "\n",
        "  print(\"\\nRunning the same vectorized forward propagation algorithm with weight update rule but on minibatches instead\")\n",
        "  w_init_minibatch = np.zeros((40,1))\n",
        "  rmses_minibatches = []\n",
        "  \n",
        "\n",
        "  for i in range(0, num_epochs): \n",
        "    rmses_minibatch = []\n",
        "    for t in range(0, num_minibatches): \n",
        "      y_minibatch_pred_train_scaled_np = np.dot(X_train_scaled_minibatches_np[t], w_init_minibatch)\n",
        "      w_init_minibatch = w_init_minibatch - alpha/B * np.dot(X_train_scaled_minibatches_np[t].T,(y_minibatch_pred_train_scaled_np-y_train_scaled_minibatches_np[t]))\n",
        "      rmse_loss = rmse(y_train_scaled_minibatches_np[t], y_minibatch_pred_train_scaled_np)\n",
        "      rmses_minibatch.append(rmse_loss)\n",
        "    rmses_minibatches.append(np.mean(rmses_minibatch))\n",
        "\n",
        "\n",
        "  plt.plot(rmses_minibatches, label='Learning rate alpha:{}'.format(alpha))\n",
        "  plt.title(\"RMSE Loss, varying learning rates\")\n",
        "  plt.xlabel(\"Number of epochs\")\n",
        "  plt.legend()\n",
        "\n",
        "  print(\"\\nEvaluating results on Test data\")\n",
        "  y_minibatch_pred_train_scaled_np = np.dot(X_train_scaled_np, w_init_minibatch)\n",
        "  y_minibatch_pred_test_scaled_np = np.dot(X_test_scaled_np, w_init_minibatch)\n",
        "\n",
        "  rmse_minibatch_train = rmse(y_train_scaled_np, y_minibatch_pred_train_scaled_np)\n",
        "  rmse_minibatch_test = rmse(y_test_scaled_np, y_minibatch_pred_test_scaled_np)\n",
        "\n",
        "  print(\"training error:{}\".format(rmse_minibatch_train))\n",
        "  print(\"testing error:{}\".format(rmse_minibatch_test))\n",
        "\n",
        "  print('\\nDetermining convergence')\n",
        "  i = 0\n",
        "  while i< len(rmses_minibatches)-1: \n",
        "    if rmses_minibatches[i]-rmses_minibatches[i+1] < 0.001: \n",
        "      print(\"Number of epochs to converge: {}\".format(i))\n",
        "      break \n",
        "    i+=1\n",
        "  epochs_to_converge = i\n",
        "\n",
        "  d1 = {'alpha':[alpha], 'Mini Batch Size B':[B], 'num_minibatches':[num_minibatches],'epochs_to_converge': [epochs_to_converge], 'rmse_minibatch_train':[rmse_minibatch_train], \n",
        "     'rmse_minibatch_test':[rmse_minibatch_test]}\n",
        "  df1 = pd.DataFrame(data=d1) \n",
        "\n",
        "  df = df.append(df1)\n",
        "  df\n",
        "    "
      ],
      "execution_count": 50,
      "outputs": [
        {
          "output_type": "stream",
          "text": [
            "INITALIZING PARAMETERS...\n",
            "HYPER PARAMETERS\n",
            "alpha:0.01\n",
            "Num of training examples = N:11000\n",
            "Mini batch size = B:100\n",
            "Num of mini batches = num_minibatches:110\n",
            "\n",
            "\n",
            "Creating list of minibatches for X_train_scaled_df\n",
            "\n",
            "Casting mini batches to numpy arrays\n",
            "\n",
            "Running the same vectorized forward propagation algorithm with weight update rule but on minibatches instead\n",
            "\n",
            "Evaluating results on Test data\n",
            "training error:0.42533216489092024\n",
            "testing error:0.4275311513347331\n",
            "\n",
            "Determining convergence\n",
            "Number of epochs to converge: 4\n",
            "INITALIZING PARAMETERS...\n",
            "HYPER PARAMETERS\n",
            "alpha:0.001\n",
            "Num of training examples = N:11000\n",
            "Mini batch size = B:100\n",
            "Num of mini batches = num_minibatches:110\n",
            "\n",
            "\n",
            "Creating list of minibatches for X_train_scaled_df\n",
            "\n",
            "Casting mini batches to numpy arrays\n",
            "\n",
            "Running the same vectorized forward propagation algorithm with weight update rule but on minibatches instead\n",
            "\n",
            "Evaluating results on Test data\n",
            "training error:0.4253683274948885\n",
            "testing error:0.4281897239664606\n",
            "\n",
            "Determining convergence\n",
            "Number of epochs to converge: 24\n",
            "INITALIZING PARAMETERS...\n",
            "HYPER PARAMETERS\n",
            "alpha:0.0001\n",
            "Num of training examples = N:11000\n",
            "Mini batch size = B:100\n",
            "Num of mini batches = num_minibatches:110\n",
            "\n",
            "\n",
            "Creating list of minibatches for X_train_scaled_df\n",
            "\n",
            "Casting mini batches to numpy arrays\n",
            "\n",
            "Running the same vectorized forward propagation algorithm with weight update rule but on minibatches instead\n",
            "\n",
            "Evaluating results on Test data\n",
            "training error:0.4256483186020497\n",
            "testing error:0.4283687516212365\n",
            "\n",
            "Determining convergence\n",
            "Number of epochs to converge: 106\n"
          ],
          "name": "stdout"
        },
        {
          "output_type": "display_data",
          "data": {
            "image/png": "[encoded data removed]",
            "text/plain": [
              "<Figure size 432x288 with 1 Axes>"
            ]
          },
          "metadata": {
            "tags": [],
            "needs_background": "light"
          }
        }
      ]
    },
    {
      "cell_type": "markdown",
      "metadata": {
        "id": "a9rblNa-JTrV",
        "colab_type": "text"
      },
      "source": [
        "* **We can see that the fastest convergence was attained with `alpha=0.01`**"
      ]
    },
    {
      "cell_type": "code",
      "metadata": {
        "id": "6yALfz2wJETm",
        "colab_type": "code",
        "colab": {
          "base_uri": "https://localhost:8080/",
          "height": 306
        },
        "outputId": "119de52d-fe18-47b7-87f9-cbcc065317ec"
      },
      "source": [
        "df_part4 = df\n",
        "df_part4"
      ],
      "execution_count": 51,
      "outputs": [
        {
          "output_type": "execute_result",
          "data": {
            "text/html": [
              "<div>\n",
              "<style scoped>\n",
              "    .dataframe tbody tr th:only-of-type {\n",
              "        vertical-align: middle;\n",
              "    }\n",
              "\n",
              "    .dataframe tbody tr th {\n",
              "        vertical-align: top;\n",
              "    }\n",
              "\n",
              "    .dataframe thead th {\n",
              "        text-align: right;\n",
              "    }\n",
              "</style>\n",
              "<table border=\"1\" class=\"dataframe\">\n",
              "  <thead>\n",
              "    <tr style=\"text-align: right;\">\n",
              "      <th></th>\n",
              "      <th>alpha</th>\n",
              "      <th>Mini Batch Size B</th>\n",
              "      <th>num_minibatches</th>\n",
              "      <th>epochs_to_converge</th>\n",
              "      <th>rmse_minibatch_train</th>\n",
              "      <th>rmse_minibatch_test</th>\n",
              "    </tr>\n",
              "  </thead>\n",
              "  <tbody>\n",
              "    <tr>\n",
              "      <th>0</th>\n",
              "      <td>0.0010</td>\n",
              "      <td>100</td>\n",
              "      <td>110</td>\n",
              "      <td>24</td>\n",
              "      <td>0.425658</td>\n",
              "      <td>0.428585</td>\n",
              "    </tr>\n",
              "    <tr>\n",
              "      <th>0</th>\n",
              "      <td>0.0010</td>\n",
              "      <td>100</td>\n",
              "      <td>110</td>\n",
              "      <td>24</td>\n",
              "      <td>0.425368</td>\n",
              "      <td>0.428190</td>\n",
              "    </tr>\n",
              "    <tr>\n",
              "      <th>0</th>\n",
              "      <td>0.0010</td>\n",
              "      <td>500</td>\n",
              "      <td>22</td>\n",
              "      <td>73</td>\n",
              "      <td>0.425541</td>\n",
              "      <td>0.428216</td>\n",
              "    </tr>\n",
              "    <tr>\n",
              "      <th>0</th>\n",
              "      <td>0.0010</td>\n",
              "      <td>1000</td>\n",
              "      <td>11</td>\n",
              "      <td>106</td>\n",
              "      <td>0.425648</td>\n",
              "      <td>0.428372</td>\n",
              "    </tr>\n",
              "    <tr>\n",
              "      <th>0</th>\n",
              "      <td>0.0010</td>\n",
              "      <td>5000</td>\n",
              "      <td>2</td>\n",
              "      <td>68</td>\n",
              "      <td>0.443675</td>\n",
              "      <td>0.446063</td>\n",
              "    </tr>\n",
              "    <tr>\n",
              "      <th>0</th>\n",
              "      <td>0.0010</td>\n",
              "      <td>11000</td>\n",
              "      <td>1</td>\n",
              "      <td>83</td>\n",
              "      <td>0.504461</td>\n",
              "      <td>0.504452</td>\n",
              "    </tr>\n",
              "    <tr>\n",
              "      <th>0</th>\n",
              "      <td>0.0100</td>\n",
              "      <td>100</td>\n",
              "      <td>110</td>\n",
              "      <td>4</td>\n",
              "      <td>0.425332</td>\n",
              "      <td>0.427531</td>\n",
              "    </tr>\n",
              "    <tr>\n",
              "      <th>0</th>\n",
              "      <td>0.0010</td>\n",
              "      <td>100</td>\n",
              "      <td>110</td>\n",
              "      <td>24</td>\n",
              "      <td>0.425368</td>\n",
              "      <td>0.428190</td>\n",
              "    </tr>\n",
              "    <tr>\n",
              "      <th>0</th>\n",
              "      <td>0.0001</td>\n",
              "      <td>100</td>\n",
              "      <td>110</td>\n",
              "      <td>106</td>\n",
              "      <td>0.425648</td>\n",
              "      <td>0.428369</td>\n",
              "    </tr>\n",
              "  </tbody>\n",
              "</table>\n",
              "</div>"
            ],
            "text/plain": [
              "    alpha  Mini Batch Size B  ...  rmse_minibatch_train  rmse_minibatch_test\n",
              "0  0.0010                100  ...              0.425658             0.428585\n",
              "0  0.0010                100  ...              0.425368             0.428190\n",
              "0  0.0010                500  ...              0.425541             0.428216\n",
              "0  0.0010               1000  ...              0.425648             0.428372\n",
              "0  0.0010               5000  ...              0.443675             0.446063\n",
              "0  0.0010              11000  ...              0.504461             0.504452\n",
              "0  0.0100                100  ...              0.425332             0.427531\n",
              "0  0.0010                100  ...              0.425368             0.428190\n",
              "0  0.0001                100  ...              0.425648             0.428369\n",
              "\n",
              "[9 rows x 6 columns]"
            ]
          },
          "metadata": {
            "tags": []
          },
          "execution_count": 51
        }
      ]
    },
    {
      "cell_type": "markdown",
      "metadata": {
        "id": "zJllnLWSmmnv",
        "colab_type": "text"
      },
      "source": [
        "## Part 6 - Regularizers [4 marks]\n",
        "\n",
        "1.   Formula (use a text cell --markdown-- and write in latex): \n",
        "  *   Derive the Direct solution formula when a L1 regularizer ($\\lambda_1$) is employed. - in progress\n",
        "  *   Derive the Direct solution formula when a L2 regularizer ($\\lambda_2$) is employed. - done \n",
        "  *   Derive the Gradient Descent weight update formula when the L1 regularizer is employed. - done \n",
        "  *   Derive the Gradient Descent weight update formula when the L2 regularizer is employed. - done\n",
        "\n",
        "\n",
        "\n",
        "2.   Evaluation:\n",
        "\n",
        "  *  Apply L1 and L2 regularizers (separately) to the direct solution and plot train and validation error as a function of the $\\lambda$. Find the best regularizer ($\\lambda$) values to use in the next steps.\n",
        "\n",
        "    *   Plot mini-batch GD train error and validation error when $\\lambda_1$ regularizer is employed. (X-axis: iterations)\n",
        "\n",
        "    *   Plot mini-batch GD train error and validation error when $\\lambda_2$ regularizer is employed. (X-axis: iterations)\n",
        "\n",
        "\n",
        "\n",
        "* Summarize your findings and explain whether L1 or L2 regularizers are helping the GD convergence. Is it always safe to use a L1 regularizer? How about L2?\n",
        "\n"
      ]
    },
    {
      "cell_type": "markdown",
      "metadata": {
        "id": "cnrSIFhcJzUB",
        "colab_type": "text"
      },
      "source": [
        "Regularizers penalize hypotheses we think are somehow pathological and unlikely to generalize well. \n",
        "\n",
        "### **$L_1$ Regularization**\n",
        "L1 Regularization is also known as LASSO (Least Absolute Selection and Shrinkage Operator). \n",
        "* It is good for high dimensional problems. \n",
        "* L1 regularization has many of the beneficial properties of $L_2$ regularization, but yields sparse models that are more easily interpreted. \n",
        "* Models produced under an L1 penalty often outperform those produced with an $L_2$ penalty when irrelevant features are present in X. \n",
        "\n",
        "\n",
        "$$R = \\sum_i |w_i| $$\n",
        "\n",
        "$$J_{LASSO}(\\theta)=J(\\theta) + \\lambda ||\\theta||_1$$\n",
        "$$= \\frac{1}{2}\\sum_{i=1}^{N}(\\theta^{T}x^{(i)}-y^{(i)})^2 + \\lambda \\sum_{k=1}^{K} |\\theta_{k}|$$\n",
        "\n",
        "### **$L_2$ Regularization**\n",
        "L2 Regularization is also known as Ridge Regression. \n",
        "* We encourage weights to be small by choosing as our regularizer the $L_2$ penalty. \n",
        "* We want to do this to reduce the potential numerical instability introduced by weights with large magnitudes. \n",
        "\n",
        "$$R = \\sum_i w_i^2 $$\n",
        "\n",
        "$$J_{RR}(\\theta)=J(\\theta) + \\lambda ||\\theta||_2^2$$\n",
        "$$= \\frac{1}{2}\\sum_{i=1}^{N}(\\theta^{T}x^{(i)}-y^{(i)})^2 + \\lambda \\sum_{k=1}^{K} \\theta_{k}^2$$\n",
        "\n",
        "\n",
        "\n",
        "### **Direct Solution WITHOUT regularization**\n",
        "$$y = XW + b1$$\n",
        "\n",
        "$$W= (X^TX)^{-1}X^Ty$$\n",
        "\n",
        "\n",
        "### **Direct Solution WITH $L_1$ regularization**\n",
        "$$y = XW + b1$$\n",
        "\n",
        "We get the expression: \n",
        "\n",
        "$$||Xw - y||^2_2 +\\lambda||w||_1$$\n",
        "\n",
        "* Note that this remains an unconstrained convex optimization problem in terms of $w$. However, this problem is now non-differentiable when $w_i=0$ for any $w_i$. Thus, we cannot obtain a closed form solution for the global minimum in the same way that it is done with the $L_2$ penalty. \n",
        "\n",
        "\n",
        "### **Direct Solution WITH $L_2$ regularization**\n",
        "$$y = XW + b1$$\n",
        "\n",
        "$$W= (X^TX +\\lambda I)^{-1}X^Ty$$\n",
        "\n",
        "\n",
        " <hr>\n",
        "\n",
        "### **Gradient descent update rule WITHOUT regularization**\n",
        "$$w \\leftarrow w - \\alpha \\frac{\\partial J}{\\partial w_j}$$\n",
        "\n",
        "\n",
        "### **Gradient descent update rule WITH $L_1$ regularization**\n",
        "The update equation for each feature $i$ is as follows: \n",
        "$$w_i^{k+1} = w_i^k+\\alpha_k \\frac{\\partial}{\\partial w_i} \\left( L(j, w) - \\frac{C}{N} |w_i|\\right)$$\n",
        "\n",
        "where:\n",
        "* $i$ represents the $i$th feature\n",
        "* $N$ is the batch size \n",
        "* $k$ is the iteration counter \n",
        "* $\\alpha_k$ is the learning rate \n",
        "* $C$ is the metaparameter that controls the degree of regularization, which is usually tuned by cross-validation or using the heldout deta\n",
        "* $L(j,w)$ denotes the conditional log-likelihood of each sample $log_p(y_j|x_j;w)$\n",
        "\n",
        "Ref: https://www.aclweb.org/anthology/P09-1054.pdf\n",
        "\n",
        "\n",
        "### **Gradient descent update rule WITH $L_2$ regularization**\n",
        "$$w \\leftarrow w - \\alpha \\left( \\frac{\\partial J}{\\partial w_j} +\\lambda \\frac{\\partial R}{\\partial w}\\right)$$\n",
        "\n",
        "$$= w - \\alpha \\left( \\frac{\\partial J}{\\partial w_j} +\\lambda w \\right) $$\n",
        "\n",
        "$$= (1- \\alpha \\lambda) w - \\alpha \\left( \\frac{\\partial J}{\\partial w} \\right) $$\n",
        "\n",
        "\n",
        "\n",
        "Ref: https://www.cs.ubc.ca/~schmidtm/Documents/2005_Notes_Lasso.pdf\n",
        "\n",
        "\n",
        "\n"
      ]
    },
    {
      "cell_type": "markdown",
      "metadata": {
        "colab_type": "text",
        "id": "_APuh43i3NHU"
      },
      "source": [
        "## Part 7 - Introducing Momentum [4 marks]"
      ]
    },
    {
      "cell_type": "markdown",
      "metadata": {
        "colab_type": "text",
        "id": "MabNnVcW3NHU"
      },
      "source": [
        "Momentum is a popular technique that helps the gradient descent algorithm to converge faster. Simply, it behaves like a moving average of gradients. First, take a look at [here](https://towardsdatascience.com/stochastic-gradient-descent-with-momentum-a84097641a5d) to get familiar with the concept.\n",
        "\n",
        "To summarize, If the weight update formula in the time-step $t$ is $w_t = w_{t-1} - \\alpha~g_t$, the $g_t$ using momentum could be computed as $g_t = \\beta~g_{t-1} + (1-\\beta) \\frac{{\\partial J}}{\\partial w}$. $\\beta$ is the momentum coefficient, between [0, 1]. Weight updates ($g_t$) with momentum are not only computed based on the derivative of the loss function but also is a function of previous weight updates.\n",
        "\n",
        "If you put $\\beta=0$ in the $g_t$ equation, it would be the original gradient descent method. \n",
        "\n",
        "Train a linear model with a regularizer and various values of momentums. Plot your training and validation error for each iteration. Comment on the effect of momentum."
      ]
    },
    {
      "cell_type": "code",
      "metadata": {
        "id": "J6y-mK8r5TD3",
        "colab_type": "code",
        "colab": {}
      },
      "source": [
        ""
      ],
      "execution_count": null,
      "outputs": []
    },
    {
      "cell_type": "markdown",
      "metadata": {
        "colab_type": "text",
        "id": "0cS99Cxw3NHV"
      },
      "source": [
        "## Part 8 - Find a dataset online [3 marks]\n"
      ]
    },
    {
      "cell_type": "markdown",
      "metadata": {
        "id": "zIUuhPqA1WUe",
        "colab_type": "text"
      },
      "source": [
        "Find a dataset online and train a linear model with the techniques you learned \n",
        "\n",
        "1.   List item\n",
        "2.   List item\n",
        "\n",
        "to make a prediction. \n",
        "\n",
        "*   Introduce your dataset,\n",
        "*   How did you train your model,\n",
        "*   Show your results.\n",
        "\n",
        "Hint: you can find various datasets in here: https://www.kaggle.com/datasets.\n",
        "\n",
        "To use a dataset in Colab, you can upload it in your Google drive and access it in Colab ([help here](https://medium.com/analytics-vidhya/how-to-fetch-kaggle-datasets-into-google-colab-ea682569851a)), or you can download the dataset on your local machine and upload it directly to Colab using the following script.\n",
        "\n",
        "```\n",
        "from google.colab import files\n",
        "uploaded = files.upload()\n",
        "```\n",
        "\n",
        "When submitting your project on Quercus, Please make sure you are also uploading your dataset so we can fully run your notebook.\n",
        "\n",
        "\n",
        "\n",
        "\n"
      ]
    },
    {
      "cell_type": "code",
      "metadata": {
        "id": "pQlikNdORpfS",
        "colab_type": "code",
        "colab": {
          "base_uri": "https://localhost:8080/",
          "height": 211
        },
        "outputId": "7510e51a-314c-4c66-a754-5dd11ee05db8"
      },
      "source": [
        "url = 'https://raw.githubusercontent.com/armandordorica/APS1070_A4_Linear_Regression_Gradient_Descent/master/housing.csv'\n",
        "housing_df = pd.read_csv(url)\n",
        "housing_df.head()"
      ],
      "execution_count": 138,
      "outputs": [
        {
          "output_type": "execute_result",
          "data": {
            "text/html": [
              "<div>\n",
              "<style scoped>\n",
              "    .dataframe tbody tr th:only-of-type {\n",
              "        vertical-align: middle;\n",
              "    }\n",
              "\n",
              "    .dataframe tbody tr th {\n",
              "        vertical-align: top;\n",
              "    }\n",
              "\n",
              "    .dataframe thead th {\n",
              "        text-align: right;\n",
              "    }\n",
              "</style>\n",
              "<table border=\"1\" class=\"dataframe\">\n",
              "  <thead>\n",
              "    <tr style=\"text-align: right;\">\n",
              "      <th></th>\n",
              "      <th>id</th>\n",
              "      <th>date</th>\n",
              "      <th>price</th>\n",
              "      <th>bedrooms</th>\n",
              "      <th>bathrooms</th>\n",
              "      <th>sqft_living</th>\n",
              "      <th>sqft_lot</th>\n",
              "      <th>floors</th>\n",
              "      <th>waterfront</th>\n",
              "      <th>view</th>\n",
              "      <th>condition</th>\n",
              "      <th>grade</th>\n",
              "      <th>sqft_above</th>\n",
              "      <th>sqft_basement</th>\n",
              "      <th>yr_built</th>\n",
              "      <th>yr_renovated</th>\n",
              "      <th>zipcode</th>\n",
              "      <th>lat</th>\n",
              "      <th>long</th>\n",
              "      <th>sqft_living15</th>\n",
              "      <th>sqft_lot15</th>\n",
              "    </tr>\n",
              "  </thead>\n",
              "  <tbody>\n",
              "    <tr>\n",
              "      <th>0</th>\n",
              "      <td>7129300520</td>\n",
              "      <td>20141013T000000</td>\n",
              "      <td>221900.0</td>\n",
              "      <td>3</td>\n",
              "      <td>1.00</td>\n",
              "      <td>1180</td>\n",
              "      <td>5650</td>\n",
              "      <td>1.0</td>\n",
              "      <td>0</td>\n",
              "      <td>0</td>\n",
              "      <td>3</td>\n",
              "      <td>7</td>\n",
              "      <td>1180</td>\n",
              "      <td>0</td>\n",
              "      <td>1955</td>\n",
              "      <td>0</td>\n",
              "      <td>98178</td>\n",
              "      <td>47.5112</td>\n",
              "      <td>-122.257</td>\n",
              "      <td>1340</td>\n",
              "      <td>5650</td>\n",
              "    </tr>\n",
              "    <tr>\n",
              "      <th>1</th>\n",
              "      <td>6414100192</td>\n",
              "      <td>20141209T000000</td>\n",
              "      <td>538000.0</td>\n",
              "      <td>3</td>\n",
              "      <td>2.25</td>\n",
              "      <td>2570</td>\n",
              "      <td>7242</td>\n",
              "      <td>2.0</td>\n",
              "      <td>0</td>\n",
              "      <td>0</td>\n",
              "      <td>3</td>\n",
              "      <td>7</td>\n",
              "      <td>2170</td>\n",
              "      <td>400</td>\n",
              "      <td>1951</td>\n",
              "      <td>1991</td>\n",
              "      <td>98125</td>\n",
              "      <td>47.7210</td>\n",
              "      <td>-122.319</td>\n",
              "      <td>1690</td>\n",
              "      <td>7639</td>\n",
              "    </tr>\n",
              "    <tr>\n",
              "      <th>2</th>\n",
              "      <td>5631500400</td>\n",
              "      <td>20150225T000000</td>\n",
              "      <td>180000.0</td>\n",
              "      <td>2</td>\n",
              "      <td>1.00</td>\n",
              "      <td>770</td>\n",
              "      <td>10000</td>\n",
              "      <td>1.0</td>\n",
              "      <td>0</td>\n",
              "      <td>0</td>\n",
              "      <td>3</td>\n",
              "      <td>6</td>\n",
              "      <td>770</td>\n",
              "      <td>0</td>\n",
              "      <td>1933</td>\n",
              "      <td>0</td>\n",
              "      <td>98028</td>\n",
              "      <td>47.7379</td>\n",
              "      <td>-122.233</td>\n",
              "      <td>2720</td>\n",
              "      <td>8062</td>\n",
              "    </tr>\n",
              "    <tr>\n",
              "      <th>3</th>\n",
              "      <td>2487200875</td>\n",
              "      <td>20141209T000000</td>\n",
              "      <td>604000.0</td>\n",
              "      <td>4</td>\n",
              "      <td>3.00</td>\n",
              "      <td>1960</td>\n",
              "      <td>5000</td>\n",
              "      <td>1.0</td>\n",
              "      <td>0</td>\n",
              "      <td>0</td>\n",
              "      <td>5</td>\n",
              "      <td>7</td>\n",
              "      <td>1050</td>\n",
              "      <td>910</td>\n",
              "      <td>1965</td>\n",
              "      <td>0</td>\n",
              "      <td>98136</td>\n",
              "      <td>47.5208</td>\n",
              "      <td>-122.393</td>\n",
              "      <td>1360</td>\n",
              "      <td>5000</td>\n",
              "    </tr>\n",
              "    <tr>\n",
              "      <th>4</th>\n",
              "      <td>1954400510</td>\n",
              "      <td>20150218T000000</td>\n",
              "      <td>510000.0</td>\n",
              "      <td>3</td>\n",
              "      <td>2.00</td>\n",
              "      <td>1680</td>\n",
              "      <td>8080</td>\n",
              "      <td>1.0</td>\n",
              "      <td>0</td>\n",
              "      <td>0</td>\n",
              "      <td>3</td>\n",
              "      <td>8</td>\n",
              "      <td>1680</td>\n",
              "      <td>0</td>\n",
              "      <td>1987</td>\n",
              "      <td>0</td>\n",
              "      <td>98074</td>\n",
              "      <td>47.6168</td>\n",
              "      <td>-122.045</td>\n",
              "      <td>1800</td>\n",
              "      <td>7503</td>\n",
              "    </tr>\n",
              "  </tbody>\n",
              "</table>\n",
              "</div>"
            ],
            "text/plain": [
              "           id             date     price  ...     long  sqft_living15  sqft_lot15\n",
              "0  7129300520  20141013T000000  221900.0  ... -122.257           1340        5650\n",
              "1  6414100192  20141209T000000  538000.0  ... -122.319           1690        7639\n",
              "2  5631500400  20150225T000000  180000.0  ... -122.233           2720        8062\n",
              "3  2487200875  20141209T000000  604000.0  ... -122.393           1360        5000\n",
              "4  1954400510  20150218T000000  510000.0  ... -122.045           1800        7503\n",
              "\n",
              "[5 rows x 21 columns]"
            ]
          },
          "metadata": {
            "tags": []
          },
          "execution_count": 138
        }
      ]
    },
    {
      "cell_type": "code",
      "metadata": {
        "id": "_UcNVzXsgl93",
        "colab_type": "code",
        "colab": {
          "base_uri": "https://localhost:8080/",
          "height": 313
        },
        "outputId": "f91fe734-16d1-48be-e94b-36c5969dc414"
      },
      "source": [
        "housing_df['bedrooms'].value_counts().plot(kind='bar')\n",
        "plt.title('number of Bedroom')\n",
        "plt.xlabel('Bedrooms')\n",
        "plt.ylabel('Count')\n",
        "sns.despine"
      ],
      "execution_count": 139,
      "outputs": [
        {
          "output_type": "execute_result",
          "data": {
            "text/plain": [
              "<function seaborn.utils.despine>"
            ]
          },
          "metadata": {
            "tags": []
          },
          "execution_count": 139
        },
        {
          "output_type": "display_data",
          "data": {
            "image/png": "[encoded data removed]",
            "text/plain": [
              "<Figure size 432x288 with 1 Axes>"
            ]
          },
          "metadata": {
            "tags": [],
            "needs_background": "light"
          }
        }
      ]
    },
    {
      "cell_type": "code",
      "metadata": {
        "id": "B6WF8aDBg9Mp",
        "colab_type": "code",
        "colab": {
          "base_uri": "https://localhost:8080/",
          "height": 793
        },
        "outputId": "2aaf4570-651f-400d-d08b-b6d3a5772c3f"
      },
      "source": [
        "plt.figure(figsize=(10,10))\n",
        "sns.jointplot(x=housing_df.lat.values, y=housing_df.long.values, size=10)\n",
        "plt.ylabel('Longitude', fontsize=12)\n",
        "plt.xlabel('Latitude', fontsize=12)\n",
        "plt.show()\n",
        "sns.despine"
      ],
      "execution_count": 140,
      "outputs": [
        {
          "output_type": "stream",
          "text": [
            "/usr/local/lib/python3.6/dist-packages/seaborn/axisgrid.py:2264: UserWarning: The `size` parameter has been renamed to `height`; please update your code.\n",
            "  warnings.warn(msg, UserWarning)\n"
          ],
          "name": "stderr"
        },
        {
          "output_type": "display_data",
          "data": {
            "text/plain": [
              "<Figure size 720x720 with 0 Axes>"
            ]
          },
          "metadata": {
            "tags": []
          }
        },
        {
          "output_type": "display_data",
          "data": {
            "image/png": "[encoded data removed]",
            "text/plain": [
              "<Figure size 720x720 with 3 Axes>"
            ]
          },
          "metadata": {
            "tags": [],
            "needs_background": "light"
          }
        },
        {
          "output_type": "execute_result",
          "data": {
            "text/plain": [
              "<function seaborn.utils.despine>"
            ]
          },
          "metadata": {
            "tags": []
          },
          "execution_count": 140
        }
      ]
    },
    {
      "cell_type": "code",
      "metadata": {
        "id": "EQ3T7waxhDMx",
        "colab_type": "code",
        "colab": {
          "base_uri": "https://localhost:8080/",
          "height": 311
        },
        "outputId": "39509361-e5e1-4219-f4a0-a3c8ae7bac4e"
      },
      "source": [
        "plt.scatter(housing_df.sqft_living, housing_df.price)\n",
        "plt.xlabel(\"Sqft\")\n",
        "plt.ylabel(\"Price\")\n",
        "plt.title(\"Price vs Square Feet\")"
      ],
      "execution_count": 141,
      "outputs": [
        {
          "output_type": "execute_result",
          "data": {
            "text/plain": [
              "Text(0.5, 1.0, 'Price vs Square Feet')"
            ]
          },
          "metadata": {
            "tags": []
          },
          "execution_count": 141
        },
        {
          "output_type": "display_data",
          "data": {
            "image/png": "[encoded data removed]",
            "text/plain": [
              "<Figure size 432x288 with 1 Axes>"
            ]
          },
          "metadata": {
            "tags": [],
            "needs_background": "light"
          }
        }
      ]
    },
    {
      "cell_type": "code",
      "metadata": {
        "id": "hZESpZ4UhLtP",
        "colab_type": "code",
        "colab": {
          "base_uri": "https://localhost:8080/",
          "height": 311
        },
        "outputId": "531a1ac4-52c2-41b3-cde7-2fe68805add6"
      },
      "source": [
        "plt.scatter(housing_df.long, housing_df.price)\n",
        "plt.xlabel(\"Longitude\")\n",
        "plt.ylabel(\"Price\")\n",
        "plt.title(\"Price vs Square Feet\")"
      ],
      "execution_count": 142,
      "outputs": [
        {
          "output_type": "execute_result",
          "data": {
            "text/plain": [
              "Text(0.5, 1.0, 'Price vs Square Feet')"
            ]
          },
          "metadata": {
            "tags": []
          },
          "execution_count": 142
        },
        {
          "output_type": "display_data",
          "data": {
            "image/png": "[encoded data removed]",
            "text/plain": [
              "<Figure size 432x288 with 1 Axes>"
            ]
          },
          "metadata": {
            "tags": [],
            "needs_background": "light"
          }
        }
      ]
    },
    {
      "cell_type": "code",
      "metadata": {
        "id": "pZvBgInJhRgH",
        "colab_type": "code",
        "colab": {
          "base_uri": "https://localhost:8080/",
          "height": 311
        },
        "outputId": "d8919c47-93ca-434e-e2f7-8a2d99b3157c"
      },
      "source": [
        "plt.scatter(housing_df.bedrooms,housing_df.price)\n",
        "plt.title(\"Bedroom and Price \")\n",
        "plt.xlabel(\"Bedrooms\")\n",
        "plt.ylabel(\"Price\")\n",
        "plt.show()\n",
        "sns.despine"
      ],
      "execution_count": 143,
      "outputs": [
        {
          "output_type": "display_data",
          "data": {
            "image/png": "[encoded data removed]",
            "text/plain": [
              "<Figure size 432x288 with 1 Axes>"
            ]
          },
          "metadata": {
            "tags": [],
            "needs_background": "light"
          }
        },
        {
          "output_type": "execute_result",
          "data": {
            "text/plain": [
              "<function seaborn.utils.despine>"
            ]
          },
          "metadata": {
            "tags": []
          },
          "execution_count": 143
        }
      ]
    },
    {
      "cell_type": "code",
      "metadata": {
        "id": "Gay4BdCJiW3h",
        "colab_type": "code",
        "colab": {
          "base_uri": "https://localhost:8080/",
          "height": 411
        },
        "outputId": "ded6a2f8-a438-4a5a-8de9-af873cd7cb13"
      },
      "source": [
        "housing_df"
      ],
      "execution_count": 144,
      "outputs": [
        {
          "output_type": "execute_result",
          "data": {
            "text/html": [
              "<div>\n",
              "<style scoped>\n",
              "    .dataframe tbody tr th:only-of-type {\n",
              "        vertical-align: middle;\n",
              "    }\n",
              "\n",
              "    .dataframe tbody tr th {\n",
              "        vertical-align: top;\n",
              "    }\n",
              "\n",
              "    .dataframe thead th {\n",
              "        text-align: right;\n",
              "    }\n",
              "</style>\n",
              "<table border=\"1\" class=\"dataframe\">\n",
              "  <thead>\n",
              "    <tr style=\"text-align: right;\">\n",
              "      <th></th>\n",
              "      <th>id</th>\n",
              "      <th>date</th>\n",
              "      <th>price</th>\n",
              "      <th>bedrooms</th>\n",
              "      <th>bathrooms</th>\n",
              "      <th>sqft_living</th>\n",
              "      <th>sqft_lot</th>\n",
              "      <th>floors</th>\n",
              "      <th>waterfront</th>\n",
              "      <th>view</th>\n",
              "      <th>condition</th>\n",
              "      <th>grade</th>\n",
              "      <th>sqft_above</th>\n",
              "      <th>sqft_basement</th>\n",
              "      <th>yr_built</th>\n",
              "      <th>yr_renovated</th>\n",
              "      <th>zipcode</th>\n",
              "      <th>lat</th>\n",
              "      <th>long</th>\n",
              "      <th>sqft_living15</th>\n",
              "      <th>sqft_lot15</th>\n",
              "    </tr>\n",
              "  </thead>\n",
              "  <tbody>\n",
              "    <tr>\n",
              "      <th>0</th>\n",
              "      <td>7129300520</td>\n",
              "      <td>20141013T000000</td>\n",
              "      <td>221900.0</td>\n",
              "      <td>3</td>\n",
              "      <td>1.00</td>\n",
              "      <td>1180</td>\n",
              "      <td>5650</td>\n",
              "      <td>1.0</td>\n",
              "      <td>0</td>\n",
              "      <td>0</td>\n",
              "      <td>3</td>\n",
              "      <td>7</td>\n",
              "      <td>1180</td>\n",
              "      <td>0</td>\n",
              "      <td>1955</td>\n",
              "      <td>0</td>\n",
              "      <td>98178</td>\n",
              "      <td>47.5112</td>\n",
              "      <td>-122.257</td>\n",
              "      <td>1340</td>\n",
              "      <td>5650</td>\n",
              "    </tr>\n",
              "    <tr>\n",
              "      <th>1</th>\n",
              "      <td>6414100192</td>\n",
              "      <td>20141209T000000</td>\n",
              "      <td>538000.0</td>\n",
              "      <td>3</td>\n",
              "      <td>2.25</td>\n",
              "      <td>2570</td>\n",
              "      <td>7242</td>\n",
              "      <td>2.0</td>\n",
              "      <td>0</td>\n",
              "      <td>0</td>\n",
              "      <td>3</td>\n",
              "      <td>7</td>\n",
              "      <td>2170</td>\n",
              "      <td>400</td>\n",
              "      <td>1951</td>\n",
              "      <td>1991</td>\n",
              "      <td>98125</td>\n",
              "      <td>47.7210</td>\n",
              "      <td>-122.319</td>\n",
              "      <td>1690</td>\n",
              "      <td>7639</td>\n",
              "    </tr>\n",
              "    <tr>\n",
              "      <th>2</th>\n",
              "      <td>5631500400</td>\n",
              "      <td>20150225T000000</td>\n",
              "      <td>180000.0</td>\n",
              "      <td>2</td>\n",
              "      <td>1.00</td>\n",
              "      <td>770</td>\n",
              "      <td>10000</td>\n",
              "      <td>1.0</td>\n",
              "      <td>0</td>\n",
              "      <td>0</td>\n",
              "      <td>3</td>\n",
              "      <td>6</td>\n",
              "      <td>770</td>\n",
              "      <td>0</td>\n",
              "      <td>1933</td>\n",
              "      <td>0</td>\n",
              "      <td>98028</td>\n",
              "      <td>47.7379</td>\n",
              "      <td>-122.233</td>\n",
              "      <td>2720</td>\n",
              "      <td>8062</td>\n",
              "    </tr>\n",
              "    <tr>\n",
              "      <th>3</th>\n",
              "      <td>2487200875</td>\n",
              "      <td>20141209T000000</td>\n",
              "      <td>604000.0</td>\n",
              "      <td>4</td>\n",
              "      <td>3.00</td>\n",
              "      <td>1960</td>\n",
              "      <td>5000</td>\n",
              "      <td>1.0</td>\n",
              "      <td>0</td>\n",
              "      <td>0</td>\n",
              "      <td>5</td>\n",
              "      <td>7</td>\n",
              "      <td>1050</td>\n",
              "      <td>910</td>\n",
              "      <td>1965</td>\n",
              "      <td>0</td>\n",
              "      <td>98136</td>\n",
              "      <td>47.5208</td>\n",
              "      <td>-122.393</td>\n",
              "      <td>1360</td>\n",
              "      <td>5000</td>\n",
              "    </tr>\n",
              "    <tr>\n",
              "      <th>4</th>\n",
              "      <td>1954400510</td>\n",
              "      <td>20150218T000000</td>\n",
              "      <td>510000.0</td>\n",
              "      <td>3</td>\n",
              "      <td>2.00</td>\n",
              "      <td>1680</td>\n",
              "      <td>8080</td>\n",
              "      <td>1.0</td>\n",
              "      <td>0</td>\n",
              "      <td>0</td>\n",
              "      <td>3</td>\n",
              "      <td>8</td>\n",
              "      <td>1680</td>\n",
              "      <td>0</td>\n",
              "      <td>1987</td>\n",
              "      <td>0</td>\n",
              "      <td>98074</td>\n",
              "      <td>47.6168</td>\n",
              "      <td>-122.045</td>\n",
              "      <td>1800</td>\n",
              "      <td>7503</td>\n",
              "    </tr>\n",
              "    <tr>\n",
              "      <th>...</th>\n",
              "      <td>...</td>\n",
              "      <td>...</td>\n",
              "      <td>...</td>\n",
              "      <td>...</td>\n",
              "      <td>...</td>\n",
              "      <td>...</td>\n",
              "      <td>...</td>\n",
              "      <td>...</td>\n",
              "      <td>...</td>\n",
              "      <td>...</td>\n",
              "      <td>...</td>\n",
              "      <td>...</td>\n",
              "      <td>...</td>\n",
              "      <td>...</td>\n",
              "      <td>...</td>\n",
              "      <td>...</td>\n",
              "      <td>...</td>\n",
              "      <td>...</td>\n",
              "      <td>...</td>\n",
              "      <td>...</td>\n",
              "      <td>...</td>\n",
              "    </tr>\n",
              "    <tr>\n",
              "      <th>21608</th>\n",
              "      <td>263000018</td>\n",
              "      <td>20140521T000000</td>\n",
              "      <td>360000.0</td>\n",
              "      <td>3</td>\n",
              "      <td>2.50</td>\n",
              "      <td>1530</td>\n",
              "      <td>1131</td>\n",
              "      <td>3.0</td>\n",
              "      <td>0</td>\n",
              "      <td>0</td>\n",
              "      <td>3</td>\n",
              "      <td>8</td>\n",
              "      <td>1530</td>\n",
              "      <td>0</td>\n",
              "      <td>2009</td>\n",
              "      <td>0</td>\n",
              "      <td>98103</td>\n",
              "      <td>47.6993</td>\n",
              "      <td>-122.346</td>\n",
              "      <td>1530</td>\n",
              "      <td>1509</td>\n",
              "    </tr>\n",
              "    <tr>\n",
              "      <th>21609</th>\n",
              "      <td>6600060120</td>\n",
              "      <td>20150223T000000</td>\n",
              "      <td>400000.0</td>\n",
              "      <td>4</td>\n",
              "      <td>2.50</td>\n",
              "      <td>2310</td>\n",
              "      <td>5813</td>\n",
              "      <td>2.0</td>\n",
              "      <td>0</td>\n",
              "      <td>0</td>\n",
              "      <td>3</td>\n",
              "      <td>8</td>\n",
              "      <td>2310</td>\n",
              "      <td>0</td>\n",
              "      <td>2014</td>\n",
              "      <td>0</td>\n",
              "      <td>98146</td>\n",
              "      <td>47.5107</td>\n",
              "      <td>-122.362</td>\n",
              "      <td>1830</td>\n",
              "      <td>7200</td>\n",
              "    </tr>\n",
              "    <tr>\n",
              "      <th>21610</th>\n",
              "      <td>1523300141</td>\n",
              "      <td>20140623T000000</td>\n",
              "      <td>402101.0</td>\n",
              "      <td>2</td>\n",
              "      <td>0.75</td>\n",
              "      <td>1020</td>\n",
              "      <td>1350</td>\n",
              "      <td>2.0</td>\n",
              "      <td>0</td>\n",
              "      <td>0</td>\n",
              "      <td>3</td>\n",
              "      <td>7</td>\n",
              "      <td>1020</td>\n",
              "      <td>0</td>\n",
              "      <td>2009</td>\n",
              "      <td>0</td>\n",
              "      <td>98144</td>\n",
              "      <td>47.5944</td>\n",
              "      <td>-122.299</td>\n",
              "      <td>1020</td>\n",
              "      <td>2007</td>\n",
              "    </tr>\n",
              "    <tr>\n",
              "      <th>21611</th>\n",
              "      <td>291310100</td>\n",
              "      <td>20150116T000000</td>\n",
              "      <td>400000.0</td>\n",
              "      <td>3</td>\n",
              "      <td>2.50</td>\n",
              "      <td>1600</td>\n",
              "      <td>2388</td>\n",
              "      <td>2.0</td>\n",
              "      <td>0</td>\n",
              "      <td>0</td>\n",
              "      <td>3</td>\n",
              "      <td>8</td>\n",
              "      <td>1600</td>\n",
              "      <td>0</td>\n",
              "      <td>2004</td>\n",
              "      <td>0</td>\n",
              "      <td>98027</td>\n",
              "      <td>47.5345</td>\n",
              "      <td>-122.069</td>\n",
              "      <td>1410</td>\n",
              "      <td>1287</td>\n",
              "    </tr>\n",
              "    <tr>\n",
              "      <th>21612</th>\n",
              "      <td>1523300157</td>\n",
              "      <td>20141015T000000</td>\n",
              "      <td>325000.0</td>\n",
              "      <td>2</td>\n",
              "      <td>0.75</td>\n",
              "      <td>1020</td>\n",
              "      <td>1076</td>\n",
              "      <td>2.0</td>\n",
              "      <td>0</td>\n",
              "      <td>0</td>\n",
              "      <td>3</td>\n",
              "      <td>7</td>\n",
              "      <td>1020</td>\n",
              "      <td>0</td>\n",
              "      <td>2008</td>\n",
              "      <td>0</td>\n",
              "      <td>98144</td>\n",
              "      <td>47.5941</td>\n",
              "      <td>-122.299</td>\n",
              "      <td>1020</td>\n",
              "      <td>1357</td>\n",
              "    </tr>\n",
              "  </tbody>\n",
              "</table>\n",
              "<p>21613 rows × 21 columns</p>\n",
              "</div>"
            ],
            "text/plain": [
              "               id             date  ...  sqft_living15  sqft_lot15\n",
              "0      7129300520  20141013T000000  ...           1340        5650\n",
              "1      6414100192  20141209T000000  ...           1690        7639\n",
              "2      5631500400  20150225T000000  ...           2720        8062\n",
              "3      2487200875  20141209T000000  ...           1360        5000\n",
              "4      1954400510  20150218T000000  ...           1800        7503\n",
              "...           ...              ...  ...            ...         ...\n",
              "21608   263000018  20140521T000000  ...           1530        1509\n",
              "21609  6600060120  20150223T000000  ...           1830        7200\n",
              "21610  1523300141  20140623T000000  ...           1020        2007\n",
              "21611   291310100  20150116T000000  ...           1410        1287\n",
              "21612  1523300157  20141015T000000  ...           1020        1357\n",
              "\n",
              "[21613 rows x 21 columns]"
            ]
          },
          "metadata": {
            "tags": []
          },
          "execution_count": 144
        }
      ]
    },
    {
      "cell_type": "markdown",
      "metadata": {
        "id": "Mdp9__jDip_Q",
        "colab_type": "text"
      },
      "source": [
        "### Splitting dataset between Training and Testing"
      ]
    },
    {
      "cell_type": "code",
      "metadata": {
        "id": "1_OLJ8Hpi6Nk",
        "colab_type": "code",
        "colab": {
          "base_uri": "https://localhost:8080/",
          "height": 358
        },
        "outputId": "c288a401-d109-4555-82eb-027d3bbec2bb"
      },
      "source": [
        "list(housing_df.columns)"
      ],
      "execution_count": 145,
      "outputs": [
        {
          "output_type": "execute_result",
          "data": {
            "text/plain": [
              "['id',\n",
              " 'date',\n",
              " 'price',\n",
              " 'bedrooms',\n",
              " 'bathrooms',\n",
              " 'sqft_living',\n",
              " 'sqft_lot',\n",
              " 'floors',\n",
              " 'waterfront',\n",
              " 'view',\n",
              " 'condition',\n",
              " 'grade',\n",
              " 'sqft_above',\n",
              " 'sqft_basement',\n",
              " 'yr_built',\n",
              " 'yr_renovated',\n",
              " 'zipcode',\n",
              " 'lat',\n",
              " 'long',\n",
              " 'sqft_living15',\n",
              " 'sqft_lot15']"
            ]
          },
          "metadata": {
            "tags": []
          },
          "execution_count": 145
        }
      ]
    },
    {
      "cell_type": "code",
      "metadata": {
        "id": "1prv3LXYjDeF",
        "colab_type": "code",
        "colab": {}
      },
      "source": [
        "X_cols_housing = [\n",
        " 'bedrooms',\n",
        " 'bathrooms',\n",
        " 'sqft_living',\n",
        " 'sqft_lot',\n",
        " 'floors',\n",
        " 'waterfront',\n",
        " 'view',\n",
        " 'condition',\n",
        " 'grade',\n",
        " 'sqft_above',\n",
        " 'sqft_basement',\n",
        " 'yr_built',\n",
        " 'yr_renovated',\n",
        " 'zipcode',\n",
        " 'lat',\n",
        " 'long',\n",
        " 'sqft_living15',\n",
        " 'sqft_lot15']"
      ],
      "execution_count": 146,
      "outputs": []
    },
    {
      "cell_type": "code",
      "metadata": {
        "id": "Uo3DevxPjQqC",
        "colab_type": "code",
        "colab": {}
      },
      "source": [
        "target_housing = ['price']"
      ],
      "execution_count": 147,
      "outputs": []
    },
    {
      "cell_type": "code",
      "metadata": {
        "id": "87OCSq9Ai51n",
        "colab_type": "code",
        "colab": {}
      },
      "source": [
        "X_housing = housing_df[X_cols_housing]\n",
        "y_housing = housing_df[target_housing]\n"
      ],
      "execution_count": 148,
      "outputs": []
    },
    {
      "cell_type": "code",
      "metadata": {
        "id": "KfzCJFzYjiAv",
        "colab_type": "code",
        "colab": {
          "base_uri": "https://localhost:8080/",
          "height": 411
        },
        "outputId": "059915aa-a7d5-43d0-fabc-f267a7286df3"
      },
      "source": [
        "X_housing"
      ],
      "execution_count": 149,
      "outputs": [
        {
          "output_type": "execute_result",
          "data": {
            "text/html": [
              "<div>\n",
              "<style scoped>\n",
              "    .dataframe tbody tr th:only-of-type {\n",
              "        vertical-align: middle;\n",
              "    }\n",
              "\n",
              "    .dataframe tbody tr th {\n",
              "        vertical-align: top;\n",
              "    }\n",
              "\n",
              "    .dataframe thead th {\n",
              "        text-align: right;\n",
              "    }\n",
              "</style>\n",
              "<table border=\"1\" class=\"dataframe\">\n",
              "  <thead>\n",
              "    <tr style=\"text-align: right;\">\n",
              "      <th></th>\n",
              "      <th>bedrooms</th>\n",
              "      <th>bathrooms</th>\n",
              "      <th>sqft_living</th>\n",
              "      <th>sqft_lot</th>\n",
              "      <th>floors</th>\n",
              "      <th>waterfront</th>\n",
              "      <th>view</th>\n",
              "      <th>condition</th>\n",
              "      <th>grade</th>\n",
              "      <th>sqft_above</th>\n",
              "      <th>sqft_basement</th>\n",
              "      <th>yr_built</th>\n",
              "      <th>yr_renovated</th>\n",
              "      <th>zipcode</th>\n",
              "      <th>lat</th>\n",
              "      <th>long</th>\n",
              "      <th>sqft_living15</th>\n",
              "      <th>sqft_lot15</th>\n",
              "    </tr>\n",
              "  </thead>\n",
              "  <tbody>\n",
              "    <tr>\n",
              "      <th>0</th>\n",
              "      <td>3</td>\n",
              "      <td>1.00</td>\n",
              "      <td>1180</td>\n",
              "      <td>5650</td>\n",
              "      <td>1.0</td>\n",
              "      <td>0</td>\n",
              "      <td>0</td>\n",
              "      <td>3</td>\n",
              "      <td>7</td>\n",
              "      <td>1180</td>\n",
              "      <td>0</td>\n",
              "      <td>1955</td>\n",
              "      <td>0</td>\n",
              "      <td>98178</td>\n",
              "      <td>47.5112</td>\n",
              "      <td>-122.257</td>\n",
              "      <td>1340</td>\n",
              "      <td>5650</td>\n",
              "    </tr>\n",
              "    <tr>\n",
              "      <th>1</th>\n",
              "      <td>3</td>\n",
              "      <td>2.25</td>\n",
              "      <td>2570</td>\n",
              "      <td>7242</td>\n",
              "      <td>2.0</td>\n",
              "      <td>0</td>\n",
              "      <td>0</td>\n",
              "      <td>3</td>\n",
              "      <td>7</td>\n",
              "      <td>2170</td>\n",
              "      <td>400</td>\n",
              "      <td>1951</td>\n",
              "      <td>1991</td>\n",
              "      <td>98125</td>\n",
              "      <td>47.7210</td>\n",
              "      <td>-122.319</td>\n",
              "      <td>1690</td>\n",
              "      <td>7639</td>\n",
              "    </tr>\n",
              "    <tr>\n",
              "      <th>2</th>\n",
              "      <td>2</td>\n",
              "      <td>1.00</td>\n",
              "      <td>770</td>\n",
              "      <td>10000</td>\n",
              "      <td>1.0</td>\n",
              "      <td>0</td>\n",
              "      <td>0</td>\n",
              "      <td>3</td>\n",
              "      <td>6</td>\n",
              "      <td>770</td>\n",
              "      <td>0</td>\n",
              "      <td>1933</td>\n",
              "      <td>0</td>\n",
              "      <td>98028</td>\n",
              "      <td>47.7379</td>\n",
              "      <td>-122.233</td>\n",
              "      <td>2720</td>\n",
              "      <td>8062</td>\n",
              "    </tr>\n",
              "    <tr>\n",
              "      <th>3</th>\n",
              "      <td>4</td>\n",
              "      <td>3.00</td>\n",
              "      <td>1960</td>\n",
              "      <td>5000</td>\n",
              "      <td>1.0</td>\n",
              "      <td>0</td>\n",
              "      <td>0</td>\n",
              "      <td>5</td>\n",
              "      <td>7</td>\n",
              "      <td>1050</td>\n",
              "      <td>910</td>\n",
              "      <td>1965</td>\n",
              "      <td>0</td>\n",
              "      <td>98136</td>\n",
              "      <td>47.5208</td>\n",
              "      <td>-122.393</td>\n",
              "      <td>1360</td>\n",
              "      <td>5000</td>\n",
              "    </tr>\n",
              "    <tr>\n",
              "      <th>4</th>\n",
              "      <td>3</td>\n",
              "      <td>2.00</td>\n",
              "      <td>1680</td>\n",
              "      <td>8080</td>\n",
              "      <td>1.0</td>\n",
              "      <td>0</td>\n",
              "      <td>0</td>\n",
              "      <td>3</td>\n",
              "      <td>8</td>\n",
              "      <td>1680</td>\n",
              "      <td>0</td>\n",
              "      <td>1987</td>\n",
              "      <td>0</td>\n",
              "      <td>98074</td>\n",
              "      <td>47.6168</td>\n",
              "      <td>-122.045</td>\n",
              "      <td>1800</td>\n",
              "      <td>7503</td>\n",
              "    </tr>\n",
              "    <tr>\n",
              "      <th>...</th>\n",
              "      <td>...</td>\n",
              "      <td>...</td>\n",
              "      <td>...</td>\n",
              "      <td>...</td>\n",
              "      <td>...</td>\n",
              "      <td>...</td>\n",
              "      <td>...</td>\n",
              "      <td>...</td>\n",
              "      <td>...</td>\n",
              "      <td>...</td>\n",
              "      <td>...</td>\n",
              "      <td>...</td>\n",
              "      <td>...</td>\n",
              "      <td>...</td>\n",
              "      <td>...</td>\n",
              "      <td>...</td>\n",
              "      <td>...</td>\n",
              "      <td>...</td>\n",
              "    </tr>\n",
              "    <tr>\n",
              "      <th>21608</th>\n",
              "      <td>3</td>\n",
              "      <td>2.50</td>\n",
              "      <td>1530</td>\n",
              "      <td>1131</td>\n",
              "      <td>3.0</td>\n",
              "      <td>0</td>\n",
              "      <td>0</td>\n",
              "      <td>3</td>\n",
              "      <td>8</td>\n",
              "      <td>1530</td>\n",
              "      <td>0</td>\n",
              "      <td>2009</td>\n",
              "      <td>0</td>\n",
              "      <td>98103</td>\n",
              "      <td>47.6993</td>\n",
              "      <td>-122.346</td>\n",
              "      <td>1530</td>\n",
              "      <td>1509</td>\n",
              "    </tr>\n",
              "    <tr>\n",
              "      <th>21609</th>\n",
              "      <td>4</td>\n",
              "      <td>2.50</td>\n",
              "      <td>2310</td>\n",
              "      <td>5813</td>\n",
              "      <td>2.0</td>\n",
              "      <td>0</td>\n",
              "      <td>0</td>\n",
              "      <td>3</td>\n",
              "      <td>8</td>\n",
              "      <td>2310</td>\n",
              "      <td>0</td>\n",
              "      <td>2014</td>\n",
              "      <td>0</td>\n",
              "      <td>98146</td>\n",
              "      <td>47.5107</td>\n",
              "      <td>-122.362</td>\n",
              "      <td>1830</td>\n",
              "      <td>7200</td>\n",
              "    </tr>\n",
              "    <tr>\n",
              "      <th>21610</th>\n",
              "      <td>2</td>\n",
              "      <td>0.75</td>\n",
              "      <td>1020</td>\n",
              "      <td>1350</td>\n",
              "      <td>2.0</td>\n",
              "      <td>0</td>\n",
              "      <td>0</td>\n",
              "      <td>3</td>\n",
              "      <td>7</td>\n",
              "      <td>1020</td>\n",
              "      <td>0</td>\n",
              "      <td>2009</td>\n",
              "      <td>0</td>\n",
              "      <td>98144</td>\n",
              "      <td>47.5944</td>\n",
              "      <td>-122.299</td>\n",
              "      <td>1020</td>\n",
              "      <td>2007</td>\n",
              "    </tr>\n",
              "    <tr>\n",
              "      <th>21611</th>\n",
              "      <td>3</td>\n",
              "      <td>2.50</td>\n",
              "      <td>1600</td>\n",
              "      <td>2388</td>\n",
              "      <td>2.0</td>\n",
              "      <td>0</td>\n",
              "      <td>0</td>\n",
              "      <td>3</td>\n",
              "      <td>8</td>\n",
              "      <td>1600</td>\n",
              "      <td>0</td>\n",
              "      <td>2004</td>\n",
              "      <td>0</td>\n",
              "      <td>98027</td>\n",
              "      <td>47.5345</td>\n",
              "      <td>-122.069</td>\n",
              "      <td>1410</td>\n",
              "      <td>1287</td>\n",
              "    </tr>\n",
              "    <tr>\n",
              "      <th>21612</th>\n",
              "      <td>2</td>\n",
              "      <td>0.75</td>\n",
              "      <td>1020</td>\n",
              "      <td>1076</td>\n",
              "      <td>2.0</td>\n",
              "      <td>0</td>\n",
              "      <td>0</td>\n",
              "      <td>3</td>\n",
              "      <td>7</td>\n",
              "      <td>1020</td>\n",
              "      <td>0</td>\n",
              "      <td>2008</td>\n",
              "      <td>0</td>\n",
              "      <td>98144</td>\n",
              "      <td>47.5941</td>\n",
              "      <td>-122.299</td>\n",
              "      <td>1020</td>\n",
              "      <td>1357</td>\n",
              "    </tr>\n",
              "  </tbody>\n",
              "</table>\n",
              "<p>21613 rows × 18 columns</p>\n",
              "</div>"
            ],
            "text/plain": [
              "       bedrooms  bathrooms  sqft_living  ...     long  sqft_living15  sqft_lot15\n",
              "0             3       1.00         1180  ... -122.257           1340        5650\n",
              "1             3       2.25         2570  ... -122.319           1690        7639\n",
              "2             2       1.00          770  ... -122.233           2720        8062\n",
              "3             4       3.00         1960  ... -122.393           1360        5000\n",
              "4             3       2.00         1680  ... -122.045           1800        7503\n",
              "...         ...        ...          ...  ...      ...            ...         ...\n",
              "21608         3       2.50         1530  ... -122.346           1530        1509\n",
              "21609         4       2.50         2310  ... -122.362           1830        7200\n",
              "21610         2       0.75         1020  ... -122.299           1020        2007\n",
              "21611         3       2.50         1600  ... -122.069           1410        1287\n",
              "21612         2       0.75         1020  ... -122.299           1020        1357\n",
              "\n",
              "[21613 rows x 18 columns]"
            ]
          },
          "metadata": {
            "tags": []
          },
          "execution_count": 149
        }
      ]
    },
    {
      "cell_type": "code",
      "metadata": {
        "id": "REhJX1YMjjdW",
        "colab_type": "code",
        "colab": {
          "base_uri": "https://localhost:8080/",
          "height": 391
        },
        "outputId": "5d178af8-beeb-44d4-e831-ff1231a6bd75"
      },
      "source": [
        "y_housing"
      ],
      "execution_count": 150,
      "outputs": [
        {
          "output_type": "execute_result",
          "data": {
            "text/html": [
              "<div>\n",
              "<style scoped>\n",
              "    .dataframe tbody tr th:only-of-type {\n",
              "        vertical-align: middle;\n",
              "    }\n",
              "\n",
              "    .dataframe tbody tr th {\n",
              "        vertical-align: top;\n",
              "    }\n",
              "\n",
              "    .dataframe thead th {\n",
              "        text-align: right;\n",
              "    }\n",
              "</style>\n",
              "<table border=\"1\" class=\"dataframe\">\n",
              "  <thead>\n",
              "    <tr style=\"text-align: right;\">\n",
              "      <th></th>\n",
              "      <th>price</th>\n",
              "    </tr>\n",
              "  </thead>\n",
              "  <tbody>\n",
              "    <tr>\n",
              "      <th>0</th>\n",
              "      <td>221900.0</td>\n",
              "    </tr>\n",
              "    <tr>\n",
              "      <th>1</th>\n",
              "      <td>538000.0</td>\n",
              "    </tr>\n",
              "    <tr>\n",
              "      <th>2</th>\n",
              "      <td>180000.0</td>\n",
              "    </tr>\n",
              "    <tr>\n",
              "      <th>3</th>\n",
              "      <td>604000.0</td>\n",
              "    </tr>\n",
              "    <tr>\n",
              "      <th>4</th>\n",
              "      <td>510000.0</td>\n",
              "    </tr>\n",
              "    <tr>\n",
              "      <th>...</th>\n",
              "      <td>...</td>\n",
              "    </tr>\n",
              "    <tr>\n",
              "      <th>21608</th>\n",
              "      <td>360000.0</td>\n",
              "    </tr>\n",
              "    <tr>\n",
              "      <th>21609</th>\n",
              "      <td>400000.0</td>\n",
              "    </tr>\n",
              "    <tr>\n",
              "      <th>21610</th>\n",
              "      <td>402101.0</td>\n",
              "    </tr>\n",
              "    <tr>\n",
              "      <th>21611</th>\n",
              "      <td>400000.0</td>\n",
              "    </tr>\n",
              "    <tr>\n",
              "      <th>21612</th>\n",
              "      <td>325000.0</td>\n",
              "    </tr>\n",
              "  </tbody>\n",
              "</table>\n",
              "<p>21613 rows × 1 columns</p>\n",
              "</div>"
            ],
            "text/plain": [
              "          price\n",
              "0      221900.0\n",
              "1      538000.0\n",
              "2      180000.0\n",
              "3      604000.0\n",
              "4      510000.0\n",
              "...         ...\n",
              "21608  360000.0\n",
              "21609  400000.0\n",
              "21610  402101.0\n",
              "21611  400000.0\n",
              "21612  325000.0\n",
              "\n",
              "[21613 rows x 1 columns]"
            ]
          },
          "metadata": {
            "tags": []
          },
          "execution_count": 150
        }
      ]
    },
    {
      "cell_type": "code",
      "metadata": {
        "id": "pA7Mf85ph5ek",
        "colab_type": "code",
        "colab": {
          "base_uri": "https://localhost:8080/",
          "height": 927
        },
        "outputId": "34ec02c8-d124-4eab-db0e-7d811aa0b41d"
      },
      "source": [
        "from sklearn.model_selection import train_test_split\n",
        "\n",
        "X_train_housing, X_test_housing, y_train_housing, y_test_housing = train_test_split(X_housing, y_housing, test_size=0.20, random_state=41)\n",
        "X_train_housing, X_test_housing, y_train_housing, y_test_housing "
      ],
      "execution_count": 151,
      "outputs": [
        {
          "output_type": "execute_result",
          "data": {
            "text/plain": [
              "(       bedrooms  bathrooms  sqft_living  ...     long  sqft_living15  sqft_lot15\n",
              " 3257          4       3.75         2930  ... -122.359           1900        4320\n",
              " 1365          4       1.75         1960  ... -121.772           1500        9752\n",
              " 17139         4       2.50         2750  ... -121.972           2500       14564\n",
              " 6651          2       1.00          770  ... -122.087           1150        5330\n",
              " 15685         3       1.00         1010  ... -122.144           1510        9600\n",
              " ...         ...        ...          ...  ...      ...            ...         ...\n",
              " 8513          4       1.75         2160  ... -122.382           2350        8200\n",
              " 21584         3       2.50         1260  ... -122.384           1310        1415\n",
              " 20450         4       2.50         2650  ... -122.018           2640        5099\n",
              " 931           5       2.50         2520  ... -122.199           2030        8580\n",
              " 1984          3       1.00         1990  ... -122.213           1320        7245\n",
              " \n",
              " [17290 rows x 18 columns],\n",
              "        bedrooms  bathrooms  sqft_living  ...     long  sqft_living15  sqft_lot15\n",
              " 16211         4       3.00         1530  ... -122.146           1930        6925\n",
              " 11971         4       3.00         2500  ... -122.168           2700        7200\n",
              " 14532         3       2.25         1920  ... -122.201           1940        7274\n",
              " 12896         2       1.00         1160  ... -121.916           1110        7500\n",
              " 3950          4       1.75         2410  ... -122.088           2520       14789\n",
              " ...         ...        ...          ...  ...      ...            ...         ...\n",
              " 16760         4       2.25         2100  ... -122.171           1780        7350\n",
              " 14721         3       1.00          910  ... -122.352           1650       10442\n",
              " 14513         6       4.50         5480  ... -122.367           2970        7200\n",
              " 19538         3       1.50         1690  ... -122.253           1840       10600\n",
              " 13461         3       2.00         2290  ... -122.100           2750       11700\n",
              " \n",
              " [4323 rows x 18 columns],\n",
              "            price\n",
              " 3257   1100000.0\n",
              " 1365    372000.0\n",
              " 17139   535000.0\n",
              " 6651    176000.0\n",
              " 15685   265000.0\n",
              " ...          ...\n",
              " 8513    355000.0\n",
              " 21584   380000.0\n",
              " 20450   731500.0\n",
              " 931     545000.0\n",
              " 1984    310000.0\n",
              " \n",
              " [17290 rows x 1 columns],\n",
              "            price\n",
              " 16211   260000.0\n",
              " 11971   395000.0\n",
              " 14532   443000.0\n",
              " 12896   312000.0\n",
              " 3950    550000.0\n",
              " ...          ...\n",
              " 16760   465000.0\n",
              " 14721   244000.0\n",
              " 14513  2400000.0\n",
              " 19538   379950.0\n",
              " 13461   565000.0\n",
              " \n",
              " [4323 rows x 1 columns])"
            ]
          },
          "metadata": {
            "tags": []
          },
          "execution_count": 151
        }
      ]
    },
    {
      "cell_type": "code",
      "metadata": {
        "id": "BoTroSHzjrSm",
        "colab_type": "code",
        "colab": {
          "base_uri": "https://localhost:8080/",
          "height": 33
        },
        "outputId": "7936561f-62f6-4a6c-fce3-ee5e8230dfe9"
      },
      "source": [
        "len(X_housing), len(X_train_housing), len(X_test_housing)"
      ],
      "execution_count": 152,
      "outputs": [
        {
          "output_type": "execute_result",
          "data": {
            "text/plain": [
              "(21613, 17290, 4323)"
            ]
          },
          "metadata": {
            "tags": []
          },
          "execution_count": 152
        }
      ]
    },
    {
      "cell_type": "markdown",
      "metadata": {
        "id": "bsJurs4skolH",
        "colab_type": "text"
      },
      "source": [
        "### Scaling the data\n",
        "\n",
        "One should first split between train and test and then fit the scaler only on the training set and then use the same transform and apply it to the test data. \n",
        "\n",
        "If the scaler is used on the full dataset before it is split into training and testing groups you are influencing the distribution of the dataset, meaning you can influence how you detect and process outliers, as well as how you parametrize your model. Even if the data itself is not modified, the distribution would be. This would cause the performance of the test set not to be a true estimate of the performance of unseen data. "
      ]
    },
    {
      "cell_type": "code",
      "metadata": {
        "id": "GcMQyHUaj2PE",
        "colab_type": "code",
        "colab": {}
      },
      "source": [
        "scaler = StandardScaler()"
      ],
      "execution_count": 188,
      "outputs": []
    },
    {
      "cell_type": "code",
      "metadata": {
        "id": "zbEhWuiElKxs",
        "colab_type": "code",
        "colab": {}
      },
      "source": [
        "training_set = X_train_housing.copy(deep=True)\n",
        "training_set['price']= y_train_housing\n",
        "\n",
        "\n",
        "test_set = X_test_housing.copy(deep=True)\n",
        "test_set['price']= y_test_housing"
      ],
      "execution_count": 210,
      "outputs": []
    },
    {
      "cell_type": "code",
      "metadata": {
        "id": "lNeuDdJjlVI7",
        "colab_type": "code",
        "colab": {
          "base_uri": "https://localhost:8080/",
          "height": 33
        },
        "outputId": "d1e61761-bb59-41bc-dacb-bc89fd206e0d"
      },
      "source": [
        "scaler.fit(training_set)"
      ],
      "execution_count": 211,
      "outputs": [
        {
          "output_type": "execute_result",
          "data": {
            "text/plain": [
              "StandardScaler(copy=True, with_mean=True, with_std=True)"
            ]
          },
          "metadata": {
            "tags": []
          },
          "execution_count": 211
        }
      ]
    },
    {
      "cell_type": "code",
      "metadata": {
        "id": "QKB_vL5bnCKi",
        "colab_type": "code",
        "colab": {}
      },
      "source": [
        "training_set_scaled = scaler.transform(training_set)\n",
        "test_set_scaled = scaler.transform(test_set)"
      ],
      "execution_count": 212,
      "outputs": []
    },
    {
      "cell_type": "code",
      "metadata": {
        "id": "iZ4JlPzhnH1i",
        "colab_type": "code",
        "colab": {}
      },
      "source": [
        "training_set_scaled_df = pd.DataFrame(training_set_scaled, index=training_set.index, columns=training_set.columns)\n",
        "test_set_scaled_df = pd.DataFrame(test_set_scaled, index=test_set.index, columns=test_set.columns)"
      ],
      "execution_count": 213,
      "outputs": []
    },
    {
      "cell_type": "code",
      "metadata": {
        "id": "-vpG6bGglXmy",
        "colab_type": "code",
        "colab": {}
      },
      "source": [
        "X_train_housing_scaled_df = training_set_scaled_df[X_cols_housing]\n",
        "y_train_housing_scaled_df = training_set_scaled_df[target_housing]\n",
        "\n",
        "X_train_housing_scaled_np = np.array(X_train_housing_scaled_df)\n",
        "y_train_housing_scaled_np = np.array(y_train_housing_scaled_df)\n",
        "\n",
        "\n",
        "X_test_housing_scaled_df = test_set_scaled_df[X_cols_housing]\n",
        "y_test_housing_scaled_df = test_set_scaled_df[target_housing]\n",
        "\n",
        "X_test_housing_scaled_np = np.array(X_test_housing_scaled_df)\n",
        "y_test_housing_scaled_np = np.array(y_test_housing_scaled_df)"
      ],
      "execution_count": 214,
      "outputs": []
    },
    {
      "cell_type": "code",
      "metadata": {
        "id": "_T9Vnr9tn4sJ",
        "colab_type": "code",
        "colab": {}
      },
      "source": [
        "num_features = len(X_train_housing_scaled_df.columns)"
      ],
      "execution_count": 215,
      "outputs": []
    },
    {
      "cell_type": "code",
      "metadata": {
        "id": "RIkpoM_PoWMt",
        "colab_type": "code",
        "colab": {}
      },
      "source": [
        "training_set_size = len(X_train_housing_scaled_df)"
      ],
      "execution_count": 216,
      "outputs": []
    },
    {
      "cell_type": "markdown",
      "metadata": {
        "id": "o7XVc4FUop43",
        "colab_type": "text"
      },
      "source": [
        "### Gradient descent"
      ]
    },
    {
      "cell_type": "markdown",
      "metadata": {
        "id": "rrve3qyIoono",
        "colab_type": "text"
      },
      "source": [
        "**1. We initialize `w` to be a vector of zeros and `b` to be a vector of `1`s**\n",
        "\n",
        "* NOTE: Actually, because our data is already scaled and centered at zero, we will ignore the bias term by adding \"zeros\" because otherwise the RMSE asymptotes at 1. "
      ]
    },
    {
      "cell_type": "code",
      "metadata": {
        "id": "gfmUm6HKlkJZ",
        "colab_type": "code",
        "colab": {}
      },
      "source": [
        "w_init_grad_desc = np.zeros((num_features,1))\n",
        "b = np.zeros((training_set_size,1))\n",
        "alpha = 0.001\n",
        "N = training_set_size\n",
        "rmses_gd = []"
      ],
      "execution_count": 232,
      "outputs": []
    },
    {
      "cell_type": "markdown",
      "metadata": {
        "id": "7z7dqSh3okLr",
        "colab_type": "text"
      },
      "source": [
        "**2. We obtain `y_gd_pred_scaled_np`, where `gd` stands for \"gradient descent\" by `y_gd_pred_scaled_np`= `X_train_scaled_np` $\\cdot$ `w_init_grad_desc` + `b`**"
      ]
    },
    {
      "cell_type": "code",
      "metadata": {
        "id": "qhKgA4fSmNEF",
        "colab_type": "code",
        "colab": {
          "base_uri": "https://localhost:8080/",
          "height": 131
        },
        "outputId": "e9ba0e2e-273b-4110-9d82-0242b6fcdf92"
      },
      "source": [
        "y_gd_pred_train_scaled_np = np.dot(X_train_housing_scaled_np, w_init_grad_desc) + b\n",
        "y_gd_pred_train_scaled_np"
      ],
      "execution_count": 233,
      "outputs": [
        {
          "output_type": "execute_result",
          "data": {
            "text/plain": [
              "array([[0.],\n",
              "       [0.],\n",
              "       [0.],\n",
              "       ...,\n",
              "       [0.],\n",
              "       [0.],\n",
              "       [0.]])"
            ]
          },
          "metadata": {
            "tags": []
          },
          "execution_count": 233
        }
      ]
    },
    {
      "cell_type": "code",
      "metadata": {
        "id": "TnOsukJdot4K",
        "colab_type": "code",
        "colab": {
          "base_uri": "https://localhost:8080/",
          "height": 281
        },
        "outputId": "19333b3e-1a2a-466e-a375-d63f9eaf1b3f"
      },
      "source": [
        "plt.plot(y_gd_pred_train_scaled_np)"
      ],
      "execution_count": 234,
      "outputs": [
        {
          "output_type": "execute_result",
          "data": {
            "text/plain": [
              "[<matplotlib.lines.Line2D at 0x7efdc8f955c0>]"
            ]
          },
          "metadata": {
            "tags": []
          },
          "execution_count": 234
        },
        {
          "output_type": "display_data",
          "data": {
            "image/png": "[encoded data removed]",
            "text/plain": [
              "<Figure size 432x288 with 1 Axes>"
            ]
          },
          "metadata": {
            "tags": [],
            "needs_background": "light"
          }
        }
      ]
    },
    {
      "cell_type": "code",
      "metadata": {
        "id": "jZ4ZTJe3pBME",
        "colab_type": "code",
        "colab": {
          "base_uri": "https://localhost:8080/",
          "height": 33
        },
        "outputId": "c812f41e-524a-46d3-bf21-56702610cb5c"
      },
      "source": [
        "rmse(y_gd_pred_train_scaled_np, y_train_housing_scaled_np)"
      ],
      "execution_count": 235,
      "outputs": [
        {
          "output_type": "execute_result",
          "data": {
            "text/plain": [
              "1.0"
            ]
          },
          "metadata": {
            "tags": []
          },
          "execution_count": 235
        }
      ]
    },
    {
      "cell_type": "markdown",
      "metadata": {
        "id": "xAdvyboWpT8C",
        "colab_type": "text"
      },
      "source": [
        "**Now we update the weight vector using the update rule $$w \\leftarrow w - \\frac{\\alpha}{N}X^T(y-t)$$**"
      ]
    },
    {
      "cell_type": "code",
      "metadata": {
        "id": "0uqaxsfvpEWH",
        "colab_type": "code",
        "colab": {}
      },
      "source": [
        "w_init_grad_desc = w_init_grad_desc - alpha/N * np.dot(X_train_housing_scaled_np.T,(y_gd_pred_train_scaled_np-y_train_housing_scaled_np))"
      ],
      "execution_count": 236,
      "outputs": []
    },
    {
      "cell_type": "code",
      "metadata": {
        "id": "O5IcGu2epb5z",
        "colab_type": "code",
        "colab": {
          "base_uri": "https://localhost:8080/",
          "height": 281
        },
        "outputId": "664cf3bb-0529-469e-f8a0-72f4f8faf185"
      },
      "source": [
        "plt.plot(w_init_grad_desc)"
      ],
      "execution_count": 237,
      "outputs": [
        {
          "output_type": "execute_result",
          "data": {
            "text/plain": [
              "[<matplotlib.lines.Line2D at 0x7efdc8f72748>]"
            ]
          },
          "metadata": {
            "tags": []
          },
          "execution_count": 237
        },
        {
          "output_type": "display_data",
          "data": {
            "image/png": "[encoded data removed]",
            "text/plain": [
              "<Figure size 432x288 with 1 Axes>"
            ]
          },
          "metadata": {
            "tags": [],
            "needs_background": "light"
          }
        }
      ]
    },
    {
      "cell_type": "markdown",
      "metadata": {
        "id": "7oI18bRApnLH",
        "colab_type": "text"
      },
      "source": [
        "**After we apply the update rule, we try `y` again and check for the `RMSE` value that it yields**"
      ]
    },
    {
      "cell_type": "code",
      "metadata": {
        "id": "8yzV5ILUpfG5",
        "colab_type": "code",
        "colab": {}
      },
      "source": [
        "y_gd_pred_train_scaled_np = np.dot(X_train_housing_scaled_np, w_init_grad_desc) + b\n",
        "rmses_gd.append(rmse(y_gd_pred_train_scaled_np, y_train_housing_scaled_np))"
      ],
      "execution_count": 238,
      "outputs": []
    },
    {
      "cell_type": "code",
      "metadata": {
        "id": "P2OllsNLpttC",
        "colab_type": "code",
        "colab": {
          "base_uri": "https://localhost:8080/",
          "height": 33
        },
        "outputId": "d808a260-1af0-4b70-be7e-a877d6ee2538"
      },
      "source": [
        "rmses_gd"
      ],
      "execution_count": 239,
      "outputs": [
        {
          "output_type": "execute_result",
          "data": {
            "text/plain": [
              "[0.9974678247253558]"
            ]
          },
          "metadata": {
            "tags": []
          },
          "execution_count": 239
        }
      ]
    },
    {
      "cell_type": "markdown",
      "metadata": {
        "id": "IoJ24T4mp2RU",
        "colab_type": "text"
      },
      "source": [
        "### Training the gradient descent with 10,000 epochs "
      ]
    },
    {
      "cell_type": "code",
      "metadata": {
        "id": "blNSh9tvpyWZ",
        "colab_type": "code",
        "colab": {}
      },
      "source": [
        "rmses_gd_test = []\n",
        "for i in range(0,10000): \n",
        "  w_init_grad_desc = w_init_grad_desc - alpha/N * np.dot(X_train_housing_scaled_np.T,(y_gd_pred_train_scaled_np-y_train_housing_scaled_np))\n",
        "  y_gd_pred_train_scaled_np = np.dot(X_train_housing_scaled_np, w_init_grad_desc) + b\n",
        "  rmse_loss = rmse(y_gd_pred_train_scaled_np, y_train_housing_scaled_np)\n",
        "  rmses_gd.append(rmse_loss)\n",
        "\n",
        "  y_gd_pred_test_scaled_np = np.dot(X_test_housing_scaled_np, w_init_grad_desc)\n",
        "  rmses_gd_test.append(rmse(y_gd_pred_test_scaled_np, y_test_housing_scaled_np))"
      ],
      "execution_count": 240,
      "outputs": []
    },
    {
      "cell_type": "code",
      "metadata": {
        "id": "jIkUnwD1p9k2",
        "colab_type": "code",
        "colab": {
          "base_uri": "https://localhost:8080/",
          "height": 311
        },
        "outputId": "d5786d52-f699-4cac-d296-c71fada05cbf"
      },
      "source": [
        "plt.plot(rmses_gd, label='training RMSE')\n",
        "plt.plot(rmses_gd_test, label='test RMSE')\n",
        "plt.xlabel(\"Number of iterations\")\n",
        "plt.ylabel(\"RMSE loss\")\n",
        "\n",
        "plt.legend()\n",
        "plt.title(\"RMSE Loss\")"
      ],
      "execution_count": 250,
      "outputs": [
        {
          "output_type": "execute_result",
          "data": {
            "text/plain": [
              "Text(0.5, 1.0, 'RMSE Loss')"
            ]
          },
          "metadata": {
            "tags": []
          },
          "execution_count": 250
        },
        {
          "output_type": "display_data",
          "data": {
            "image/png": "[encoded data removed]",
            "text/plain": [
              "<Figure size 432x288 with 1 Axes>"
            ]
          },
          "metadata": {
            "tags": [],
            "needs_background": "light"
          }
        }
      ]
    },
    {
      "cell_type": "markdown",
      "metadata": {
        "id": "yN8bNQjbqFnw",
        "colab_type": "text"
      },
      "source": [
        "### **Showing how predicted and true values compare for the training set for random segments**"
      ]
    },
    {
      "cell_type": "code",
      "metadata": {
        "id": "M0p3FimJqAuX",
        "colab_type": "code",
        "colab": {
          "base_uri": "https://localhost:8080/",
          "height": 297
        },
        "outputId": "75d1729c-6f0f-4174-b0a2-24acc27458cf"
      },
      "source": [
        "initial_value = 10000\n",
        "end_value = 10050\n",
        "\n",
        "plt.plot(np.arange(initial_value, end_value), y_gd_pred_train_scaled_np[initial_value:end_value], label='prediction on training set')\n",
        "plt.plot(np.arange(initial_value, end_value), y_train_housing_scaled_np[initial_value:end_value], label='true value on training set')\n",
        "plt.title(\"Training vs Testing sets using Gradient Descent\")\n",
        "plt.legend()"
      ],
      "execution_count": 227,
      "outputs": [
        {
          "output_type": "execute_result",
          "data": {
            "text/plain": [
              "<matplotlib.legend.Legend at 0x7efdc911ad30>"
            ]
          },
          "metadata": {
            "tags": []
          },
          "execution_count": 227
        },
        {
          "output_type": "display_data",
          "data": {
            "image/png": "[encoded data removed]",
            "text/plain": [
              "<Figure size 432x288 with 1 Axes>"
            ]
          },
          "metadata": {
            "tags": [],
            "needs_background": "light"
          }
        }
      ]
    },
    {
      "cell_type": "markdown",
      "metadata": {
        "id": "34d5ChS-qYsL",
        "colab_type": "text"
      },
      "source": [
        "### **We will compute the loss on the testing set by multiplying the fitted weight vector with the `X_train` set.**"
      ]
    },
    {
      "cell_type": "code",
      "metadata": {
        "id": "KIfr8a3fqLX9",
        "colab_type": "code",
        "colab": {
          "base_uri": "https://localhost:8080/",
          "height": 33
        },
        "outputId": "e300897e-1155-4516-aa7d-d48060f30e64"
      },
      "source": [
        "y_gd_pred_test_scaled_np = np.dot(X_test_housing_scaled_np, w_init_grad_desc)\n",
        "rmse(y_gd_pred_test_scaled_np, y_test_housing_scaled_np)"
      ],
      "execution_count": 247,
      "outputs": [
        {
          "output_type": "execute_result",
          "data": {
            "text/plain": [
              "0.62845571514499"
            ]
          },
          "metadata": {
            "tags": []
          },
          "execution_count": 247
        }
      ]
    },
    {
      "cell_type": "code",
      "metadata": {
        "id": "eRvqNP1Nqyqr",
        "colab_type": "code",
        "colab": {
          "base_uri": "https://localhost:8080/",
          "height": 33
        },
        "outputId": "de4b19f7-1d45-4c90-b8dd-92980c719a9d"
      },
      "source": [
        "np.dot(X_train_housing_scaled_np, w_init_grad_desc) + b\n",
        "\n",
        "rmse(y_gd_pred_train_scaled_np, y_train_housing_scaled_np)"
      ],
      "execution_count": 248,
      "outputs": [
        {
          "output_type": "execute_result",
          "data": {
            "text/plain": [
              "0.5470868053522997"
            ]
          },
          "metadata": {
            "tags": []
          },
          "execution_count": 248
        }
      ]
    },
    {
      "cell_type": "markdown",
      "metadata": {
        "id": "gJvHDYY1toB1",
        "colab_type": "text"
      },
      "source": [
        "### Trying with a different learning rate to see if we can decrease the testing error "
      ]
    },
    {
      "cell_type": "code",
      "metadata": {
        "id": "00mbAHwvsN_X",
        "colab_type": "code",
        "colab": {
          "base_uri": "https://localhost:8080/",
          "height": 311
        },
        "outputId": "cfce05d1-e9c2-464c-82cf-c304810ee2b4"
      },
      "source": [
        "w_init_grad_desc = np.zeros((num_features,1))\n",
        "b = np.zeros((training_set_size,1))\n",
        "alpha = 0.01\n",
        "N = training_set_size\n",
        "rmses_gd = []\n",
        "rmses_gd_test = []\n",
        "\n",
        "\n",
        "for i in range(0,10000): \n",
        "  w_init_grad_desc = w_init_grad_desc - alpha/N * np.dot(X_train_housing_scaled_np.T,(y_gd_pred_train_scaled_np-y_train_housing_scaled_np))\n",
        "  y_gd_pred_train_scaled_np = np.dot(X_train_housing_scaled_np, w_init_grad_desc) + b\n",
        "  rmse_loss = rmse(y_gd_pred_train_scaled_np, y_train_housing_scaled_np)\n",
        "  rmses_gd.append(rmse_loss)\n",
        "\n",
        "  y_gd_pred_test_scaled_np = np.dot(X_test_housing_scaled_np, w_init_grad_desc)\n",
        "  rmses_gd_test.append(rmse(y_gd_pred_test_scaled_np, y_test_housing_scaled_np))\n",
        "\n",
        "plt.plot(rmses_gd, label='training RMSE')\n",
        "plt.plot(rmses_gd_test, label='test RMSE')\n",
        "plt.xlabel(\"Number of iterations\")\n",
        "plt.ylabel(\"RMSE loss\")\n",
        "\n",
        "plt.title(\"RMSE Loss, alpha:{}\".format(alpha))\n",
        "plt.legend()"
      ],
      "execution_count": 251,
      "outputs": [
        {
          "output_type": "execute_result",
          "data": {
            "text/plain": [
              "<matplotlib.legend.Legend at 0x7efdc8d1da90>"
            ]
          },
          "metadata": {
            "tags": []
          },
          "execution_count": 251
        },
        {
          "output_type": "display_data",
          "data": {
            "image/png": "[encoded data removed]",
            "text/plain": [
              "<Figure size 432x288 with 1 Axes>"
            ]
          },
          "metadata": {
            "tags": [],
            "needs_background": "light"
          }
        }
      ]
    },
    {
      "cell_type": "code",
      "metadata": {
        "id": "58qZvB8xt-My",
        "colab_type": "code",
        "colab": {
          "base_uri": "https://localhost:8080/",
          "height": 33
        },
        "outputId": "8e8fb615-f1bf-41d9-b752-43b63c4f8b0b"
      },
      "source": [
        "y_gd_pred_test_scaled_np = np.dot(X_test_housing_scaled_np, w_init_grad_desc)\n",
        "rmse(y_gd_pred_test_scaled_np, y_test_housing_scaled_np)"
      ],
      "execution_count": 252,
      "outputs": [
        {
          "output_type": "execute_result",
          "data": {
            "text/plain": [
              "0.628350745205754"
            ]
          },
          "metadata": {
            "tags": []
          },
          "execution_count": 252
        }
      ]
    },
    {
      "cell_type": "code",
      "metadata": {
        "id": "DYW-RPUOuKlf",
        "colab_type": "code",
        "colab": {}
      },
      "source": [
        ""
      ],
      "execution_count": null,
      "outputs": []
    }
  ]
}